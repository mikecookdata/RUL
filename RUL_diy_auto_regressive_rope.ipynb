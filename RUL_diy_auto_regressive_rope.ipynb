{
 "cells": [
  {
   "cell_type": "code",
   "execution_count": 1,
   "metadata": {},
   "outputs": [
    {
     "name": "stdout",
     "output_type": "stream",
     "text": [
      "Using device: cuda\n"
     ]
    }
   ],
   "source": [
    "import numpy as np\n",
    "import pandas as pd\n",
    "import torch\n",
    "import torch.nn as nn\n",
    "from torch.utils.data import DataLoader, TensorDataset\n",
    "from sklearn.preprocessing import StandardScaler\n",
    "from torch.optim.lr_scheduler import ReduceLROnPlateau\n",
    "import plotly.express as px\n",
    "import random\n",
    "import os\n",
    "has_mps = torch.backends.mps.is_built()\n",
    "# device = \"cpu\"\n",
    "device = \"mps\" if has_mps else \"cuda\" if torch.cuda.is_available() else \"cpu\"\n",
    "print(f\"Using device: {device}\")"
   ]
  },
  {
   "cell_type": "code",
   "execution_count": 2,
   "metadata": {},
   "outputs": [],
   "source": [
    "def set_seed(seed):\n",
    "    random.seed(seed)                       # Python RNG\n",
    "    np.random.seed(seed)                    # NumPy RNG\n",
    "    torch.manual_seed(seed)                 # PyTorch CPU RNG\n",
    "    torch.cuda.manual_seed(seed)            # PyTorch current GPU RNG\n",
    "    torch.cuda.manual_seed_all(seed)        # PyTorch all GPU RNGs\n",
    "\n",
    "    torch.backends.cudnn.deterministic = True\n",
    "    torch.backends.cudnn.benchmark = False  # Better reproducibility\n",
    "\n",
    "    os.environ[\"PYTHONHASHSEED\"] = str(seed)  # For hash-based functions\n",
    "\n",
    "# Example usage\n",
    "set_seed(18)"
   ]
  },
  {
   "cell_type": "code",
   "execution_count": 3,
   "metadata": {},
   "outputs": [
    {
     "data": {
      "text/plain": [
       "Index(['cycle', 'capacity_CS2_35', 'capacity_CS2_36', 'capacity_CS2_37',\n",
       "       'capacity_CS2_38'],\n",
       "      dtype='object')"
      ]
     },
     "execution_count": 3,
     "metadata": {},
     "output_type": "execute_result"
    }
   ],
   "source": [
    "fn = \"./datasets/CALCE/CALCE.csv\"\n",
    "df = pd.read_csv(fn)\n",
    "df.columns"
   ]
  },
  {
   "cell_type": "code",
   "execution_count": 4,
   "metadata": {},
   "outputs": [],
   "source": [
    "spots_train_1 = df[\"capacity_CS2_36\"].to_numpy().reshape(-1, 1)\n",
    "spots_train_2 = df[\"capacity_CS2_37\"].to_numpy().reshape(-1, 1)\n",
    "spots_train_3 = df[\"capacity_CS2_38\"].to_numpy().reshape(-1, 1)\n",
    "\n",
    "spots_test = df[\"capacity_CS2_35\"].to_numpy().reshape(-1, 1)"
   ]
  },
  {
   "cell_type": "code",
   "execution_count": 5,
   "metadata": {},
   "outputs": [],
   "source": [
    "scaler = StandardScaler()\n",
    "spots_train_1 = scaler.fit_transform(spots_train_1).flatten().tolist()\n",
    "spots_train_2 = scaler.fit_transform(spots_train_2).flatten().tolist()\n",
    "spots_train_3 = scaler.fit_transform(spots_train_3).flatten().tolist()\n",
    "\n",
    "spots_test = scaler.transform(spots_test).flatten().tolist()\n",
    "\n",
    "# Sequence Data Preparation\n",
    "SEQUENCE_SIZE = 30"
   ]
  },
  {
   "cell_type": "code",
   "execution_count": 6,
   "metadata": {},
   "outputs": [
    {
     "data": {
      "text/plain": [
       "'DataLoader\\n- Batches data for efficienct training\\n- Shuffles data befoe each epoch to prevent model from memorizing the order\\nIt randomly select batch(32) size from train_dataset and group them into a batch [32, (sequence)10, 1] for x_train and [32, 1] for y_train\\nreturn as PyTorch Tensor for training\\n'"
      ]
     },
     "execution_count": 6,
     "metadata": {},
     "output_type": "execute_result"
    }
   ],
   "source": [
    "\n",
    "\n",
    "def to_sequences(seq_size, obs):\n",
    "    x = []\n",
    "    y = []\n",
    "    for i in range(len(obs) - seq_size):\n",
    "        window = obs[i:(i + seq_size)]\n",
    "        after_window = obs[i + seq_size]\n",
    "        x.append(window)\n",
    "        y.append(after_window)\n",
    "    return torch.tensor(x, dtype=torch.float32).view(-1, seq_size, 1), torch.tensor(y, dtype=torch.float32).view(-1, 1)\n",
    "\n",
    "x_train_1, y_train_1 = to_sequences(SEQUENCE_SIZE, spots_train_1)\n",
    "x_train_2, y_train_2 = to_sequences(SEQUENCE_SIZE, spots_train_2)\n",
    "x_train_3, y_train_3 = to_sequences(SEQUENCE_SIZE, spots_train_3)\n",
    "x_test, y_test = to_sequences(SEQUENCE_SIZE, spots_test)\n",
    "\n",
    "# Setup data loaders for batch\n",
    "'''TensorDataset\n",
    "- TensorDataset is a special PyTorch wrapper that combines muliple tensors into a single dataset\n",
    "- x_train and y_train must have the same first dimension\n",
    "- this allows easy retrieval of (input, target) pairs during training\n",
    "- makes integration with DataLoader seamless\n",
    "'''\n",
    "\n",
    "'''DataLoader\n",
    "- Batches data for efficienct training\n",
    "- Shuffles data befoe each epoch to prevent model from memorizing the order\n",
    "It randomly select batch(32) size from train_dataset and group them into a batch [32, (sequence)10, 1] for x_train and [32, 1] for y_train\n",
    "return as PyTorch Tensor for training\n",
    "'''\n",
    "\n"
   ]
  },
  {
   "cell_type": "code",
   "execution_count": 7,
   "metadata": {},
   "outputs": [
    {
     "data": {
      "text/plain": [
       "torch.Size([852, 30, 1])"
      ]
     },
     "execution_count": 7,
     "metadata": {},
     "output_type": "execute_result"
    }
   ],
   "source": [
    "x_train_1.shape\n"
   ]
  },
  {
   "cell_type": "code",
   "execution_count": 8,
   "metadata": {},
   "outputs": [
    {
     "data": {
      "text/plain": [
       "torch.Size([852, 30, 1])"
      ]
     },
     "execution_count": 8,
     "metadata": {},
     "output_type": "execute_result"
    }
   ],
   "source": [
    "x_train_2.shape"
   ]
  },
  {
   "cell_type": "code",
   "execution_count": 9,
   "metadata": {},
   "outputs": [],
   "source": [
    "x_train = torch.cat((x_train_1, x_train_2, x_train_3), dim=0)\n",
    "y_train = torch.cat((y_train_1, y_train_2, y_train_3), dim=0)"
   ]
  },
  {
   "cell_type": "code",
   "execution_count": 10,
   "metadata": {},
   "outputs": [],
   "source": [
    "train_dataset = TensorDataset(x_train, y_train)\n",
    "train_loader = DataLoader(train_dataset, batch_size=32, shuffle=True)\n",
    "\n",
    "test_dataset = TensorDataset(x_test, y_test)\n",
    "test_loader = DataLoader(test_dataset, batch_size=32, shuffle=False)"
   ]
  },
  {
   "cell_type": "code",
   "execution_count": 11,
   "metadata": {},
   "outputs": [],
   "source": [
    "import torch\n",
    "import torch.nn as nn\n",
    "import numpy as np\n",
    "import math\n",
    "\n",
    "# Rotary Positional Encoding (RoPE)\n",
    "class RotaryPositionalEncoding(nn.Module):\n",
    "    def __init__(self, d_model, max_len=5000):\n",
    "        super(RotaryPositionalEncoding, self).__init__()\n",
    "        self.d_model = d_model\n",
    "        self.max_len = max_len\n",
    "        \n",
    "        # Initialize frequency for rotation\n",
    "        self.freqs = 1.0 / (10000 ** (torch.arange(0, d_model, 2).float() / d_model))\n",
    "        \n",
    "    def _rotate_half(self, x):\n",
    "        x1, x2 = x[..., :x.shape[-1]//2], x[..., x.shape[-1]//2:]\n",
    "        return torch.cat((-x2, x1), dim=-1)\n",
    "    \n",
    "    def forward(self, q, k, positions):\n",
    "        # q, k: [batch_size, nhead, seq_len, head_dim]\n",
    "        # positions: [seq_len]\n",
    "        \n",
    "        # Expand positions to match batch size and number of heads\n",
    "        # [seq_len] -> [seq_len, dim//2]\n",
    "        seq_len = positions.shape[0]\n",
    "        cos_pos = positions.unsqueeze(1) * self.freqs.to(positions.device)\n",
    "        sin_pos = positions.unsqueeze(1) * self.freqs.to(positions.device)\n",
    "        \n",
    "        # [seq_len, dim//2] -> [seq_len, dim]\n",
    "        cos_pos = torch.cat([cos_pos, cos_pos], dim=1)\n",
    "        sin_pos = torch.cat([sin_pos, sin_pos], dim=1)\n",
    "        \n",
    "        # [seq_len, dim] -> [1, 1, seq_len, dim]\n",
    "        cos_pos = cos_pos.unsqueeze(0).unsqueeze(0)\n",
    "        sin_pos = sin_pos.unsqueeze(0).unsqueeze(0)\n",
    "        \n",
    "        # Apply rotary embeddings\n",
    "        q_cos = cos_pos * q\n",
    "        q_sin = sin_pos * self._rotate_half(q)\n",
    "        q_out = q_cos + q_sin\n",
    "        \n",
    "        k_cos = cos_pos * k\n",
    "        k_sin = sin_pos * self._rotate_half(k)\n",
    "        k_out = k_cos + k_sin\n",
    "        \n",
    "        return q_out, k_out\n",
    "\n",
    "# Modified TransformerEncoderLayer with RoPE\n",
    "class RoPETransformerEncoderLayer(nn.Module):\n",
    "    def __init__(self, d_model, nhead, dropout=0.1):\n",
    "        super(RoPETransformerEncoderLayer, self).__init__()\n",
    "        self.d_model = d_model\n",
    "        self.nhead = nhead\n",
    "        self.head_dim = d_model // nhead\n",
    "        \n",
    "        # Multi-head attention components\n",
    "        self.q_proj = nn.Linear(d_model, d_model)\n",
    "        self.k_proj = nn.Linear(d_model, d_model)\n",
    "        self.v_proj = nn.Linear(d_model, d_model)\n",
    "        self.o_proj = nn.Linear(d_model, d_model)\n",
    "        \n",
    "        # RoPE\n",
    "        self.rope = RotaryPositionalEncoding(self.head_dim)\n",
    "        \n",
    "        # Feed forward network\n",
    "        self.linear1 = nn.Linear(d_model, d_model * 4)\n",
    "        self.dropout = nn.Dropout(dropout)\n",
    "        self.linear2 = nn.Linear(d_model * 4, d_model)\n",
    "        \n",
    "        # Layer normalization\n",
    "        self.norm1 = nn.LayerNorm(d_model)\n",
    "        self.norm2 = nn.LayerNorm(d_model)\n",
    "        \n",
    "        self.dropout1 = nn.Dropout(dropout)\n",
    "        self.dropout2 = nn.Dropout(dropout)\n",
    "        \n",
    "    def forward(self, src, mask=None):\n",
    "        # src shape: [seq_len, batch_size, d_model]\n",
    "        seq_len, batch_size, _ = src.shape\n",
    "        \n",
    "        # Apply first normalization\n",
    "        src2 = self.norm1(src)\n",
    "        \n",
    "        # Project queries, keys, values\n",
    "        q = self.q_proj(src2).view(seq_len, batch_size, self.nhead, self.head_dim)\n",
    "        k = self.k_proj(src2).view(seq_len, batch_size, self.nhead, self.head_dim)\n",
    "        v = self.v_proj(src2).view(seq_len, batch_size, self.nhead, self.head_dim)\n",
    "        \n",
    "        # Transpose for attention\n",
    "        q = q.permute(1, 2, 0, 3)  # [batch_size, nhead, seq_len, head_dim]\n",
    "        k = k.permute(1, 2, 0, 3)  # [batch_size, nhead, seq_len, head_dim]\n",
    "        v = v.permute(1, 2, 0, 3)  # [batch_size, nhead, seq_len, head_dim]\n",
    "        \n",
    "        # Create position indices\n",
    "        positions = torch.arange(seq_len, device=src.device)\n",
    "        \n",
    "        # Apply RoPE to queries and keys\n",
    "        q_rope, k_rope = self.rope(q, k, positions)\n",
    "        \n",
    "        # Compute attention scores\n",
    "        attn_output_weights = torch.matmul(q_rope, k_rope.transpose(-2, -1)) / math.sqrt(self.head_dim)\n",
    "        \n",
    "        # Apply causal mask if provided\n",
    "        if mask is not None:\n",
    "            attn_output_weights = attn_output_weights + mask.unsqueeze(0).unsqueeze(0)\n",
    "        \n",
    "        # Apply softmax to get attention weights\n",
    "        attn_output_weights = torch.softmax(attn_output_weights, dim=-1)\n",
    "        \n",
    "        # Apply attention to values\n",
    "        attn_output = torch.matmul(attn_output_weights, v)  # [batch_size, nhead, seq_len, head_dim]\n",
    "        \n",
    "        # Reshape and project output\n",
    "        attn_output = attn_output.permute(2, 0, 1, 3).contiguous().view(seq_len, batch_size, self.d_model)\n",
    "        attn_output = self.o_proj(attn_output)\n",
    "        \n",
    "        # Apply residual connection and dropout\n",
    "        src = src + self.dropout1(attn_output)\n",
    "        \n",
    "        # Apply second normalization\n",
    "        src2 = self.norm2(src)\n",
    "        \n",
    "        # Feed forward network\n",
    "        src2 = self.linear2(self.dropout(torch.relu(self.linear1(src2))))\n",
    "        \n",
    "        # Apply residual connection and dropout\n",
    "        src = src + self.dropout2(src2)\n",
    "        \n",
    "        return src\n",
    "\n",
    "# Custom TransformerEncoder using RoPE\n",
    "class RoPETransformerEncoder(nn.Module):\n",
    "    def __init__(self, encoder_layer, num_layers):\n",
    "        super(RoPETransformerEncoder, self).__init__()\n",
    "        self.layers = nn.ModuleList([encoder_layer for _ in range(num_layers)])\n",
    "        \n",
    "    def forward(self, src, mask=None):\n",
    "        output = src\n",
    "        for layer in self.layers:\n",
    "            output = layer(output, mask=mask)\n",
    "        return output\n",
    "\n",
    "# Helper function to generate causal mask\n",
    "def generate_causal_mask(sz, device):\n",
    "    mask = torch.triu(torch.ones(sz, sz, device=device) * float('-inf'), diagonal=1)\n",
    "    return mask\n",
    "\n",
    "# Updated Transformer Model with RoPE\n",
    "class TransformerModel(nn.Module):\n",
    "    def __init__(self, input_dim=1, d_model=64, nhead=4, num_layers=2, dropout=0.2):\n",
    "        super(TransformerModel, self).__init__()\n",
    "\n",
    "        self.encoder = nn.Linear(input_dim, d_model)\n",
    "        \n",
    "        # Create RoPE transformer encoder layers\n",
    "        encoder_layer = RoPETransformerEncoderLayer(d_model, nhead, dropout=dropout)\n",
    "        self.transformer_encoder = RoPETransformerEncoder(encoder_layer, num_layers)\n",
    "        \n",
    "        self.decoder = nn.Linear(d_model, 1)\n",
    "        self.apply(self._init_weights)\n",
    "\n",
    "    def _init_weights(self, module):\n",
    "        if isinstance(module, nn.Linear):\n",
    "            torch.nn.init.normal_(module.weight, mean=0.0, std=0.02)\n",
    "            if module.bias is not None:\n",
    "                torch.nn.init.zeros_(module.bias)\n",
    "\n",
    "    def forward(self, x):\n",
    "        # x shape: [batch_size, seq_len, input_dim]\n",
    "        batch_size, seq_len, _ = x.size()\n",
    "\n",
    "        x = self.encoder(x)  # [batch_size, seq_len, d_model]\n",
    "        x = x.transpose(0, 1)  # [seq_len, batch_size, d_model]\n",
    "        \n",
    "        # No separate positional encoding - RoPE is applied within the attention mechanism\n",
    "        causal_mask = generate_causal_mask(seq_len, x.device)  # [seq_len, seq_len]\n",
    "        \n",
    "        x = self.transformer_encoder(x, mask=causal_mask)\n",
    "\n",
    "        x = x.transpose(0, 1)  # [batch_size, seq_len, d_model]\n",
    "        out = self.decoder(x[:, -1, :])  # take the last time step\n",
    "        return out"
   ]
  },
  {
   "cell_type": "code",
   "execution_count": 12,
   "metadata": {},
   "outputs": [
    {
     "name": "stderr",
     "output_type": "stream",
     "text": [
      "c:\\Users\\Mike\\miniconda3\\envs\\py310\\lib\\site-packages\\transformers\\utils\\generic.py:441: UserWarning: torch.utils._pytree._register_pytree_node is deprecated. Please use torch.utils._pytree.register_pytree_node instead.\n",
      "  _torch_pytree._register_pytree_node(\n",
      "c:\\Users\\Mike\\miniconda3\\envs\\py310\\lib\\site-packages\\torch\\optim\\lr_scheduler.py:28: UserWarning: The verbose parameter is deprecated. Please use get_last_lr() to access the learning rate.\n",
      "  warnings.warn(\"The verbose parameter is deprecated. Please use get_last_lr() \"\n"
     ]
    },
    {
     "name": "stdout",
     "output_type": "stream",
     "text": [
      "Epoch 1/1000, Train Loss: 0.1846, Validation Loss: 0.1616\n",
      "Epoch 2/1000, Train Loss: 0.0211, Validation Loss: 0.1224\n",
      "Epoch 3/1000, Train Loss: 0.0181, Validation Loss: 0.0908\n",
      "Epoch 4/1000, Train Loss: 0.0184, Validation Loss: 0.0988\n",
      "Epoch 5/1000, Train Loss: 0.0162, Validation Loss: 0.1146\n",
      "Epoch 6/1000, Train Loss: 0.0157, Validation Loss: 0.0861\n",
      "Epoch 7/1000, Train Loss: 0.0169, Validation Loss: 0.1412\n",
      "Epoch 8/1000, Train Loss: 0.0154, Validation Loss: 0.1286\n",
      "Epoch 9/1000, Train Loss: 0.0149, Validation Loss: 0.0542\n",
      "Epoch 10/1000, Train Loss: 0.0151, Validation Loss: 0.0683\n",
      "Epoch 11/1000, Train Loss: 0.0159, Validation Loss: 0.0942\n",
      "Epoch 12/1000, Train Loss: 0.0152, Validation Loss: 0.1045\n",
      "Epoch 13/1000, Train Loss: 0.0139, Validation Loss: 0.0734\n",
      "Early stopping!\n"
     ]
    }
   ],
   "source": [
    "model = TransformerModel().to(device)\n",
    "\n",
    "# Train the model\n",
    "criterion = nn.MSELoss()\n",
    "optimizer = torch.optim.Adam(model.parameters(), lr=0.001)\n",
    "scheduler = ReduceLROnPlateau(optimizer, 'min', factor=0.5, patience=3, verbose=True)\n",
    "\n",
    "epochs = 1000\n",
    "early_stop_count = 0\n",
    "min_val_loss = float('inf')\n",
    "\n",
    "for epoch in range(epochs):\n",
    "    model.train()\n",
    "    train_losses = []\n",
    "    for batch in train_loader:\n",
    "        x_batch, y_batch = batch\n",
    "        x_batch, y_batch = x_batch.to(device), y_batch.to(device)\n",
    "\n",
    "        optimizer.zero_grad()\n",
    "        outputs = model(x_batch)\n",
    "        loss = criterion(outputs, y_batch)\n",
    "        train_losses.append(loss.item())\n",
    "        loss.backward() # calculate gradients\n",
    "        optimizer.step() # update weights based on gradients and learning rate\n",
    "\n",
    "    train_loss = np.mean(train_losses)\n",
    "\n",
    "    # Validation\n",
    "    model.eval()\n",
    "    val_losses = []\n",
    "    with torch.no_grad():\n",
    "        for batch in test_loader:\n",
    "            x_batch, y_batch = batch\n",
    "            x_batch, y_batch = x_batch.to(device), y_batch.to(device)\n",
    "            outputs = model(x_batch)\n",
    "            loss = criterion(outputs, y_batch)\n",
    "            val_losses.append(loss.item())\n",
    "\n",
    "    val_loss = np.mean(val_losses)\n",
    "    scheduler.step(val_loss)\n",
    "\n",
    "    if val_loss < min_val_loss:\n",
    "        min_val_loss = val_loss\n",
    "        early_stop_count = 0\n",
    "    else:\n",
    "        early_stop_count += 1\n",
    "\n",
    "    if early_stop_count >= 5:\n",
    "        print(\"Early stopping!\")\n",
    "        break\n",
    "    print(f\"Epoch {epoch + 1}/{epochs}, Train Loss: {train_loss:.4f}, Validation Loss: {val_loss:.4f}\")\n",
    "    \n",
    "# Evaluation\n",
    "from sklearn.metrics import mean_absolute_error\n",
    "# Evaluation\n",
    "model.eval()\n",
    "predictions = []\n",
    "actuals = []\n",
    "\n",
    "with torch.no_grad():\n",
    "    for batch in test_loader:\n",
    "        x_batch, y_batch = batch\n",
    "        x_batch = x_batch.to(device)\n",
    "        outputs = model(x_batch)\n",
    "        predictions.extend(outputs.squeeze().tolist())\n",
    "        actuals.extend(y_batch.squeeze().tolist())\n",
    "\n"
   ]
  },
  {
   "cell_type": "code",
   "execution_count": 13,
   "metadata": {},
   "outputs": [
    {
     "name": "stdout",
     "output_type": "stream",
     "text": [
      "Score (Relative Error): 0.0328\n",
      "Score (MAE): 0.0148\n",
      "Score (RMSE): 0.0321\n"
     ]
    }
   ],
   "source": [
    "# Convert to numpy arrays and inverse transform\n",
    "predictions = np.array(predictions).reshape(-1, 1)\n",
    "actuals = np.array(actuals).reshape(-1, 1)\n",
    "\n",
    "predictions_inv = scaler.inverse_transform(predictions)\n",
    "actuals_inv = scaler.inverse_transform(actuals)\n",
    "\n",
    "# Compute Scores\n",
    "rmse = np.sqrt(np.mean((predictions_inv - actuals_inv) ** 2))\n",
    "mae = mean_absolute_error(actuals_inv, predictions_inv)\n",
    "re = np.mean(np.abs((actuals_inv - predictions_inv) / actuals_inv))  # Percentage form\n",
    "\n",
    "\n",
    "print(f\"Score (Relative Error): {re:.4f}\")\n",
    "print(f\"Score (MAE): {mae:.4f}\")\n",
    "print(f\"Score (RMSE): {rmse:.4f}\")\n"
   ]
  },
  {
   "cell_type": "code",
   "execution_count": 14,
   "metadata": {},
   "outputs": [],
   "source": [
    "# auto_regressive both improve performance and needs less training resources"
   ]
  }
 ],
 "metadata": {
  "kernelspec": {
   "display_name": "py310",
   "language": "python",
   "name": "python3"
  },
  "language_info": {
   "codemirror_mode": {
    "name": "ipython",
    "version": 3
   },
   "file_extension": ".py",
   "mimetype": "text/x-python",
   "name": "python",
   "nbconvert_exporter": "python",
   "pygments_lexer": "ipython3",
   "version": "3.10.11"
  }
 },
 "nbformat": 4,
 "nbformat_minor": 2
}
