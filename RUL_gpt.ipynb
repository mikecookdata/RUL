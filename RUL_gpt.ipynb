{
 "cells": [
  {
   "cell_type": "code",
   "execution_count": 15,
   "metadata": {},
   "outputs": [
    {
     "name": "stdout",
     "output_type": "stream",
     "text": [
      "Using device: mps\n"
     ]
    }
   ],
   "source": [
    "import numpy as np\n",
    "import pandas as pd\n",
    "import torch\n",
    "import torch.nn as nn\n",
    "from torch.utils.data import DataLoader, TensorDataset\n",
    "from sklearn.preprocessing import StandardScaler\n",
    "from torch.optim.lr_scheduler import ReduceLROnPlateau\n",
    "from icecream import ic\n",
    "import plotly.express as px\n",
    "from model_gpt import GPTLanguageModel\n",
    "has_mps = torch.backends.mps.is_built()\n",
    "# device = \"cpu\"\n",
    "device = \"mps\" if has_mps else \"cuda\" if torch.cuda.is_available() else \"cpu\"\n",
    "print(f\"Using device: {device}\")"
   ]
  },
  {
   "cell_type": "code",
   "execution_count": 2,
   "metadata": {},
   "outputs": [
    {
     "data": {
      "text/plain": [
       "Index(['cycle', 'capacity_CS2_35', 'capacity_CS2_36', 'capacity_CS2_37',\n",
       "       'capacity_CS2_38'],\n",
       "      dtype='object')"
      ]
     },
     "execution_count": 2,
     "metadata": {},
     "output_type": "execute_result"
    }
   ],
   "source": [
    "fn = \"./datasets/CALCE/CALCE.csv\"\n",
    "df = pd.read_csv(fn)\n",
    "df.columns"
   ]
  },
  {
   "cell_type": "code",
   "execution_count": null,
   "metadata": {},
   "outputs": [],
   "source": [
    "spots_train = df[\"capacity_CS2_36\"].dropna().to_numpy().reshape(-1, 1)\n",
    "spots_test = df[\"capacity_CS2_35\"].dropna().to_numpy().reshape(-1, 1)"
   ]
  },
  {
   "cell_type": "code",
   "execution_count": 10,
   "metadata": {},
   "outputs": [
    {
     "name": "stdout",
     "output_type": "stream",
     "text": [
      "spots_train.shape: (936, 1)\n",
      "spots_train[0:10]: [[1.13380661]\n",
      " [1.13341347]\n",
      " [1.13282861]\n",
      " [1.12703327]\n",
      " [1.12671169]\n",
      " [1.12426102]\n",
      " [1.11501152]\n",
      " [1.10896661]\n",
      " [1.10758826]\n",
      " [1.10577204]]\n",
      "spots_train[-10:]: [[0.17422948]\n",
      " [0.1742386 ]\n",
      " [0.17423711]\n",
      " [0.16506673]\n",
      " [0.16506295]\n",
      " [0.16505914]\n",
      " [0.16507282]\n",
      " [0.16506366]\n",
      " [0.16506664]\n",
      " [0.16505913]]\n"
     ]
    }
   ],
   "source": [
    "print(f'spots_train.shape: {spots_train.shape}')\n",
    "print(f'spots_train[0:10]: {spots_train[0:10]}')\n",
    "print(f'spots_train[-10:]: {spots_train[-10:]}')"
   ]
  },
  {
   "cell_type": "code",
   "execution_count": 11,
   "metadata": {},
   "outputs": [],
   "source": [
    "scaler = StandardScaler()\n",
    "spots_train = scaler.fit_transform(spots_train).flatten().tolist()\n",
    "spots_test = scaler.transform(spots_test).flatten().tolist()\n",
    "# Sequence Data Preparation\n",
    "SEQUENCE_SIZE = 8"
   ]
  },
  {
   "cell_type": "code",
   "execution_count": 14,
   "metadata": {},
   "outputs": [
    {
     "name": "stdout",
     "output_type": "stream",
     "text": [
      "spots_train.len: 936\n",
      "spots_train[0:10]: [1.1998494932510564, 1.1983320561944526, 1.1960746249612668, 1.1737058949769688, 1.1724646418337108, 1.1630056013799308, 1.127304561701165, 1.103972568777473, 1.0986524207465265, 1.0916422094762916]\n",
      "spots_train[-10:]: [-2.503907245103581, -2.503872016219989, -2.5038777726247106, -2.5392734322452553, -2.5392880269808358, -2.539302743065862, -2.5392499156198314, -2.539285286941836, -2.539273770177477, -2.5393027867082005]\n"
     ]
    }
   ],
   "source": [
    "print(f'spots_train.len: {len(spots_train)}')\n",
    "print(f'spots_train[0:10]: {spots_train[0:10]}')\n",
    "print(f'spots_train[-10:]: {spots_train[-10:]}')"
   ]
  },
  {
   "cell_type": "code",
   "execution_count": null,
   "metadata": {},
   "outputs": [
    {
     "data": {
      "text/plain": [
       "'DataLoader\\n- Batches data for efficienct training\\n- Shuffles data befoe each epoch to prevent model from memorizing the order\\nIt randomly select batch(32) size from train_dataset and group them into a batch [32, (sequence)10, 1] for x_train and [32, 1] for y_train\\nreturn as PyTorch Tensor for training\\n'"
      ]
     },
     "execution_count": 5,
     "metadata": {},
     "output_type": "execute_result"
    }
   ],
   "source": [
    "def to_sequences(seq_size, obs):\n",
    "    x = []\n",
    "    y = []\n",
    "    for i in range(len(obs) - seq_size):\n",
    "        window = obs[i:(i + seq_size)]\n",
    "        after_window = obs[i + seq_size]\n",
    "        x.append(window)\n",
    "        y.append(after_window)\n",
    "    return torch.tensor(x, dtype=torch.float32).view(-1, seq_size, 1), torch.tensor(y, dtype=torch.float32).view(-1, 1)\n",
    "\n",
    "x_train, y_train = to_sequences(SEQUENCE_SIZE, spots_train)\n",
    "x_test, y_test = to_sequences(SEQUENCE_SIZE, spots_test)\n",
    "\n",
    "\n"
   ]
  },
  {
   "cell_type": "code",
   "execution_count": 16,
   "metadata": {},
   "outputs": [],
   "source": [
    "\n",
    "model = GPTLanguageModel().to(device)\n",
    "\n"
   ]
  },
  {
   "cell_type": "code",
   "execution_count": 17,
   "metadata": {},
   "outputs": [],
   "source": [
    "# Train the model\n",
    "criterion = nn.MSELoss()\n",
    "optimizer = torch.optim.Adam(model.parameters(), lr=0.001)\n",
    "scheduler = ReduceLROnPlateau(optimizer, 'min', factor=0.5, patience=3, verbose=True)\n",
    "\n",
    "epochs = 1000\n",
    "early_stop_count = 0\n",
    "min_val_loss = float('inf')"
   ]
  },
  {
   "cell_type": "code",
   "execution_count": null,
   "metadata": {},
   "outputs": [],
   "source": [
    "x_batch, y_batch = batch\n",
    "x_batch, y_batch = x_batch.to(device), y_batch.to(device)\n",
    "\n",
    "optimizer.zero_grad()\n",
    "outputs = model(x_batch)\n",
    "# ic(outputs, y_batch)\n",
    "loss = criterion(outputs, y_batch)\n",
    "train_losses.append(loss.item())\n",
    "loss.backward() # calculate gradients\n",
    "optimizer.step() # update weights based on gradients and learning rate"
   ]
  },
  {
   "cell_type": "code",
   "execution_count": null,
   "metadata": {},
   "outputs": [
    {
     "name": "stdout",
     "output_type": "stream",
     "text": [
      "Epoch 1/1000, Train Loss: 0.8894, Validation Loss: 2.1469\n"
     ]
    }
   ],
   "source": [
    "\n",
    "\n",
    "for epoch in range(1):\n",
    "    model.train()\n",
    "    train_losses = []\n",
    "    for batch in train_loader:\n",
    "        x_batch, y_batch = batch\n",
    "        x_batch, y_batch = x_batch.to(device), y_batch.to(device)\n",
    "\n",
    "        optimizer.zero_grad()\n",
    "        outputs = model(x_batch)\n",
    "        # ic(outputs, y_batch)\n",
    "        loss = criterion(outputs, y_batch)\n",
    "        train_losses.append(loss.item())\n",
    "        loss.backward() # calculate gradients\n",
    "        optimizer.step() # update weights based on gradients and learning rate\n",
    "\n",
    "    train_loss = np.mean(train_losses)\n",
    "\n",
    "    # Validation\n",
    "    model.eval()\n",
    "    val_losses = []\n",
    "    with torch.no_grad():\n",
    "        for batch in test_loader:\n",
    "            x_batch, y_batch = batch\n",
    "            x_batch, y_batch = x_batch.to(device), y_batch.to(device)\n",
    "            outputs = model(x_batch)\n",
    "            loss = criterion(outputs, y_batch)\n",
    "            val_losses.append(loss.item())\n",
    "\n",
    "    val_loss = np.mean(val_losses)\n",
    "    scheduler.step(val_loss)\n",
    "\n",
    "    if val_loss < min_val_loss:\n",
    "        min_val_loss = val_loss\n",
    "        early_stop_count = 0\n",
    "    else:\n",
    "        early_stop_count += 1\n",
    "\n",
    "    if early_stop_count >= 5:\n",
    "        print(\"Early stopping!\")\n",
    "        break\n",
    "    print(f\"Epoch {epoch + 1}/{epochs}, Train Loss: {train_loss:.4f}, Validation Loss: {val_loss:.4f}\")\n",
    "    \n",
    "# Evaluation\n",
    "from sklearn.metrics import mean_absolute_error\n",
    "# Evaluation\n",
    "model.eval()\n",
    "predictions = []\n",
    "actuals = []\n",
    "\n",
    "with torch.no_grad():\n",
    "    for batch in test_loader:\n",
    "        x_batch, y_batch = batch\n",
    "        x_batch = x_batch.to(device)\n",
    "        outputs = model(x_batch)\n",
    "        predictions.extend(outputs.squeeze().tolist())\n",
    "        actuals.extend(y_batch.squeeze().tolist())\n",
    "\n"
   ]
  },
  {
   "cell_type": "code",
   "execution_count": 10,
   "metadata": {},
   "outputs": [
    {
     "name": "stdout",
     "output_type": "stream",
     "text": [
      "Score (Relative Error): 0.5159\n",
      "Score (MAE): 0.3188\n",
      "Score (RMSE): 0.3779\n"
     ]
    }
   ],
   "source": [
    "# Convert to numpy arrays and inverse transform\n",
    "predictions = np.array(predictions).reshape(-1, 1)\n",
    "actuals = np.array(actuals).reshape(-1, 1)\n",
    "\n",
    "predictions_inv = scaler.inverse_transform(predictions)\n",
    "actuals_inv = scaler.inverse_transform(actuals)\n",
    "\n",
    "# Compute Scores\n",
    "rmse = np.sqrt(np.mean((predictions_inv - actuals_inv) ** 2))\n",
    "mae = mean_absolute_error(actuals_inv, predictions_inv)\n",
    "re = np.mean(np.abs((actuals_inv - predictions_inv) / actuals_inv))  # Percentage form\n",
    "\n",
    "\n",
    "print(f\"Score (Relative Error): {re:.4f}\")\n",
    "print(f\"Score (MAE): {mae:.4f}\")\n",
    "print(f\"Score (RMSE): {rmse:.4f}\")\n"
   ]
  }
 ],
 "metadata": {
  "kernelspec": {
   "display_name": "py310",
   "language": "python",
   "name": "python3"
  },
  "language_info": {
   "codemirror_mode": {
    "name": "ipython",
    "version": 3
   },
   "file_extension": ".py",
   "mimetype": "text/x-python",
   "name": "python",
   "nbconvert_exporter": "python",
   "pygments_lexer": "ipython3",
   "version": "3.10.12"
  }
 },
 "nbformat": 4,
 "nbformat_minor": 2
}
