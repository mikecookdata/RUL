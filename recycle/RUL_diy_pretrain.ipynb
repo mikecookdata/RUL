{
 "cells": [
  {
   "cell_type": "code",
   "execution_count": 22,
   "metadata": {},
   "outputs": [
    {
     "name": "stderr",
     "output_type": "stream",
     "text": [
      "2025-03-09 20:00:25,317 - logger - INFO - ++++++  Using device: cuda   ++++++\n",
      "INFO:logger:++++++  Using device: cuda   ++++++\n",
      "2025-03-09 20:00:25,317 - logger - INFO - without init weights\n",
      "INFO:logger:without init weights\n",
      "2025-03-09 20:00:25,317 - logger - INFO - train on 36, 37, 38, test on 35\n",
      "INFO:logger:train on 36, 37, 38, test on 35\n"
     ]
    }
   ],
   "source": [
    "import numpy as np\n",
    "import pandas as pd\n",
    "import torch\n",
    "import torch.nn as nn\n",
    "from torch.utils.data import DataLoader, TensorDataset\n",
    "from sklearn.preprocessing import StandardScaler\n",
    "from torch.optim.lr_scheduler import ReduceLROnPlateau\n",
    "import plotly.express as px\n",
    "from logger import logger\n",
    "has_mps = torch.backends.mps.is_built()\n",
    "# device = \"cpu\"\n",
    "device = \"mps\" if has_mps else \"cuda\" if torch.cuda.is_available() else \"cpu\"\n",
    "logger.info(f\"++++++  Using device: {device}   ++++++\")\n",
    "logger.info(\"without init weights\")\n",
    "logger.info(\"train on 36, 37, 38, test on 35\")"
   ]
  },
  {
   "cell_type": "code",
   "execution_count": 23,
   "metadata": {},
   "outputs": [
    {
     "data": {
      "text/plain": [
       "(882, 1)"
      ]
     },
     "execution_count": 23,
     "metadata": {},
     "output_type": "execute_result"
    }
   ],
   "source": [
    "fn = \"./datasets/CALCE/CALCE.csv\"\n",
    "df = pd.read_csv(fn)\n",
    "\n",
    "\n",
    "spots_train = df[\"capacity_CS2_36\"].to_numpy().reshape(-1, 1)\n",
    "spots_train.shape\n"
   ]
  },
  {
   "cell_type": "code",
   "execution_count": 24,
   "metadata": {},
   "outputs": [],
   "source": [
    "scaler = StandardScaler()\n",
    "spots_train = scaler.fit_transform(spots_train).flatten().tolist()\n",
    "leng, min_val, max_val = len(spots_train), min(spots_train), max(spots_train)\n",
    "spots_train = np.linspace(min_val, max_val, leng).tolist()"
   ]
  },
  {
   "cell_type": "code",
   "execution_count": 26,
   "metadata": {},
   "outputs": [],
   "source": [
    "# Sequence Data Preparation\n",
    "SEQUENCE_SIZE = 32\n",
    "\n",
    "def to_sequences(seq_size, obs):\n",
    "    x = []\n",
    "    y = []\n",
    "    for i in range(len(obs) - seq_size):\n",
    "        window = obs[i:(i + seq_size)]\n",
    "        after_window = obs[i + seq_size]\n",
    "        x.append(window)\n",
    "        y.append(after_window)\n",
    "    return torch.tensor(x, dtype=torch.float32).view(-1, seq_size, 1), torch.tensor(y, dtype=torch.float32).view(-1, 1)\n",
    "\n",
    "x_train, y_train = to_sequences(SEQUENCE_SIZE, spots_train)\n"
   ]
  },
  {
   "cell_type": "code",
   "execution_count": 27,
   "metadata": {},
   "outputs": [],
   "source": [
    "train_dataset = TensorDataset(x_train, y_train)\n",
    "train_loader = DataLoader(train_dataset, batch_size=32, shuffle=True)"
   ]
  },
  {
   "cell_type": "code",
   "execution_count": 28,
   "metadata": {},
   "outputs": [
    {
     "name": "stderr",
     "output_type": "stream",
     "text": [
      "c:\\Users\\micha\\miniconda3\\envs\\py310\\lib\\site-packages\\torch\\nn\\modules\\transformer.py:379: UserWarning: enable_nested_tensor is True, but self.use_nested_tensor is False because encoder_layer.self_attn.batch_first was not True(use batch_first for better inference performance)\n",
      "  warnings.warn(\n"
     ]
    }
   ],
   "source": [
    "class PositionalEncoding(nn.Module):\n",
    "    def __init__(self, d_model, dropout=0.1, max_len=5000):\n",
    "        super(PositionalEncoding, self).__init__()\n",
    "        self.dropout = nn.Dropout(p=dropout)\n",
    "\n",
    "        pe = torch.zeros(max_len, d_model)\n",
    "        position = torch.arange(0, max_len, dtype=torch.float).unsqueeze(1)\n",
    "        div_term = torch.exp(torch.arange(0, d_model, 2).float() * (-np.log(10000.0) / d_model))\n",
    "        pe[:, 0::2] = torch.sin(position * div_term)\n",
    "        pe[:, 1::2] = torch.cos(position * div_term)\n",
    "        pe = pe.unsqueeze(0).transpose(0, 1)\n",
    "        self.register_buffer('pe', pe)\n",
    "\n",
    "    def forward(self, x):\n",
    "        x = x + self.pe[:x.size(0), :]\n",
    "        return self.dropout(x)\n",
    "    \n",
    "# Model definition using Transformer\n",
    "class TransformerModel(nn.Module):\n",
    "    def __init__(self, input_dim=1, d_model=64, nhead=4, num_layers=2, dropout=0.2):\n",
    "        super(TransformerModel, self).__init__()\n",
    "\n",
    "        self.encoder = nn.Linear(input_dim, d_model)\n",
    "        self.pos_encoder = PositionalEncoding(d_model, dropout)\n",
    "        encoder_layers = nn.TransformerEncoderLayer(d_model, nhead)\n",
    "        self.transformer_encoder = nn.TransformerEncoder(encoder_layers, num_layers)\n",
    "        self.decoder = nn.Linear(d_model, 1)\n",
    "    #     self.apply(self._init_weights) # what's the weights if not initialized?\n",
    "    #     # see link https://chatgpt.com/c/67ce20e9-7774-8009-85d9-dcce0feca042\n",
    "        \n",
    "    # def _init_weights(self, module):\n",
    "    #     if isinstance(module, nn.Linear):\n",
    "    #         torch.nn.init.normal_(module.weight, mean=0.0, std=0.02)\n",
    "    #         if module.bias is not None:\n",
    "    #             torch.nn.init.zeros_(module.bias)\n",
    "    #     elif isinstance(module, nn.Embedding):\n",
    "    #         torch.nn.init.normal_(module.weight, mean=0.0, std=0.02)\n",
    "\n",
    "    def forward(self, x):\n",
    "        x = self.encoder(x)\n",
    "        x = self.pos_encoder(x)\n",
    "        x = self.transformer_encoder(x)\n",
    "        x = self.decoder(x[:, -1, :])\n",
    "        return x\n",
    "\n",
    "model = TransformerModel().to(device)\n"
   ]
  },
  {
   "cell_type": "code",
   "execution_count": 29,
   "metadata": {},
   "outputs": [
    {
     "name": "stderr",
     "output_type": "stream",
     "text": [
      "c:\\Users\\micha\\miniconda3\\envs\\py310\\lib\\site-packages\\torch\\optim\\lr_scheduler.py:62: UserWarning: The verbose parameter is deprecated. Please use get_last_lr() to access the learning rate.\n",
      "  warnings.warn(\n"
     ]
    }
   ],
   "source": [
    "# Train the model\n",
    "criterion = nn.MSELoss()\n",
    "optimizer = torch.optim.Adam(model.parameters(), lr=0.001)\n",
    "scheduler = ReduceLROnPlateau(optimizer, 'min', factor=0.5, patience=3, verbose=True)\n",
    "\n",
    "epochs = 1000\n",
    "early_stop_count = 0\n",
    "min_val_loss = float('inf')\n"
   ]
  },
  {
   "cell_type": "code",
   "execution_count": 30,
   "metadata": {},
   "outputs": [
    {
     "name": "stdout",
     "output_type": "stream",
     "text": [
      "Epoch 1/1000, Train Loss: 0.2915\n",
      "Epoch 2/1000, Train Loss: 0.0480\n",
      "Epoch 3/1000, Train Loss: 0.0315\n",
      "Epoch 4/1000, Train Loss: 0.0305\n",
      "Epoch 5/1000, Train Loss: 0.0241\n",
      "Epoch 6/1000, Train Loss: 0.0219\n",
      "Epoch 7/1000, Train Loss: 0.0247\n",
      "Epoch 8/1000, Train Loss: 0.0210\n",
      "Epoch 9/1000, Train Loss: 0.0179\n",
      "Epoch 10/1000, Train Loss: 0.0180\n",
      "Epoch 11/1000, Train Loss: 0.0179\n",
      "Epoch 12/1000, Train Loss: 0.0223\n",
      "Epoch 13/1000, Train Loss: 0.0163\n",
      "Epoch 14/1000, Train Loss: 0.0171\n",
      "Epoch 15/1000, Train Loss: 0.0153\n",
      "Epoch 16/1000, Train Loss: 0.0165\n",
      "Epoch 17/1000, Train Loss: 0.0155\n",
      "Epoch 18/1000, Train Loss: 0.0160\n",
      "Epoch 19/1000, Train Loss: 0.0149\n",
      "Epoch 20/1000, Train Loss: 0.0174\n",
      "Epoch 21/1000, Train Loss: 0.0127\n",
      "Epoch 22/1000, Train Loss: 0.0132\n",
      "Epoch 23/1000, Train Loss: 0.0113\n",
      "Epoch 24/1000, Train Loss: 0.0155\n",
      "Epoch 25/1000, Train Loss: 0.0139\n",
      "Epoch 26/1000, Train Loss: 0.0122\n",
      "Epoch 27/1000, Train Loss: 0.0108\n",
      "Epoch 28/1000, Train Loss: 0.0114\n",
      "Epoch 29/1000, Train Loss: 0.0114\n",
      "Epoch 30/1000, Train Loss: 0.0120\n"
     ]
    },
    {
     "name": "stderr",
     "output_type": "stream",
     "text": [
      "2025-03-09 20:03:03,288 - logger - INFO - Early stopping!\n",
      "INFO:logger:Early stopping!\n"
     ]
    },
    {
     "name": "stdout",
     "output_type": "stream",
     "text": [
      "Epoch 31/1000, Train Loss: 0.0150\n"
     ]
    }
   ],
   "source": [
    "for epoch in range(epochs):\n",
    "    model.train()\n",
    "    train_losses = []\n",
    "    for batch in train_loader:\n",
    "        x_batch, y_batch = batch\n",
    "        x_batch, y_batch = x_batch.to(device), y_batch.to(device)\n",
    "\n",
    "        optimizer.zero_grad()\n",
    "        outputs = model(x_batch)\n",
    "        loss = criterion(outputs, y_batch)\n",
    "        train_losses.append(loss.item())\n",
    "        loss.backward() # calculate gradients\n",
    "        optimizer.step() # update weights based on gradients and learning rate\n",
    "\n",
    "    train_loss = np.mean(train_losses)\n",
    "\n",
    "    scheduler.step(train_loss)\n",
    "\n",
    "    if train_loss < min_val_loss:\n",
    "        min_val_loss = train_loss\n",
    "        early_stop_count = 0\n",
    "    else:\n",
    "        early_stop_count += 1\n",
    "\n",
    "    if early_stop_count >= 5:\n",
    "        logger.info(\"Early stopping!\")\n",
    "        break\n",
    "    print(f\"Epoch {epoch + 1}/{epochs}, Train Loss: {train_loss:.4f}\")"
   ]
  },
  {
   "cell_type": "code",
   "execution_count": 31,
   "metadata": {},
   "outputs": [
    {
     "name": "stderr",
     "output_type": "stream",
     "text": [
      "2025-03-09 20:03:33,087 - logger - INFO - SEQUENCE_SIZE: 32\n",
      "INFO:logger:SEQUENCE_SIZE: 32\n",
      "2025-03-09 20:03:33,088 - logger - INFO - Score (Relative Error): 0.0215\n",
      "INFO:logger:Score (Relative Error): 0.0215\n",
      "2025-03-09 20:03:33,088 - logger - INFO - Score (MAE): 0.0138\n",
      "INFO:logger:Score (MAE): 0.0138\n",
      "2025-03-09 20:03:33,089 - logger - INFO - Score (RMSE): 0.0158\n",
      "INFO:logger:Score (RMSE): 0.0158\n"
     ]
    }
   ],
   "source": [
    "# Evaluation\n",
    "from sklearn.metrics import mean_absolute_error\n",
    "# Evaluation\n",
    "model.eval()\n",
    "predictions = []\n",
    "actuals = []\n",
    "\n",
    "with torch.no_grad():\n",
    "    for batch in train_loader:\n",
    "        x_batch, y_batch = batch\n",
    "        x_batch = x_batch.to(device)\n",
    "        outputs = model(x_batch)\n",
    "        predictions.extend(outputs.squeeze().tolist())\n",
    "        actuals.extend(y_batch.squeeze().tolist())\n",
    "        \n",
    "# Convert to numpy arrays and inverse transform\n",
    "predictions = np.array(predictions).reshape(-1, 1)\n",
    "actuals = np.array(actuals).reshape(-1, 1)\n",
    "\n",
    "predictions_inv = scaler.inverse_transform(predictions)\n",
    "actuals_inv = scaler.inverse_transform(actuals)\n",
    "\n",
    "# Compute Scores\n",
    "rmse = np.sqrt(np.mean((predictions_inv - actuals_inv) ** 2))\n",
    "mae = mean_absolute_error(actuals_inv, predictions_inv)\n",
    "re = np.mean(np.abs((actuals_inv - predictions_inv) / actuals_inv))  # Percentage form\n",
    "\n",
    "logger.info(f\"SEQUENCE_SIZE: {SEQUENCE_SIZE}\")\n",
    "\n",
    "logger.info(f\"Score (Relative Error): {re:.4f}\")\n",
    "logger.info(f\"Score (MAE): {mae:.4f}\")\n",
    "logger.info(f\"Score (RMSE): {rmse:.4f}\")"
   ]
  }
 ],
 "metadata": {
  "kernelspec": {
   "display_name": "py310",
   "language": "python",
   "name": "python3"
  },
  "language_info": {
   "codemirror_mode": {
    "name": "ipython",
    "version": 3
   },
   "file_extension": ".py",
   "mimetype": "text/x-python",
   "name": "python",
   "nbconvert_exporter": "python",
   "pygments_lexer": "ipython3",
   "version": "3.10.15"
  }
 },
 "nbformat": 4,
 "nbformat_minor": 2
}
