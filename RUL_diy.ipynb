{
 "cells": [
  {
   "cell_type": "code",
   "execution_count": 38,
   "metadata": {},
   "outputs": [
    {
     "name": "stdout",
     "output_type": "stream",
     "text": [
      "Using device: mps\n"
     ]
    }
   ],
   "source": [
    "import numpy as np\n",
    "import pandas as pd\n",
    "import torch\n",
    "import torch.nn as nn\n",
    "from torch.utils.data import DataLoader, TensorDataset\n",
    "from sklearn.preprocessing import StandardScaler\n",
    "from torch.optim.lr_scheduler import ReduceLROnPlateau\n",
    "import plotly.express as px\n",
    "has_mps = torch.backends.mps.is_built()\n",
    "# device = \"cpu\"\n",
    "device = \"mps\" if has_mps else \"cuda\" if torch.cuda.is_available() else \"cpu\"\n",
    "print(f\"Using device: {device}\")"
   ]
  },
  {
   "cell_type": "code",
   "execution_count": 39,
   "metadata": {},
   "outputs": [
    {
     "data": {
      "text/plain": [
       "Index(['cycle', 'capacity_CS2_35', 'capacity_CS2_36', 'capacity_CS2_37',\n",
       "       'capacity_CS2_38'],\n",
       "      dtype='object')"
      ]
     },
     "execution_count": 39,
     "metadata": {},
     "output_type": "execute_result"
    }
   ],
   "source": [
    "fn = \"./datasets/CALCE/CALCE.csv\"\n",
    "df = pd.read_csv(fn)\n",
    "df.columns"
   ]
  },
  {
   "cell_type": "code",
   "execution_count": 40,
   "metadata": {},
   "outputs": [],
   "source": [
    "spots_train_1 = df[\"capacity_CS2_36\"].to_numpy().reshape(-1, 1)\n",
    "spots_train_2 = df[\"capacity_CS2_37\"].to_numpy().reshape(-1, 1)\n",
    "spots_train_3 = df[\"capacity_CS2_38\"].to_numpy().reshape(-1, 1)\n",
    "\n",
    "spots_test = df[\"capacity_CS2_35\"].to_numpy().reshape(-1, 1)"
   ]
  },
  {
   "cell_type": "code",
   "execution_count": 41,
   "metadata": {},
   "outputs": [],
   "source": [
    "scaler = StandardScaler()\n",
    "spots_train_1 = scaler.fit_transform(spots_train_1).flatten().tolist()\n",
    "spots_train_2 = scaler.fit_transform(spots_train_2).flatten().tolist()\n",
    "spots_train_3 = scaler.fit_transform(spots_train_3).flatten().tolist()\n",
    "\n",
    "spots_test = scaler.transform(spots_test).flatten().tolist()\n",
    "\n",
    "# Sequence Data Preparation\n",
    "SEQUENCE_SIZE = 30"
   ]
  },
  {
   "cell_type": "code",
   "execution_count": 42,
   "metadata": {},
   "outputs": [
    {
     "data": {
      "text/plain": [
       "'DataLoader\\n- Batches data for efficienct training\\n- Shuffles data befoe each epoch to prevent model from memorizing the order\\nIt randomly select batch(32) size from train_dataset and group them into a batch [32, (sequence)10, 1] for x_train and [32, 1] for y_train\\nreturn as PyTorch Tensor for training\\n'"
      ]
     },
     "execution_count": 42,
     "metadata": {},
     "output_type": "execute_result"
    }
   ],
   "source": [
    "\n",
    "\n",
    "def to_sequences(seq_size, obs):\n",
    "    x = []\n",
    "    y = []\n",
    "    for i in range(len(obs) - seq_size):\n",
    "        window = obs[i:(i + seq_size)]\n",
    "        after_window = obs[i + seq_size]\n",
    "        x.append(window)\n",
    "        y.append(after_window)\n",
    "    return torch.tensor(x, dtype=torch.float32).view(-1, seq_size, 1), torch.tensor(y, dtype=torch.float32).view(-1, 1)\n",
    "\n",
    "x_train_1, y_train_1 = to_sequences(SEQUENCE_SIZE, spots_train_1)\n",
    "x_train_2, y_train_2 = to_sequences(SEQUENCE_SIZE, spots_train_2)\n",
    "x_train_3, y_train_3 = to_sequences(SEQUENCE_SIZE, spots_train_3)\n",
    "x_test, y_test = to_sequences(SEQUENCE_SIZE, spots_test)\n",
    "\n",
    "# Setup data loaders for batch\n",
    "'''TensorDataset\n",
    "- TensorDataset is a special PyTorch wrapper that combines muliple tensors into a single dataset\n",
    "- x_train and y_train must have the same first dimension\n",
    "- this allows easy retrieval of (input, target) pairs during training\n",
    "- makes integration with DataLoader seamless\n",
    "'''\n",
    "\n",
    "'''DataLoader\n",
    "- Batches data for efficienct training\n",
    "- Shuffles data befoe each epoch to prevent model from memorizing the order\n",
    "It randomly select batch(32) size from train_dataset and group them into a batch [32, (sequence)10, 1] for x_train and [32, 1] for y_train\n",
    "return as PyTorch Tensor for training\n",
    "'''\n",
    "\n"
   ]
  },
  {
   "cell_type": "code",
   "execution_count": 43,
   "metadata": {},
   "outputs": [
    {
     "data": {
      "text/plain": [
       "torch.Size([852, 30, 1])"
      ]
     },
     "execution_count": 43,
     "metadata": {},
     "output_type": "execute_result"
    }
   ],
   "source": [
    "x_train_1.shape\n"
   ]
  },
  {
   "cell_type": "code",
   "execution_count": 44,
   "metadata": {},
   "outputs": [
    {
     "data": {
      "text/plain": [
       "torch.Size([852, 30, 1])"
      ]
     },
     "execution_count": 44,
     "metadata": {},
     "output_type": "execute_result"
    }
   ],
   "source": [
    "x_train_2.shape"
   ]
  },
  {
   "cell_type": "code",
   "execution_count": 45,
   "metadata": {},
   "outputs": [],
   "source": [
    "x_train = torch.cat((x_train_1, x_train_2, x_train_3), dim=0)\n",
    "y_train = torch.cat((y_train_1, y_train_2, y_train_3), dim=0)"
   ]
  },
  {
   "cell_type": "code",
   "execution_count": 46,
   "metadata": {},
   "outputs": [],
   "source": [
    "train_dataset = TensorDataset(x_train, y_train)\n",
    "train_loader = DataLoader(train_dataset, batch_size=32, shuffle=True)\n",
    "\n",
    "test_dataset = TensorDataset(x_test, y_test)\n",
    "test_loader = DataLoader(test_dataset, batch_size=32, shuffle=False)"
   ]
  },
  {
   "cell_type": "code",
   "execution_count": 47,
   "metadata": {},
   "outputs": [],
   "source": [
    "# Positional Encoding for Transformer\n",
    "class PositionalEncoding(nn.Module):\n",
    "    def __init__(self, d_model, dropout=0.1, max_len=5000):\n",
    "        super(PositionalEncoding, self).__init__()\n",
    "        self.dropout = nn.Dropout(p=dropout)\n",
    "\n",
    "        pe = torch.zeros(max_len, d_model)\n",
    "        position = torch.arange(0, max_len, dtype=torch.float).unsqueeze(1)\n",
    "        div_term = torch.exp(torch.arange(0, d_model, 2).float() * (-np.log(10000.0) / d_model))\n",
    "        pe[:, 0::2] = torch.sin(position * div_term)\n",
    "        pe[:, 1::2] = torch.cos(position * div_term)\n",
    "        pe = pe.unsqueeze(0).transpose(0, 1)\n",
    "        self.register_buffer('pe', pe)\n",
    "\n",
    "    def forward(self, x):\n",
    "        x = x + self.pe[:x.size(0), :]\n",
    "        return self.dropout(x)\n",
    "    \n",
    "# Model definition using Transformer\n",
    "class TransformerModel(nn.Module):\n",
    "    def __init__(self, input_dim=1, d_model=64, nhead=4, num_layers=2, dropout=0.2):\n",
    "        super(TransformerModel, self).__init__()\n",
    "\n",
    "        self.encoder = nn.Linear(input_dim, d_model)\n",
    "        self.pos_encoder = PositionalEncoding(d_model, dropout)\n",
    "        encoder_layers = nn.TransformerEncoderLayer(d_model, nhead)\n",
    "        self.transformer_encoder = nn.TransformerEncoder(encoder_layers, num_layers)\n",
    "        self.decoder = nn.Linear(d_model, 1)\n",
    "        self.apply(self._init_weights)\n",
    "        \n",
    "    def _init_weights(self, module):\n",
    "        if isinstance(module, nn.Linear):\n",
    "            torch.nn.init.normal_(module.weight, mean=0.0, std=0.02)\n",
    "            if module.bias is not None:\n",
    "                torch.nn.init.zeros_(module.bias)\n",
    "        elif isinstance(module, nn.Embedding):\n",
    "            torch.nn.init.normal_(module.weight, mean=0.0, std=0.02)\n",
    "\n",
    "    def forward(self, x):\n",
    "        x = self.encoder(x)\n",
    "        x = self.pos_encoder(x)\n",
    "        x = self.transformer_encoder(x)\n",
    "        x = self.decoder(x[:, -1, :])\n",
    "        return x\n",
    "\n",
    "model = TransformerModel().to(device)\n",
    "\n"
   ]
  },
  {
   "cell_type": "code",
   "execution_count": 48,
   "metadata": {},
   "outputs": [
    {
     "name": "stdout",
     "output_type": "stream",
     "text": [
      "Epoch 1/1000, Train Loss: 0.6117, Validation Loss: 1.6086\n",
      "Epoch 2/1000, Train Loss: 0.0752, Validation Loss: 0.4576\n",
      "Epoch 3/1000, Train Loss: 0.0444, Validation Loss: 0.3805\n",
      "Epoch 4/1000, Train Loss: 0.0396, Validation Loss: 0.3547\n",
      "Epoch 5/1000, Train Loss: 0.0345, Validation Loss: 0.3276\n",
      "Epoch 6/1000, Train Loss: 0.0372, Validation Loss: 0.3130\n",
      "Epoch 7/1000, Train Loss: 0.0331, Validation Loss: 0.3147\n",
      "Epoch 8/1000, Train Loss: 0.0331, Validation Loss: 0.2850\n",
      "Epoch 9/1000, Train Loss: 0.0330, Validation Loss: 0.2728\n",
      "Epoch 10/1000, Train Loss: 0.0297, Validation Loss: 0.2923\n",
      "Epoch 11/1000, Train Loss: 0.0287, Validation Loss: 0.2651\n",
      "Epoch 12/1000, Train Loss: 0.0262, Validation Loss: 0.2406\n",
      "Epoch 13/1000, Train Loss: 0.0299, Validation Loss: 0.2444\n",
      "Epoch 14/1000, Train Loss: 0.0267, Validation Loss: 0.2364\n",
      "Epoch 15/1000, Train Loss: 0.0263, Validation Loss: 0.2415\n",
      "Epoch 16/1000, Train Loss: 0.0245, Validation Loss: 0.2401\n",
      "Epoch 17/1000, Train Loss: 0.0244, Validation Loss: 0.2325\n",
      "Epoch 18/1000, Train Loss: 0.0233, Validation Loss: 0.2038\n",
      "Epoch 19/1000, Train Loss: 0.0232, Validation Loss: 0.2346\n",
      "Epoch 20/1000, Train Loss: 0.0218, Validation Loss: 0.2080\n",
      "Epoch 21/1000, Train Loss: 0.0240, Validation Loss: 0.2052\n",
      "Epoch 00022: reducing learning rate of group 0 to 5.0000e-04.\n",
      "Epoch 22/1000, Train Loss: 0.0237, Validation Loss: 0.2123\n",
      "Early stopping!\n"
     ]
    }
   ],
   "source": [
    "# Train the model\n",
    "criterion = nn.MSELoss()\n",
    "optimizer = torch.optim.Adam(model.parameters(), lr=0.001)\n",
    "scheduler = ReduceLROnPlateau(optimizer, 'min', factor=0.5, patience=3, verbose=True)\n",
    "\n",
    "epochs = 1000\n",
    "early_stop_count = 0\n",
    "min_val_loss = float('inf')\n",
    "\n",
    "for epoch in range(epochs):\n",
    "    model.train()\n",
    "    train_losses = []\n",
    "    for batch in train_loader:\n",
    "        x_batch, y_batch = batch\n",
    "        x_batch, y_batch = x_batch.to(device), y_batch.to(device)\n",
    "\n",
    "        optimizer.zero_grad()\n",
    "        outputs = model(x_batch)\n",
    "        loss = criterion(outputs, y_batch)\n",
    "        train_losses.append(loss.item())\n",
    "        loss.backward() # calculate gradients\n",
    "        optimizer.step() # update weights based on gradients and learning rate\n",
    "\n",
    "    train_loss = np.mean(train_losses)\n",
    "\n",
    "    # Validation\n",
    "    model.eval()\n",
    "    val_losses = []\n",
    "    with torch.no_grad():\n",
    "        for batch in test_loader:\n",
    "            x_batch, y_batch = batch\n",
    "            x_batch, y_batch = x_batch.to(device), y_batch.to(device)\n",
    "            outputs = model(x_batch)\n",
    "            loss = criterion(outputs, y_batch)\n",
    "            val_losses.append(loss.item())\n",
    "\n",
    "    val_loss = np.mean(val_losses)\n",
    "    scheduler.step(val_loss)\n",
    "\n",
    "    if val_loss < min_val_loss:\n",
    "        min_val_loss = val_loss\n",
    "        early_stop_count = 0\n",
    "    else:\n",
    "        early_stop_count += 1\n",
    "\n",
    "    if early_stop_count >= 5:\n",
    "        print(\"Early stopping!\")\n",
    "        break\n",
    "    print(f\"Epoch {epoch + 1}/{epochs}, Train Loss: {train_loss:.4f}, Validation Loss: {val_loss:.4f}\")\n",
    "    \n",
    "# Evaluation\n",
    "from sklearn.metrics import mean_absolute_error\n",
    "# Evaluation\n",
    "model.eval()\n",
    "predictions = []\n",
    "actuals = []\n",
    "\n",
    "with torch.no_grad():\n",
    "    for batch in test_loader:\n",
    "        x_batch, y_batch = batch\n",
    "        x_batch = x_batch.to(device)\n",
    "        outputs = model(x_batch)\n",
    "        predictions.extend(outputs.squeeze().tolist())\n",
    "        actuals.extend(y_batch.squeeze().tolist())\n",
    "\n"
   ]
  },
  {
   "cell_type": "code",
   "execution_count": 49,
   "metadata": {},
   "outputs": [
    {
     "name": "stdout",
     "output_type": "stream",
     "text": [
      "Score (Relative Error): 0.0564\n",
      "Score (MAE): 0.0245\n",
      "Score (RMSE): 0.0549\n"
     ]
    }
   ],
   "source": [
    "# Convert to numpy arrays and inverse transform\n",
    "predictions = np.array(predictions).reshape(-1, 1)\n",
    "actuals = np.array(actuals).reshape(-1, 1)\n",
    "\n",
    "predictions_inv = scaler.inverse_transform(predictions)\n",
    "actuals_inv = scaler.inverse_transform(actuals)\n",
    "\n",
    "# Compute Scores\n",
    "rmse = np.sqrt(np.mean((predictions_inv - actuals_inv) ** 2))\n",
    "mae = mean_absolute_error(actuals_inv, predictions_inv)\n",
    "re = np.mean(np.abs((actuals_inv - predictions_inv) / actuals_inv))  # Percentage form\n",
    "\n",
    "\n",
    "print(f\"Score (Relative Error): {re:.4f}\")\n",
    "print(f\"Score (MAE): {mae:.4f}\")\n",
    "print(f\"Score (RMSE): {rmse:.4f}\")\n"
   ]
  }
 ],
 "metadata": {
  "kernelspec": {
   "display_name": "py310",
   "language": "python",
   "name": "python3"
  },
  "language_info": {
   "codemirror_mode": {
    "name": "ipython",
    "version": 3
   },
   "file_extension": ".py",
   "mimetype": "text/x-python",
   "name": "python",
   "nbconvert_exporter": "python",
   "pygments_lexer": "ipython3",
   "version": "3.10.12"
  }
 },
 "nbformat": 4,
 "nbformat_minor": 2
}
