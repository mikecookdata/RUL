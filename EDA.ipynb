{
 "cells": [
  {
   "cell_type": "code",
   "execution_count": 1,
   "metadata": {},
   "outputs": [],
   "source": [
    "import numpy as np\n",
    "import random\n",
    "import math\n",
    "import time\n",
    "import os\n",
    "import matplotlib.cm as cm\n",
    "import pandas as pd\n",
    "import glob\n",
    "import torch\n",
    "import torch.nn as nn\n",
    "import torch.nn.functional as F\n",
    "import torchvision\n",
    "import matplotlib.pyplot as plt\n",
    "import plotly.express as px\n",
    "\n",
    "from tqdm.notebook import tqdm\n",
    "from math import sqrt\n",
    "from sklearn.metrics import mean_absolute_error\n",
    "from sklearn.metrics import mean_squared_error\n",
    "from icecream import ic\n",
    "\n"
   ]
  },
  {
   "cell_type": "markdown",
   "metadata": {},
   "source": [
    "## CALCE Data explore"
   ]
  },
  {
   "cell_type": "code",
   "execution_count": 2,
   "metadata": {},
   "outputs": [
    {
     "data": {
      "text/plain": [
       "dict_keys(['CS2_35', 'CS2_36', 'CS2_37', 'CS2_38'])"
      ]
     },
     "execution_count": 2,
     "metadata": {},
     "output_type": "execute_result"
    }
   ],
   "source": [
    "# Load data\n",
    "Battery = np.load(\"datasets/CALCE/CALCE.npy\", allow_pickle=True)\n",
    "Battery = Battery.item()\n",
    "Battery.keys()"
   ]
  },
  {
   "cell_type": "markdown",
   "metadata": {},
   "source": [
    "### Combine all cell capcity into one csv"
   ]
  },
  {
   "cell_type": "code",
   "execution_count": 7,
   "metadata": {},
   "outputs": [],
   "source": [
    "df_all_cell = Battery[\"CS2_38\"]\n",
    "df_all_cell[\"capacity_CS2_38\"] = df_all_cell[\"capacity\"]\n",
    "for k, v in Battery.items():\n",
    "    if k == \"CS2_38\":\n",
    "        continue\n",
    "    df_all_cell[f\"capacity_{k}\"] = v[\"capacity\"]\n",
    "droped_cols = [\"capacity\", \"SoH\", \"resistance\", \"CCCT\", \"CVCT\"]\n",
    "df_all_cell = df_all_cell.drop(droped_cols, axis=1)\n",
    "df_all_cell.to_csv(\"datasets/CALCE/CALCE.csv\", index=False)"
   ]
  },
  {
   "cell_type": "code",
   "execution_count": 4,
   "metadata": {},
   "outputs": [
    {
     "data": {
      "application/vnd.microsoft.datawrangler.viewer.v0+json": {
       "columns": [
        {
         "name": "index",
         "rawType": "int64",
         "type": "integer"
        },
        {
         "name": "cycle",
         "rawType": "float64",
         "type": "float"
        },
        {
         "name": "capacity_CS2_35",
         "rawType": "float64",
         "type": "float"
        },
        {
         "name": "capacity_CS2_36",
         "rawType": "float64",
         "type": "float"
        },
        {
         "name": "capacity_CS2_37",
         "rawType": "float64",
         "type": "float"
        }
       ],
       "conversionMethod": "pd.DataFrame",
       "ref": "d8eb84b9-796e-4a6c-80f8-b285f50d9403",
       "rows": [
        [
         "0",
         "1.0",
         "1.126384506847021",
         "1.1338066110520781",
         "1.1242514698926915"
        ],
        [
         "1",
         "2.0",
         "1.1261598161259705",
         "1.1334134702484167",
         "1.1239680467646185"
        ],
        [
         "2",
         "3.0",
         "1.125965708259707",
         "1.1328286101875913",
         "1.1236105136578227"
        ],
        [
         "3",
         "4.0",
         "1.1185076863180938",
         "1.1270332722889724",
         "1.117114771021268"
        ],
        [
         "4",
         "5.0",
         "1.1172100749182547",
         "1.1267116857980117",
         "1.1162394574481525"
        ],
        [
         "5",
         "6.0",
         "1.1137535513150443",
         "1.124261017581048",
         "1.108957941766771"
        ],
        [
         "6",
         "7.0",
         "1.0988181436744804",
         "1.1150115166743946",
         "1.0981491184637169"
        ],
        [
         "7",
         "8.0",
         "1.0961803263765921",
         "1.1089666145750847",
         "1.0958776870178866"
        ],
        [
         "8",
         "9.0",
         "1.0898711301696573",
         "1.1075882593653052",
         "1.089672638213185"
        ],
        [
         "9",
         "10.0",
         "1.0875822954661674",
         "1.105772038995162",
         "1.0874846393851407"
        ],
        [
         "10",
         "11.0",
         "1.0947478949707463",
         "1.1082769593025792",
         "1.0945754725367562"
        ],
        [
         "11",
         "12.0",
         "1.0955682863426888",
         "1.112932182255405",
         "1.0957344361950596"
        ],
        [
         "12",
         "13.0",
         "1.0954329180709088",
         "1.112988055371036",
         "1.095762108609611"
        ],
        [
         "13",
         "14.0",
         "1.095223222083344",
         "1.1127971667461132",
         "1.0955137193692257"
        ],
        [
         "14",
         "15.0",
         "1.0948040555332583",
         "1.112458056752362",
         "1.0952649132021466"
        ],
        [
         "15",
         "16.0",
         "1.0944448817959302",
         "1.1121902604059106",
         "1.0947067300112066"
        ],
        [
         "16",
         "17.0",
         "1.0940442107208557",
         "1.112012700816156",
         "1.0943257046782395"
        ],
        [
         "17",
         "18.0",
         "1.0934614215105336",
         "1.108000436582179",
         "1.0937011753550059"
        ],
        [
         "18",
         "19.0",
         "1.0927332194072785",
         "1.1075350499545462",
         "1.0931352487692285"
        ],
        [
         "19",
         "20.0",
         "1.0888536787324268",
         "1.1071381215567389",
         "1.0926356846926204"
        ],
        [
         "20",
         "21.0",
         "1.0883814134478704",
         "1.1067523031151418",
         "1.0888153717764701"
        ],
        [
         "21",
         "22.0",
         "1.0879949624513225",
         "1.1064770587905484",
         "1.0885092227174524"
        ],
        [
         "22",
         "23.0",
         "1.0876290188457574",
         "1.1063048574157182",
         "1.0882085882511443"
        ],
        [
         "23",
         "24.0",
         "1.0872335492167664",
         "1.1058361647172874",
         "1.0877279390935983"
        ],
        [
         "24",
         "25.0",
         "1.086799750378054",
         "1.1054579660440906",
         "1.087289431892091"
        ],
        [
         "25",
         "26.0",
         "1.0863976880895259",
         "1.1051384630419614",
         "1.0798652723735558"
        ],
        [
         "26",
         "27.0",
         "1.0764608398671511",
         "1.0957048003880436",
         "1.0694498509285462"
        ],
        [
         "27",
         "28.0",
         "1.0682813219671374",
         "1.08910990291196",
         "1.067894979287813"
        ],
        [
         "28",
         "29.0",
         "1.061871030040747",
         "1.0879088780265784",
         "1.0619544406014105"
        ],
        [
         "29",
         "30.0",
         "1.0604499542130021",
         "1.0871404645160523",
         "1.0604383869811467"
        ],
        [
         "30",
         "31.0",
         "1.0590703515513098",
         "1.085984676363469",
         "1.0692825977398996"
        ],
        [
         "31",
         "32.0",
         "1.0684316315261961",
         "1.0940259166577682",
         "1.074870171494901"
        ],
        [
         "32",
         "33.0",
         "1.069764576241007",
         "1.0949674538454621",
         "1.0694893704477002"
        ],
        [
         "33",
         "34.0",
         "1.0612467360899798",
         "1.0858072780786652",
         "1.0594285659815754"
        ],
        [
         "34",
         "35.0",
         "1.0528038388294765",
         "1.0794433426800802",
         "1.0575282466909732"
        ],
        [
         "35",
         "36.0",
         "1.0514969839157156",
         "1.0791840180692092",
         "1.0527086741698506"
        ],
        [
         "36",
         "37.0",
         "1.0507885373892558",
         "1.078459123542833",
         "1.0514152980476226"
        ],
        [
         "37",
         "38.0",
         "1.049771042431389",
         "1.078670996153079",
         "1.0606646827273778"
        ],
        [
         "38",
         "39.0",
         "1.05916552576209",
         "1.0866210060020014",
         "1.0662982574601805"
        ],
        [
         "39",
         "40.0",
         "1.0604562774048463",
         "1.0870770175067002",
         "1.0667978023778433"
        ],
        [
         "40",
         "41.0",
         "1.057632133197537",
         "1.0777931923143766",
         "1.050711716697463"
        ],
        [
         "41",
         "42.0",
         "1.0482737033997178",
         "1.0767807918113874",
         "1.050165123934831"
        ],
        [
         "42",
         "43.0",
         "1.043392804566336",
         "1.0764721394969263",
         "1.049639202225427"
        ],
        [
         "43",
         "44.0",
         "1.0429167637310581",
         "1.0718244042078808",
         "1.0485109025385053"
        ],
        [
         "44",
         "45.0",
         "1.0420172556913927",
         "1.0711227518872464",
         "1.0507824824426413"
        ],
        [
         "45",
         "46.0",
         "1.0497244102947476",
         "1.0794928482397308",
         "1.0582523243064943"
        ],
        [
         "46",
         "47.0",
         "1.0519062232518257",
         "1.080303519583967",
         "1.0591994988614655"
        ],
        [
         "47",
         "48.0",
         "1.056326663309842",
         "1.0715311247130497",
         "1.0480745802826386"
        ],
        [
         "48",
         "49.0",
         "1.0414672148233903",
         "1.0707666196755437",
         "1.0431270037559512"
        ],
        [
         "49",
         "50.0",
         "1.0410028838709957",
         "1.0701721884619844",
         "1.0423841737075843"
        ]
       ],
       "shape": {
        "columns": 4,
        "rows": 996
       }
      },
      "text/html": [
       "<div>\n",
       "<style scoped>\n",
       "    .dataframe tbody tr th:only-of-type {\n",
       "        vertical-align: middle;\n",
       "    }\n",
       "\n",
       "    .dataframe tbody tr th {\n",
       "        vertical-align: top;\n",
       "    }\n",
       "\n",
       "    .dataframe thead th {\n",
       "        text-align: right;\n",
       "    }\n",
       "</style>\n",
       "<table border=\"1\" class=\"dataframe\">\n",
       "  <thead>\n",
       "    <tr style=\"text-align: right;\">\n",
       "      <th></th>\n",
       "      <th>cycle</th>\n",
       "      <th>capacity_CS2_35</th>\n",
       "      <th>capacity_CS2_36</th>\n",
       "      <th>capacity_CS2_37</th>\n",
       "    </tr>\n",
       "  </thead>\n",
       "  <tbody>\n",
       "    <tr>\n",
       "      <th>0</th>\n",
       "      <td>1.0</td>\n",
       "      <td>1.126385</td>\n",
       "      <td>1.133807</td>\n",
       "      <td>1.124251</td>\n",
       "    </tr>\n",
       "    <tr>\n",
       "      <th>1</th>\n",
       "      <td>2.0</td>\n",
       "      <td>1.126160</td>\n",
       "      <td>1.133413</td>\n",
       "      <td>1.123968</td>\n",
       "    </tr>\n",
       "    <tr>\n",
       "      <th>2</th>\n",
       "      <td>3.0</td>\n",
       "      <td>1.125966</td>\n",
       "      <td>1.132829</td>\n",
       "      <td>1.123611</td>\n",
       "    </tr>\n",
       "    <tr>\n",
       "      <th>3</th>\n",
       "      <td>4.0</td>\n",
       "      <td>1.118508</td>\n",
       "      <td>1.127033</td>\n",
       "      <td>1.117115</td>\n",
       "    </tr>\n",
       "    <tr>\n",
       "      <th>4</th>\n",
       "      <td>5.0</td>\n",
       "      <td>1.117210</td>\n",
       "      <td>1.126712</td>\n",
       "      <td>1.116239</td>\n",
       "    </tr>\n",
       "    <tr>\n",
       "      <th>...</th>\n",
       "      <td>...</td>\n",
       "      <td>...</td>\n",
       "      <td>...</td>\n",
       "      <td>...</td>\n",
       "    </tr>\n",
       "    <tr>\n",
       "      <th>991</th>\n",
       "      <td>992.0</td>\n",
       "      <td>NaN</td>\n",
       "      <td>NaN</td>\n",
       "      <td>NaN</td>\n",
       "    </tr>\n",
       "    <tr>\n",
       "      <th>992</th>\n",
       "      <td>993.0</td>\n",
       "      <td>NaN</td>\n",
       "      <td>NaN</td>\n",
       "      <td>NaN</td>\n",
       "    </tr>\n",
       "    <tr>\n",
       "      <th>993</th>\n",
       "      <td>994.0</td>\n",
       "      <td>NaN</td>\n",
       "      <td>NaN</td>\n",
       "      <td>NaN</td>\n",
       "    </tr>\n",
       "    <tr>\n",
       "      <th>994</th>\n",
       "      <td>995.0</td>\n",
       "      <td>NaN</td>\n",
       "      <td>NaN</td>\n",
       "      <td>NaN</td>\n",
       "    </tr>\n",
       "    <tr>\n",
       "      <th>995</th>\n",
       "      <td>996.0</td>\n",
       "      <td>NaN</td>\n",
       "      <td>NaN</td>\n",
       "      <td>NaN</td>\n",
       "    </tr>\n",
       "  </tbody>\n",
       "</table>\n",
       "<p>996 rows × 4 columns</p>\n",
       "</div>"
      ],
      "text/plain": [
       "     cycle  capacity_CS2_35  capacity_CS2_36  capacity_CS2_37\n",
       "0      1.0         1.126385         1.133807         1.124251\n",
       "1      2.0         1.126160         1.133413         1.123968\n",
       "2      3.0         1.125966         1.132829         1.123611\n",
       "3      4.0         1.118508         1.127033         1.117115\n",
       "4      5.0         1.117210         1.126712         1.116239\n",
       "..     ...              ...              ...              ...\n",
       "991  992.0              NaN              NaN              NaN\n",
       "992  993.0              NaN              NaN              NaN\n",
       "993  994.0              NaN              NaN              NaN\n",
       "994  995.0              NaN              NaN              NaN\n",
       "995  996.0              NaN              NaN              NaN\n",
       "\n",
       "[996 rows x 4 columns]"
      ]
     },
     "execution_count": 4,
     "metadata": {},
     "output_type": "execute_result"
    }
   ],
   "source": [
    "df_all_cell"
   ]
  },
  {
   "cell_type": "code",
   "execution_count": 5,
   "metadata": {},
   "outputs": [
    {
     "ename": "ValueError",
     "evalue": "All arguments should have the same length. The length of argument `y` is 4, whereas the length of previously-processed arguments ['cycle'] is 996",
     "output_type": "error",
     "traceback": [
      "\u001b[0;31m---------------------------------------------------------------------------\u001b[0m",
      "\u001b[0;31mValueError\u001b[0m                                Traceback (most recent call last)",
      "Cell \u001b[0;32mIn[5], line 2\u001b[0m\n\u001b[1;32m      1\u001b[0m \u001b[38;5;66;03m# Create interactive line plot\u001b[39;00m\n\u001b[0;32m----> 2\u001b[0m fig \u001b[38;5;241m=\u001b[39m \u001b[43mpx\u001b[49m\u001b[38;5;241;43m.\u001b[39;49m\u001b[43mline\u001b[49m\u001b[43m(\u001b[49m\u001b[43mdf_all_cell\u001b[49m\u001b[43m,\u001b[49m\u001b[43m \u001b[49m\u001b[43mx\u001b[49m\u001b[38;5;241;43m=\u001b[39;49m\u001b[38;5;124;43m\"\u001b[39;49m\u001b[38;5;124;43mcycle\u001b[39;49m\u001b[38;5;124;43m\"\u001b[39;49m\u001b[43m,\u001b[49m\u001b[43m \u001b[49m\u001b[43my\u001b[49m\u001b[38;5;241;43m=\u001b[39;49m\u001b[43m[\u001b[49m\u001b[38;5;124;43m\"\u001b[39;49m\u001b[38;5;124;43mcapacity_CS2_35\u001b[39;49m\u001b[38;5;124;43m\"\u001b[39;49m\u001b[43m,\u001b[49m\u001b[43m \u001b[49m\u001b[38;5;124;43m\"\u001b[39;49m\u001b[38;5;124;43mcapacity_CS2_36\u001b[39;49m\u001b[38;5;124;43m\"\u001b[39;49m\u001b[43m,\u001b[49m\u001b[43m \u001b[49m\u001b[38;5;124;43m\"\u001b[39;49m\u001b[38;5;124;43mcapacity_CS2_37\u001b[39;49m\u001b[38;5;124;43m\"\u001b[39;49m\u001b[43m,\u001b[49m\u001b[43m \u001b[49m\u001b[38;5;124;43m\"\u001b[39;49m\u001b[38;5;124;43mcapacity_CS2_38\u001b[39;49m\u001b[38;5;124;43m\"\u001b[39;49m\u001b[43m]\u001b[49m\u001b[43m,\u001b[49m\n\u001b[1;32m      3\u001b[0m \u001b[43m              \u001b[49m\u001b[43mlabels\u001b[49m\u001b[38;5;241;43m=\u001b[39;49m\u001b[43m{\u001b[49m\u001b[38;5;124;43m\"\u001b[39;49m\u001b[38;5;124;43mcycle\u001b[39;49m\u001b[38;5;124;43m\"\u001b[39;49m\u001b[43m:\u001b[49m\u001b[43m \u001b[49m\u001b[38;5;124;43m\"\u001b[39;49m\u001b[38;5;124;43mCycle Number\u001b[39;49m\u001b[38;5;124;43m\"\u001b[39;49m\u001b[43m,\u001b[49m\u001b[43m \u001b[49m\u001b[38;5;124;43m\"\u001b[39;49m\u001b[38;5;124;43mvalue\u001b[39;49m\u001b[38;5;124;43m\"\u001b[39;49m\u001b[43m:\u001b[49m\u001b[43m \u001b[49m\u001b[38;5;124;43m\"\u001b[39;49m\u001b[38;5;124;43mCapacity\u001b[39;49m\u001b[38;5;124;43m\"\u001b[39;49m\u001b[43m}\u001b[49m\u001b[43m,\u001b[49m\n\u001b[1;32m      4\u001b[0m \u001b[43m              \u001b[49m\u001b[43mtitle\u001b[49m\u001b[38;5;241;43m=\u001b[39;49m\u001b[38;5;124;43m\"\u001b[39;49m\u001b[38;5;124;43mBattery Capacity Over Cycles\u001b[39;49m\u001b[38;5;124;43m\"\u001b[39;49m\u001b[43m)\u001b[49m\n\u001b[1;32m      6\u001b[0m \u001b[38;5;66;03m# Show plot\u001b[39;00m\n\u001b[1;32m      7\u001b[0m fig\u001b[38;5;241m.\u001b[39mshow()\n",
      "File \u001b[0;32m~/miniconda3/envs/py310/lib/python3.10/site-packages/plotly/express/_chart_types.py:270\u001b[0m, in \u001b[0;36mline\u001b[0;34m(data_frame, x, y, line_group, color, line_dash, symbol, hover_name, hover_data, custom_data, text, facet_row, facet_col, facet_col_wrap, facet_row_spacing, facet_col_spacing, error_x, error_x_minus, error_y, error_y_minus, animation_frame, animation_group, category_orders, labels, orientation, color_discrete_sequence, color_discrete_map, line_dash_sequence, line_dash_map, symbol_sequence, symbol_map, markers, log_x, log_y, range_x, range_y, line_shape, render_mode, title, subtitle, template, width, height)\u001b[0m\n\u001b[1;32m    221\u001b[0m \u001b[38;5;28;01mdef\u001b[39;00m \u001b[38;5;21mline\u001b[39m(\n\u001b[1;32m    222\u001b[0m     data_frame\u001b[38;5;241m=\u001b[39m\u001b[38;5;28;01mNone\u001b[39;00m,\n\u001b[1;32m    223\u001b[0m     x\u001b[38;5;241m=\u001b[39m\u001b[38;5;28;01mNone\u001b[39;00m,\n\u001b[0;32m   (...)\u001b[0m\n\u001b[1;32m    264\u001b[0m     height\u001b[38;5;241m=\u001b[39m\u001b[38;5;28;01mNone\u001b[39;00m,\n\u001b[1;32m    265\u001b[0m ) \u001b[38;5;241m-\u001b[39m\u001b[38;5;241m>\u001b[39m go\u001b[38;5;241m.\u001b[39mFigure:\n\u001b[1;32m    266\u001b[0m \u001b[38;5;250m    \u001b[39m\u001b[38;5;124;03m\"\"\"\u001b[39;00m\n\u001b[1;32m    267\u001b[0m \u001b[38;5;124;03m    In a 2D line plot, each row of `data_frame` is represented as a vertex of\u001b[39;00m\n\u001b[1;32m    268\u001b[0m \u001b[38;5;124;03m    a polyline mark in 2D space.\u001b[39;00m\n\u001b[1;32m    269\u001b[0m \u001b[38;5;124;03m    \"\"\"\u001b[39;00m\n\u001b[0;32m--> 270\u001b[0m     \u001b[38;5;28;01mreturn\u001b[39;00m \u001b[43mmake_figure\u001b[49m\u001b[43m(\u001b[49m\u001b[43margs\u001b[49m\u001b[38;5;241;43m=\u001b[39;49m\u001b[38;5;28;43mlocals\u001b[39;49m\u001b[43m(\u001b[49m\u001b[43m)\u001b[49m\u001b[43m,\u001b[49m\u001b[43m \u001b[49m\u001b[43mconstructor\u001b[49m\u001b[38;5;241;43m=\u001b[39;49m\u001b[43mgo\u001b[49m\u001b[38;5;241;43m.\u001b[39;49m\u001b[43mScatter\u001b[49m\u001b[43m)\u001b[49m\n",
      "File \u001b[0;32m~/miniconda3/envs/py310/lib/python3.10/site-packages/plotly/express/_core.py:2477\u001b[0m, in \u001b[0;36mmake_figure\u001b[0;34m(args, constructor, trace_patch, layout_patch)\u001b[0m\n\u001b[1;32m   2474\u001b[0m layout_patch \u001b[38;5;241m=\u001b[39m layout_patch \u001b[38;5;129;01mor\u001b[39;00m {}\n\u001b[1;32m   2475\u001b[0m apply_default_cascade(args)\n\u001b[0;32m-> 2477\u001b[0m args \u001b[38;5;241m=\u001b[39m \u001b[43mbuild_dataframe\u001b[49m\u001b[43m(\u001b[49m\u001b[43margs\u001b[49m\u001b[43m,\u001b[49m\u001b[43m \u001b[49m\u001b[43mconstructor\u001b[49m\u001b[43m)\u001b[49m\n\u001b[1;32m   2478\u001b[0m \u001b[38;5;28;01mif\u001b[39;00m constructor \u001b[38;5;129;01min\u001b[39;00m [go\u001b[38;5;241m.\u001b[39mTreemap, go\u001b[38;5;241m.\u001b[39mSunburst, go\u001b[38;5;241m.\u001b[39mIcicle] \u001b[38;5;129;01mand\u001b[39;00m args[\u001b[38;5;124m\"\u001b[39m\u001b[38;5;124mpath\u001b[39m\u001b[38;5;124m\"\u001b[39m] \u001b[38;5;129;01mis\u001b[39;00m \u001b[38;5;129;01mnot\u001b[39;00m \u001b[38;5;28;01mNone\u001b[39;00m:\n\u001b[1;32m   2479\u001b[0m     args \u001b[38;5;241m=\u001b[39m process_dataframe_hierarchy(args)\n",
      "File \u001b[0;32m~/miniconda3/envs/py310/lib/python3.10/site-packages/plotly/express/_core.py:1727\u001b[0m, in \u001b[0;36mbuild_dataframe\u001b[0;34m(args, constructor)\u001b[0m\n\u001b[1;32m   1724\u001b[0m     args[\u001b[38;5;124m\"\u001b[39m\u001b[38;5;124mcolor\u001b[39m\u001b[38;5;124m\"\u001b[39m] \u001b[38;5;241m=\u001b[39m \u001b[38;5;28;01mNone\u001b[39;00m\n\u001b[1;32m   1725\u001b[0m \u001b[38;5;66;03m# now that things have been prepped, we do the systematic rewriting of `args`\u001b[39;00m\n\u001b[0;32m-> 1727\u001b[0m df_output, wide_id_vars \u001b[38;5;241m=\u001b[39m \u001b[43mprocess_args_into_dataframe\u001b[49m\u001b[43m(\u001b[49m\n\u001b[1;32m   1728\u001b[0m \u001b[43m    \u001b[49m\u001b[43margs\u001b[49m\u001b[43m,\u001b[49m\n\u001b[1;32m   1729\u001b[0m \u001b[43m    \u001b[49m\u001b[43mwide_mode\u001b[49m\u001b[43m,\u001b[49m\n\u001b[1;32m   1730\u001b[0m \u001b[43m    \u001b[49m\u001b[43mvar_name\u001b[49m\u001b[43m,\u001b[49m\n\u001b[1;32m   1731\u001b[0m \u001b[43m    \u001b[49m\u001b[43mvalue_name\u001b[49m\u001b[43m,\u001b[49m\n\u001b[1;32m   1732\u001b[0m \u001b[43m    \u001b[49m\u001b[43mis_pd_like\u001b[49m\u001b[43m,\u001b[49m\n\u001b[1;32m   1733\u001b[0m \u001b[43m    \u001b[49m\u001b[43mnative_namespace\u001b[49m\u001b[43m,\u001b[49m\n\u001b[1;32m   1734\u001b[0m \u001b[43m\u001b[49m\u001b[43m)\u001b[49m\n\u001b[1;32m   1735\u001b[0m df_output: nw\u001b[38;5;241m.\u001b[39mDataFrame\n\u001b[1;32m   1736\u001b[0m \u001b[38;5;66;03m# now that `df_output` exists and `args` contains only references, we complete\u001b[39;00m\n\u001b[1;32m   1737\u001b[0m \u001b[38;5;66;03m# the special-case and wide-mode handling by further rewriting args and/or mutating\u001b[39;00m\n\u001b[1;32m   1738\u001b[0m \u001b[38;5;66;03m# df_output\u001b[39;00m\n",
      "File \u001b[0;32m~/miniconda3/envs/py310/lib/python3.10/site-packages/plotly/express/_core.py:1373\u001b[0m, in \u001b[0;36mprocess_args_into_dataframe\u001b[0;34m(args, wide_mode, var_name, value_name, is_pd_like, native_namespace)\u001b[0m\n\u001b[1;32m   1370\u001b[0m         col_name \u001b[38;5;241m=\u001b[39m _check_name_not_reserved(field, reserved_names)\n\u001b[1;32m   1372\u001b[0m     \u001b[38;5;28;01mif\u001b[39;00m length \u001b[38;5;129;01mand\u001b[39;00m (len_arg \u001b[38;5;241m:=\u001b[39m \u001b[38;5;28mlen\u001b[39m(argument)) \u001b[38;5;241m!=\u001b[39m length:\n\u001b[0;32m-> 1373\u001b[0m         \u001b[38;5;28;01mraise\u001b[39;00m \u001b[38;5;167;01mValueError\u001b[39;00m(\n\u001b[1;32m   1374\u001b[0m             \u001b[38;5;124m\"\u001b[39m\u001b[38;5;124mAll arguments should have the same length. \u001b[39m\u001b[38;5;124m\"\u001b[39m\n\u001b[1;32m   1375\u001b[0m             \u001b[38;5;124m\"\u001b[39m\u001b[38;5;124mThe length of argument `\u001b[39m\u001b[38;5;132;01m%s\u001b[39;00m\u001b[38;5;124m` is \u001b[39m\u001b[38;5;132;01m%d\u001b[39;00m\u001b[38;5;124m, whereas the \u001b[39m\u001b[38;5;124m\"\u001b[39m\n\u001b[1;32m   1376\u001b[0m             \u001b[38;5;124m\"\u001b[39m\u001b[38;5;124mlength of previously-processed arguments \u001b[39m\u001b[38;5;132;01m%s\u001b[39;00m\u001b[38;5;124m is \u001b[39m\u001b[38;5;132;01m%d\u001b[39;00m\u001b[38;5;124m\"\u001b[39m\n\u001b[1;32m   1377\u001b[0m             \u001b[38;5;241m%\u001b[39m (field, len_arg, \u001b[38;5;28mstr\u001b[39m(\u001b[38;5;28mlist\u001b[39m(df_output\u001b[38;5;241m.\u001b[39mkeys())), length)\n\u001b[1;32m   1378\u001b[0m         )\n\u001b[1;32m   1380\u001b[0m     df_output[\u001b[38;5;28mstr\u001b[39m(col_name)] \u001b[38;5;241m=\u001b[39m to_named_series(\n\u001b[1;32m   1381\u001b[0m         x\u001b[38;5;241m=\u001b[39margument,\n\u001b[1;32m   1382\u001b[0m         name\u001b[38;5;241m=\u001b[39m\u001b[38;5;28mstr\u001b[39m(col_name),\n\u001b[1;32m   1383\u001b[0m         native_namespace\u001b[38;5;241m=\u001b[39mnative_namespace,\n\u001b[1;32m   1384\u001b[0m     )\n\u001b[1;32m   1386\u001b[0m \u001b[38;5;66;03m# Finally, update argument with column name now that column exists\u001b[39;00m\n",
      "\u001b[0;31mValueError\u001b[0m: All arguments should have the same length. The length of argument `y` is 4, whereas the length of previously-processed arguments ['cycle'] is 996"
     ]
    }
   ],
   "source": [
    "# Create interactive line plot\n",
    "fig = px.line(df_all_cell, x=\"cycle\", y=[\"capacity_CS2_35\", \"capacity_CS2_36\", \"capacity_CS2_37\", \"capacity_CS2_38\"],\n",
    "              labels={\"cycle\": \"Cycle Number\", \"value\": \"Capacity\"},\n",
    "              title=\"Battery Capacity Over Cycles\")\n",
    "\n",
    "# Show plot\n",
    "fig.show()"
   ]
  },
  {
   "cell_type": "markdown",
   "metadata": {},
   "source": [
    "### Prediction 1: assume next cycle capcit equals to current one"
   ]
  },
  {
   "cell_type": "code",
   "execution_count": null,
   "metadata": {},
   "outputs": [
    {
     "data": {
      "text/plain": [
       "0.00716777761082984"
      ]
     },
     "execution_count": 5,
     "metadata": {},
     "output_type": "execute_result"
    }
   ],
   "source": [
    "# use CS2_35\n",
    "RE_list_raw = list(df_all_cell[\"capacity_CS2_35\"].diff(1)/df_all_cell[\"capacity_CS2_35\"])[1:]\n",
    "RE_list = [abs(i) for i in RE_list_raw]\n",
    "RE_mean = sum(RE_list)/len(RE_list)\n",
    "RE_mean"
   ]
  },
  {
   "cell_type": "markdown",
   "metadata": {},
   "source": [
    "### Prediction 1 extension: give a constant decrease for each cycle 0"
   ]
  },
  {
   "cell_type": "code",
   "execution_count": null,
   "metadata": {},
   "outputs": [],
   "source": [
    "def calculate_re_with_diff(df, diff):\n",
    "    diff_capacities = list(df[\"capacity_CS2_35\"].diff(1)/df[\"capacity_CS2_35\"])[1:]\n",
    "    res = sum([abs(i + diff) for i in diff_capacities])/len(diff_capacities)\n",
    "    return res"
   ]
  },
  {
   "cell_type": "code",
   "execution_count": null,
   "metadata": {},
   "outputs": [
    {
     "data": {
      "application/vnd.plotly.v1+json": {
       "config": {
        "plotlyServerURL": "https://plot.ly"
       },
       "data": [
        {
         "hovertemplate": "x=%{x}<br>y=%{y}<extra></extra>",
         "legendgroup": "",
         "line": {
          "color": "#636efa",
          "dash": "solid"
         },
         "marker": {
          "symbol": "circle"
         },
         "mode": "lines",
         "name": "",
         "orientation": "v",
         "showlegend": false,
         "type": "scatter",
         "x": {
          "bdata": "LUMc6+I2Gj8tQxzr4jYqP2IyVTAqqTM/LUMc6+I2Oj/8qfHSTWJAP2IyVTAqqUM/x7q4jQbwRj8tQxzr4jZKP5PLf0i/fU0//Knx0k1iUD8vbqMBvAVSP2IyVTAqqVM/lfYGX5hMVT/HuriNBvBWP/p+arx0k1g/LUMc6+I2Wj9gB84ZUdpbP5PLf0i/fV0/xY8xdy0hXz/8qfHSTWJgPxaMSuoENGE/L26jAbwFYj9IUPwYc9diP2IyVTAqqWM/exSuR+F6ZD+V9gZfmExlP67YX3ZPHmY/x7q4jQbwZj/hnBGlvcFnP/p+arx0k2g/FGHD0ytlaT8tQxzr4jZqP0YldQKaCGs/YAfOGVHaaz956SYxCKxsP5PLf0i/fW0/rK3YX3ZPbj/FjzF3LSFvP99xio7k8m8//Knx0k1icD8JG55eKctwPxaMSuoENHE/Iv32deCccT8vbqMBvAVyPzzfT42XbnI/SFD8GHPXcj9VwaikTkBzP2IyVTAqqXM/bqMBvAUSdD97FK5H4Xp0P4iFWtO843Q/lfYGX5hMdT+hZ7Pqc7V1P67YX3ZPHnY/u0kMAiuHdj/HuriNBvB2P9QrZRniWHc/4ZwRpb3Bdz/tDb4wmSp4P/p+arx0k3g/B/AWSFD8eD8UYcPTK2V5PyDSb18Hznk/LUMc6+I2ej86tMh2vp96P0YldQKaCHs/U5YhjnVxez9gB84ZUdp7P214eqUsQ3w/eekmMQisfD+GWtO84xR9P5PLf0i/fX0/nzws1JrmfT+srdhfdk9+P7kehetRuH4/xY8xdy0hfz/SAN4CCYp/P99xio7k8n8/dnEbDeAtgD/8qfHSTWKAP4Lix5i7loA/CRueXinLgD+PU3Qkl/+APxaMSuoENIE/nMQgsHJogT8i/fZ14JyBP6k1zTtO0YE/L26jAbwFgj+1pnnHKTqCPzzfT42XboI/whcmUwWjgj9IUPwYc9eCP8+I0t7gC4M/VcGopE5Agz/b+X5qvHSDP2IyVTAqqYM/6Gor9pfdgz9uowG8BRKEP/Xb14FzRoQ/",
          "dtype": "f8"
         },
         "xaxis": "x",
         "y": {
          "bdata": "DAF3AdZYfT85NcSgq2F9PyiB9Paocn0/dRLScMaJfT8t/eMfjqV9P5ZY5V2vxX0/W5RZEf/pfT+VLNMIJBF+P0iIgGlgOn4/GRLF+W5lfj+NbG+NxJJ+P6NeikxqwX4/XY/stmzxfj8ZxwTfKiN/P8jjU9khVn8/ta1qjTaKfz8rJbDUhb5/P03Sm9YC838/ub9D7L8TgD8COqR9Ai6AP/1TqG52SIA/tb8BcC1jgD9CHdZf532AP2xm0nnPmIA/TBj0UuGzgD8OTxYd9c6AP6B1n/cR6oA/h5XsOUQFgT96tTl8diCBPxR+c1zEO4E/L4frFhVXgT+wAEo5g3KBP/3y7GvyjYE/RuWPnmGpgT+P1zLR0MSBP7SYHk1L4IE/LHTs99j7gT+iT7qiZheCPxUriE30MoI/2u0vaZFOgj9/siiMPWqCPyV3Ia/phYI/wDsa0pWhgj+zl6geWr2CP31FzLkk2YI/UvPvVO/0gj9DSAurwBCDP0HfWb6pLIM/X4n337JIgz+08pvj2GSDP/9bQOf+gIM/CG+kgimdgz+EwXP+bbmDP9EM+Uq31YM/7lTIAjPygz+1htfp2g6EPyepGkGxK4Q/RugBMKNIhD/2mv30vGWEP0bAqXcOg4Q/Mcir55aghD/odeI/SL6EP9mFhp073IQ/HxdrSUv6hD9Kt31YlBiFPwetfrnwNoU/o6ZCvpNVhT+fBvrOXnSFPwZTC+tSk4U/nK9F02qyhT+zhchco9GFP+LDTNk58YU/PacQ6eUQhj/mTOd5vDCGPyvVQAuTUIY/KzHt/5Bwhj+ZZv73zpCGP+Rnyl0tsYY/CDQ+RrDRhj8LMuyUTvKGPwqoy8pLE4c/4iP4xIA0hz9MMZII6lWHP+0xlcWgd4c/s0mumGiZhz8GiQwFm7uHP9bq+LEw3oc/0MRzVwoBiD83qAI5IySIP9Q/q1uUR4g/hclGdyNriD84XEKNyY6IPzXG+T7Usog/Iv5D0iLXiD+QPp/uvfuIP3wlgDaUIIk/A4q/K4RFiT9DQ/Zjl2qJP/1f4x7Ij4k/",
          "dtype": "f8"
         },
         "yaxis": "y"
        }
       ],
       "layout": {
        "legend": {
         "tracegroupgap": 0
        },
        "margin": {
         "t": 60
        },
        "template": {
         "data": {
          "bar": [
           {
            "error_x": {
             "color": "#2a3f5f"
            },
            "error_y": {
             "color": "#2a3f5f"
            },
            "marker": {
             "line": {
              "color": "#E5ECF6",
              "width": 0.5
             },
             "pattern": {
              "fillmode": "overlay",
              "size": 10,
              "solidity": 0.2
             }
            },
            "type": "bar"
           }
          ],
          "barpolar": [
           {
            "marker": {
             "line": {
              "color": "#E5ECF6",
              "width": 0.5
             },
             "pattern": {
              "fillmode": "overlay",
              "size": 10,
              "solidity": 0.2
             }
            },
            "type": "barpolar"
           }
          ],
          "carpet": [
           {
            "aaxis": {
             "endlinecolor": "#2a3f5f",
             "gridcolor": "white",
             "linecolor": "white",
             "minorgridcolor": "white",
             "startlinecolor": "#2a3f5f"
            },
            "baxis": {
             "endlinecolor": "#2a3f5f",
             "gridcolor": "white",
             "linecolor": "white",
             "minorgridcolor": "white",
             "startlinecolor": "#2a3f5f"
            },
            "type": "carpet"
           }
          ],
          "choropleth": [
           {
            "colorbar": {
             "outlinewidth": 0,
             "ticks": ""
            },
            "type": "choropleth"
           }
          ],
          "contour": [
           {
            "colorbar": {
             "outlinewidth": 0,
             "ticks": ""
            },
            "colorscale": [
             [
              0,
              "#0d0887"
             ],
             [
              0.1111111111111111,
              "#46039f"
             ],
             [
              0.2222222222222222,
              "#7201a8"
             ],
             [
              0.3333333333333333,
              "#9c179e"
             ],
             [
              0.4444444444444444,
              "#bd3786"
             ],
             [
              0.5555555555555556,
              "#d8576b"
             ],
             [
              0.6666666666666666,
              "#ed7953"
             ],
             [
              0.7777777777777778,
              "#fb9f3a"
             ],
             [
              0.8888888888888888,
              "#fdca26"
             ],
             [
              1,
              "#f0f921"
             ]
            ],
            "type": "contour"
           }
          ],
          "contourcarpet": [
           {
            "colorbar": {
             "outlinewidth": 0,
             "ticks": ""
            },
            "type": "contourcarpet"
           }
          ],
          "heatmap": [
           {
            "colorbar": {
             "outlinewidth": 0,
             "ticks": ""
            },
            "colorscale": [
             [
              0,
              "#0d0887"
             ],
             [
              0.1111111111111111,
              "#46039f"
             ],
             [
              0.2222222222222222,
              "#7201a8"
             ],
             [
              0.3333333333333333,
              "#9c179e"
             ],
             [
              0.4444444444444444,
              "#bd3786"
             ],
             [
              0.5555555555555556,
              "#d8576b"
             ],
             [
              0.6666666666666666,
              "#ed7953"
             ],
             [
              0.7777777777777778,
              "#fb9f3a"
             ],
             [
              0.8888888888888888,
              "#fdca26"
             ],
             [
              1,
              "#f0f921"
             ]
            ],
            "type": "heatmap"
           }
          ],
          "histogram": [
           {
            "marker": {
             "pattern": {
              "fillmode": "overlay",
              "size": 10,
              "solidity": 0.2
             }
            },
            "type": "histogram"
           }
          ],
          "histogram2d": [
           {
            "colorbar": {
             "outlinewidth": 0,
             "ticks": ""
            },
            "colorscale": [
             [
              0,
              "#0d0887"
             ],
             [
              0.1111111111111111,
              "#46039f"
             ],
             [
              0.2222222222222222,
              "#7201a8"
             ],
             [
              0.3333333333333333,
              "#9c179e"
             ],
             [
              0.4444444444444444,
              "#bd3786"
             ],
             [
              0.5555555555555556,
              "#d8576b"
             ],
             [
              0.6666666666666666,
              "#ed7953"
             ],
             [
              0.7777777777777778,
              "#fb9f3a"
             ],
             [
              0.8888888888888888,
              "#fdca26"
             ],
             [
              1,
              "#f0f921"
             ]
            ],
            "type": "histogram2d"
           }
          ],
          "histogram2dcontour": [
           {
            "colorbar": {
             "outlinewidth": 0,
             "ticks": ""
            },
            "colorscale": [
             [
              0,
              "#0d0887"
             ],
             [
              0.1111111111111111,
              "#46039f"
             ],
             [
              0.2222222222222222,
              "#7201a8"
             ],
             [
              0.3333333333333333,
              "#9c179e"
             ],
             [
              0.4444444444444444,
              "#bd3786"
             ],
             [
              0.5555555555555556,
              "#d8576b"
             ],
             [
              0.6666666666666666,
              "#ed7953"
             ],
             [
              0.7777777777777778,
              "#fb9f3a"
             ],
             [
              0.8888888888888888,
              "#fdca26"
             ],
             [
              1,
              "#f0f921"
             ]
            ],
            "type": "histogram2dcontour"
           }
          ],
          "mesh3d": [
           {
            "colorbar": {
             "outlinewidth": 0,
             "ticks": ""
            },
            "type": "mesh3d"
           }
          ],
          "parcoords": [
           {
            "line": {
             "colorbar": {
              "outlinewidth": 0,
              "ticks": ""
             }
            },
            "type": "parcoords"
           }
          ],
          "pie": [
           {
            "automargin": true,
            "type": "pie"
           }
          ],
          "scatter": [
           {
            "fillpattern": {
             "fillmode": "overlay",
             "size": 10,
             "solidity": 0.2
            },
            "type": "scatter"
           }
          ],
          "scatter3d": [
           {
            "line": {
             "colorbar": {
              "outlinewidth": 0,
              "ticks": ""
             }
            },
            "marker": {
             "colorbar": {
              "outlinewidth": 0,
              "ticks": ""
             }
            },
            "type": "scatter3d"
           }
          ],
          "scattercarpet": [
           {
            "marker": {
             "colorbar": {
              "outlinewidth": 0,
              "ticks": ""
             }
            },
            "type": "scattercarpet"
           }
          ],
          "scattergeo": [
           {
            "marker": {
             "colorbar": {
              "outlinewidth": 0,
              "ticks": ""
             }
            },
            "type": "scattergeo"
           }
          ],
          "scattergl": [
           {
            "marker": {
             "colorbar": {
              "outlinewidth": 0,
              "ticks": ""
             }
            },
            "type": "scattergl"
           }
          ],
          "scattermap": [
           {
            "marker": {
             "colorbar": {
              "outlinewidth": 0,
              "ticks": ""
             }
            },
            "type": "scattermap"
           }
          ],
          "scattermapbox": [
           {
            "marker": {
             "colorbar": {
              "outlinewidth": 0,
              "ticks": ""
             }
            },
            "type": "scattermapbox"
           }
          ],
          "scatterpolar": [
           {
            "marker": {
             "colorbar": {
              "outlinewidth": 0,
              "ticks": ""
             }
            },
            "type": "scatterpolar"
           }
          ],
          "scatterpolargl": [
           {
            "marker": {
             "colorbar": {
              "outlinewidth": 0,
              "ticks": ""
             }
            },
            "type": "scatterpolargl"
           }
          ],
          "scatterternary": [
           {
            "marker": {
             "colorbar": {
              "outlinewidth": 0,
              "ticks": ""
             }
            },
            "type": "scatterternary"
           }
          ],
          "surface": [
           {
            "colorbar": {
             "outlinewidth": 0,
             "ticks": ""
            },
            "colorscale": [
             [
              0,
              "#0d0887"
             ],
             [
              0.1111111111111111,
              "#46039f"
             ],
             [
              0.2222222222222222,
              "#7201a8"
             ],
             [
              0.3333333333333333,
              "#9c179e"
             ],
             [
              0.4444444444444444,
              "#bd3786"
             ],
             [
              0.5555555555555556,
              "#d8576b"
             ],
             [
              0.6666666666666666,
              "#ed7953"
             ],
             [
              0.7777777777777778,
              "#fb9f3a"
             ],
             [
              0.8888888888888888,
              "#fdca26"
             ],
             [
              1,
              "#f0f921"
             ]
            ],
            "type": "surface"
           }
          ],
          "table": [
           {
            "cells": {
             "fill": {
              "color": "#EBF0F8"
             },
             "line": {
              "color": "white"
             }
            },
            "header": {
             "fill": {
              "color": "#C8D4E3"
             },
             "line": {
              "color": "white"
             }
            },
            "type": "table"
           }
          ]
         },
         "layout": {
          "annotationdefaults": {
           "arrowcolor": "#2a3f5f",
           "arrowhead": 0,
           "arrowwidth": 1
          },
          "autotypenumbers": "strict",
          "coloraxis": {
           "colorbar": {
            "outlinewidth": 0,
            "ticks": ""
           }
          },
          "colorscale": {
           "diverging": [
            [
             0,
             "#8e0152"
            ],
            [
             0.1,
             "#c51b7d"
            ],
            [
             0.2,
             "#de77ae"
            ],
            [
             0.3,
             "#f1b6da"
            ],
            [
             0.4,
             "#fde0ef"
            ],
            [
             0.5,
             "#f7f7f7"
            ],
            [
             0.6,
             "#e6f5d0"
            ],
            [
             0.7,
             "#b8e186"
            ],
            [
             0.8,
             "#7fbc41"
            ],
            [
             0.9,
             "#4d9221"
            ],
            [
             1,
             "#276419"
            ]
           ],
           "sequential": [
            [
             0,
             "#0d0887"
            ],
            [
             0.1111111111111111,
             "#46039f"
            ],
            [
             0.2222222222222222,
             "#7201a8"
            ],
            [
             0.3333333333333333,
             "#9c179e"
            ],
            [
             0.4444444444444444,
             "#bd3786"
            ],
            [
             0.5555555555555556,
             "#d8576b"
            ],
            [
             0.6666666666666666,
             "#ed7953"
            ],
            [
             0.7777777777777778,
             "#fb9f3a"
            ],
            [
             0.8888888888888888,
             "#fdca26"
            ],
            [
             1,
             "#f0f921"
            ]
           ],
           "sequentialminus": [
            [
             0,
             "#0d0887"
            ],
            [
             0.1111111111111111,
             "#46039f"
            ],
            [
             0.2222222222222222,
             "#7201a8"
            ],
            [
             0.3333333333333333,
             "#9c179e"
            ],
            [
             0.4444444444444444,
             "#bd3786"
            ],
            [
             0.5555555555555556,
             "#d8576b"
            ],
            [
             0.6666666666666666,
             "#ed7953"
            ],
            [
             0.7777777777777778,
             "#fb9f3a"
            ],
            [
             0.8888888888888888,
             "#fdca26"
            ],
            [
             1,
             "#f0f921"
            ]
           ]
          },
          "colorway": [
           "#636efa",
           "#EF553B",
           "#00cc96",
           "#ab63fa",
           "#FFA15A",
           "#19d3f3",
           "#FF6692",
           "#B6E880",
           "#FF97FF",
           "#FECB52"
          ],
          "font": {
           "color": "#2a3f5f"
          },
          "geo": {
           "bgcolor": "white",
           "lakecolor": "white",
           "landcolor": "#E5ECF6",
           "showlakes": true,
           "showland": true,
           "subunitcolor": "white"
          },
          "hoverlabel": {
           "align": "left"
          },
          "hovermode": "closest",
          "mapbox": {
           "style": "light"
          },
          "paper_bgcolor": "white",
          "plot_bgcolor": "#E5ECF6",
          "polar": {
           "angularaxis": {
            "gridcolor": "white",
            "linecolor": "white",
            "ticks": ""
           },
           "bgcolor": "#E5ECF6",
           "radialaxis": {
            "gridcolor": "white",
            "linecolor": "white",
            "ticks": ""
           }
          },
          "scene": {
           "xaxis": {
            "backgroundcolor": "#E5ECF6",
            "gridcolor": "white",
            "gridwidth": 2,
            "linecolor": "white",
            "showbackground": true,
            "ticks": "",
            "zerolinecolor": "white"
           },
           "yaxis": {
            "backgroundcolor": "#E5ECF6",
            "gridcolor": "white",
            "gridwidth": 2,
            "linecolor": "white",
            "showbackground": true,
            "ticks": "",
            "zerolinecolor": "white"
           },
           "zaxis": {
            "backgroundcolor": "#E5ECF6",
            "gridcolor": "white",
            "gridwidth": 2,
            "linecolor": "white",
            "showbackground": true,
            "ticks": "",
            "zerolinecolor": "white"
           }
          },
          "shapedefaults": {
           "line": {
            "color": "#2a3f5f"
           }
          },
          "ternary": {
           "aaxis": {
            "gridcolor": "white",
            "linecolor": "white",
            "ticks": ""
           },
           "baxis": {
            "gridcolor": "white",
            "linecolor": "white",
            "ticks": ""
           },
           "bgcolor": "#E5ECF6",
           "caxis": {
            "gridcolor": "white",
            "linecolor": "white",
            "ticks": ""
           }
          },
          "title": {
           "x": 0.05
          },
          "xaxis": {
           "automargin": true,
           "gridcolor": "white",
           "linecolor": "white",
           "ticks": "",
           "title": {
            "standoff": 15
           },
           "zerolinecolor": "white",
           "zerolinewidth": 2
          },
          "yaxis": {
           "automargin": true,
           "gridcolor": "white",
           "linecolor": "white",
           "ticks": "",
           "title": {
            "standoff": 15
           },
           "zerolinecolor": "white",
           "zerolinewidth": 2
          }
         }
        },
        "xaxis": {
         "anchor": "y",
         "domain": [
          0,
          1
         ],
         "title": {
          "text": "x"
         }
        },
        "yaxis": {
         "anchor": "x",
         "domain": [
          0,
          1
         ],
         "title": {
          "text": "y"
         }
        }
       }
      }
     },
     "metadata": {},
     "output_type": "display_data"
    }
   ],
   "source": [
    "x = [i * 0.0001 for i in range(1, 100,1)]\n",
    "y = [calculate_re_with_diff(df_all_cell, i) for i in x]\n",
    "fig = px.line(x=x, y=y)\n",
    "fig.show()"
   ]
  },
  {
   "cell_type": "code",
   "execution_count": null,
   "metadata": {},
   "outputs": [],
   "source": []
  }
 ],
 "metadata": {
  "kernelspec": {
   "display_name": "py310",
   "language": "python",
   "name": "python3"
  },
  "language_info": {
   "codemirror_mode": {
    "name": "ipython",
    "version": 3
   },
   "file_extension": ".py",
   "mimetype": "text/x-python",
   "name": "python",
   "nbconvert_exporter": "python",
   "pygments_lexer": "ipython3",
   "version": "3.10.12"
  }
 },
 "nbformat": 4,
 "nbformat_minor": 2
}
