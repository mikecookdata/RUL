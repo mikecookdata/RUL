{
 "cells": [
  {
   "cell_type": "code",
   "execution_count": 1,
   "metadata": {},
   "outputs": [
    {
     "name": "stdout",
     "output_type": "stream",
     "text": [
      "Using device: mps\n"
     ]
    }
   ],
   "source": [
    "import pandas as pd\n",
    "import glob\n",
    "import plotly.express as px\n",
    "import torch\n",
    "from model import TransformerModel\n",
    "has_mps = torch.backends.mps.is_built()\n",
    "device = \"mps\" if has_mps else \"cuda\" if torch.cuda.is_available() else \"cpu\"\n",
    "print(f\"Using device: {device}\")"
   ]
  },
  {
   "cell_type": "code",
   "execution_count": 2,
   "metadata": {},
   "outputs": [
    {
     "data": {
      "text/plain": [
       "['./datasets/CALCE/CALCE.csv',\n",
       " './datasets/CALCE/CS2_38.csv',\n",
       " './datasets/CALCE/CS2_37.csv',\n",
       " './datasets/CALCE/CS2_36.csv',\n",
       " './datasets/CALCE/CS2_35.csv']"
      ]
     },
     "execution_count": 2,
     "metadata": {},
     "output_type": "execute_result"
    }
   ],
   "source": [
    "data_files = glob.glob(\"./datasets/CALCE/*.csv\")\n",
    "cell_names = [\"CS2_35\", \"CS2_36\", \"CS2_37\", \"CS2_38\"]\n",
    "data_files"
   ]
  },
  {
   "cell_type": "code",
   "execution_count": 3,
   "metadata": {},
   "outputs": [
    {
     "data": {
      "application/vnd.plotly.v1+json": {
       "config": {
        "plotlyServerURL": "https://plot.ly"
       },
       "data": [
        {
         "hovertemplate": "variable=0<br>index=%{x}<br>value=%{y}<extra></extra>",
         "legendgroup": "0",
         "marker": {
          "color": "#636efa",
          "symbol": "circle"
         },
         "mode": "markers",
         "name": "0",
         "orientation": "v",
         "showlegend": true,
         "type": "scatter",
         "x": {
          "bdata": "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",
          "dtype": "i2"
         },
         "xaxis": "x",
         "y": {
          "bdata": "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",
          "dtype": "f8"
         },
         "yaxis": "y"
        }
       ],
       "layout": {
        "legend": {
         "title": {
          "text": "variable"
         },
         "tracegroupgap": 0
        },
        "margin": {
         "t": 60
        },
        "template": {
         "data": {
          "bar": [
           {
            "error_x": {
             "color": "#2a3f5f"
            },
            "error_y": {
             "color": "#2a3f5f"
            },
            "marker": {
             "line": {
              "color": "#E5ECF6",
              "width": 0.5
             },
             "pattern": {
              "fillmode": "overlay",
              "size": 10,
              "solidity": 0.2
             }
            },
            "type": "bar"
           }
          ],
          "barpolar": [
           {
            "marker": {
             "line": {
              "color": "#E5ECF6",
              "width": 0.5
             },
             "pattern": {
              "fillmode": "overlay",
              "size": 10,
              "solidity": 0.2
             }
            },
            "type": "barpolar"
           }
          ],
          "carpet": [
           {
            "aaxis": {
             "endlinecolor": "#2a3f5f",
             "gridcolor": "white",
             "linecolor": "white",
             "minorgridcolor": "white",
             "startlinecolor": "#2a3f5f"
            },
            "baxis": {
             "endlinecolor": "#2a3f5f",
             "gridcolor": "white",
             "linecolor": "white",
             "minorgridcolor": "white",
             "startlinecolor": "#2a3f5f"
            },
            "type": "carpet"
           }
          ],
          "choropleth": [
           {
            "colorbar": {
             "outlinewidth": 0,
             "ticks": ""
            },
            "type": "choropleth"
           }
          ],
          "contour": [
           {
            "colorbar": {
             "outlinewidth": 0,
             "ticks": ""
            },
            "colorscale": [
             [
              0,
              "#0d0887"
             ],
             [
              0.1111111111111111,
              "#46039f"
             ],
             [
              0.2222222222222222,
              "#7201a8"
             ],
             [
              0.3333333333333333,
              "#9c179e"
             ],
             [
              0.4444444444444444,
              "#bd3786"
             ],
             [
              0.5555555555555556,
              "#d8576b"
             ],
             [
              0.6666666666666666,
              "#ed7953"
             ],
             [
              0.7777777777777778,
              "#fb9f3a"
             ],
             [
              0.8888888888888888,
              "#fdca26"
             ],
             [
              1,
              "#f0f921"
             ]
            ],
            "type": "contour"
           }
          ],
          "contourcarpet": [
           {
            "colorbar": {
             "outlinewidth": 0,
             "ticks": ""
            },
            "type": "contourcarpet"
           }
          ],
          "heatmap": [
           {
            "colorbar": {
             "outlinewidth": 0,
             "ticks": ""
            },
            "colorscale": [
             [
              0,
              "#0d0887"
             ],
             [
              0.1111111111111111,
              "#46039f"
             ],
             [
              0.2222222222222222,
              "#7201a8"
             ],
             [
              0.3333333333333333,
              "#9c179e"
             ],
             [
              0.4444444444444444,
              "#bd3786"
             ],
             [
              0.5555555555555556,
              "#d8576b"
             ],
             [
              0.6666666666666666,
              "#ed7953"
             ],
             [
              0.7777777777777778,
              "#fb9f3a"
             ],
             [
              0.8888888888888888,
              "#fdca26"
             ],
             [
              1,
              "#f0f921"
             ]
            ],
            "type": "heatmap"
           }
          ],
          "histogram": [
           {
            "marker": {
             "pattern": {
              "fillmode": "overlay",
              "size": 10,
              "solidity": 0.2
             }
            },
            "type": "histogram"
           }
          ],
          "histogram2d": [
           {
            "colorbar": {
             "outlinewidth": 0,
             "ticks": ""
            },
            "colorscale": [
             [
              0,
              "#0d0887"
             ],
             [
              0.1111111111111111,
              "#46039f"
             ],
             [
              0.2222222222222222,
              "#7201a8"
             ],
             [
              0.3333333333333333,
              "#9c179e"
             ],
             [
              0.4444444444444444,
              "#bd3786"
             ],
             [
              0.5555555555555556,
              "#d8576b"
             ],
             [
              0.6666666666666666,
              "#ed7953"
             ],
             [
              0.7777777777777778,
              "#fb9f3a"
             ],
             [
              0.8888888888888888,
              "#fdca26"
             ],
             [
              1,
              "#f0f921"
             ]
            ],
            "type": "histogram2d"
           }
          ],
          "histogram2dcontour": [
           {
            "colorbar": {
             "outlinewidth": 0,
             "ticks": ""
            },
            "colorscale": [
             [
              0,
              "#0d0887"
             ],
             [
              0.1111111111111111,
              "#46039f"
             ],
             [
              0.2222222222222222,
              "#7201a8"
             ],
             [
              0.3333333333333333,
              "#9c179e"
             ],
             [
              0.4444444444444444,
              "#bd3786"
             ],
             [
              0.5555555555555556,
              "#d8576b"
             ],
             [
              0.6666666666666666,
              "#ed7953"
             ],
             [
              0.7777777777777778,
              "#fb9f3a"
             ],
             [
              0.8888888888888888,
              "#fdca26"
             ],
             [
              1,
              "#f0f921"
             ]
            ],
            "type": "histogram2dcontour"
           }
          ],
          "mesh3d": [
           {
            "colorbar": {
             "outlinewidth": 0,
             "ticks": ""
            },
            "type": "mesh3d"
           }
          ],
          "parcoords": [
           {
            "line": {
             "colorbar": {
              "outlinewidth": 0,
              "ticks": ""
             }
            },
            "type": "parcoords"
           }
          ],
          "pie": [
           {
            "automargin": true,
            "type": "pie"
           }
          ],
          "scatter": [
           {
            "fillpattern": {
             "fillmode": "overlay",
             "size": 10,
             "solidity": 0.2
            },
            "type": "scatter"
           }
          ],
          "scatter3d": [
           {
            "line": {
             "colorbar": {
              "outlinewidth": 0,
              "ticks": ""
             }
            },
            "marker": {
             "colorbar": {
              "outlinewidth": 0,
              "ticks": ""
             }
            },
            "type": "scatter3d"
           }
          ],
          "scattercarpet": [
           {
            "marker": {
             "colorbar": {
              "outlinewidth": 0,
              "ticks": ""
             }
            },
            "type": "scattercarpet"
           }
          ],
          "scattergeo": [
           {
            "marker": {
             "colorbar": {
              "outlinewidth": 0,
              "ticks": ""
             }
            },
            "type": "scattergeo"
           }
          ],
          "scattergl": [
           {
            "marker": {
             "colorbar": {
              "outlinewidth": 0,
              "ticks": ""
             }
            },
            "type": "scattergl"
           }
          ],
          "scattermap": [
           {
            "marker": {
             "colorbar": {
              "outlinewidth": 0,
              "ticks": ""
             }
            },
            "type": "scattermap"
           }
          ],
          "scattermapbox": [
           {
            "marker": {
             "colorbar": {
              "outlinewidth": 0,
              "ticks": ""
             }
            },
            "type": "scattermapbox"
           }
          ],
          "scatterpolar": [
           {
            "marker": {
             "colorbar": {
              "outlinewidth": 0,
              "ticks": ""
             }
            },
            "type": "scatterpolar"
           }
          ],
          "scatterpolargl": [
           {
            "marker": {
             "colorbar": {
              "outlinewidth": 0,
              "ticks": ""
             }
            },
            "type": "scatterpolargl"
           }
          ],
          "scatterternary": [
           {
            "marker": {
             "colorbar": {
              "outlinewidth": 0,
              "ticks": ""
             }
            },
            "type": "scatterternary"
           }
          ],
          "surface": [
           {
            "colorbar": {
             "outlinewidth": 0,
             "ticks": ""
            },
            "colorscale": [
             [
              0,
              "#0d0887"
             ],
             [
              0.1111111111111111,
              "#46039f"
             ],
             [
              0.2222222222222222,
              "#7201a8"
             ],
             [
              0.3333333333333333,
              "#9c179e"
             ],
             [
              0.4444444444444444,
              "#bd3786"
             ],
             [
              0.5555555555555556,
              "#d8576b"
             ],
             [
              0.6666666666666666,
              "#ed7953"
             ],
             [
              0.7777777777777778,
              "#fb9f3a"
             ],
             [
              0.8888888888888888,
              "#fdca26"
             ],
             [
              1,
              "#f0f921"
             ]
            ],
            "type": "surface"
           }
          ],
          "table": [
           {
            "cells": {
             "fill": {
              "color": "#EBF0F8"
             },
             "line": {
              "color": "white"
             }
            },
            "header": {
             "fill": {
              "color": "#C8D4E3"
             },
             "line": {
              "color": "white"
             }
            },
            "type": "table"
           }
          ]
         },
         "layout": {
          "annotationdefaults": {
           "arrowcolor": "#2a3f5f",
           "arrowhead": 0,
           "arrowwidth": 1
          },
          "autotypenumbers": "strict",
          "coloraxis": {
           "colorbar": {
            "outlinewidth": 0,
            "ticks": ""
           }
          },
          "colorscale": {
           "diverging": [
            [
             0,
             "#8e0152"
            ],
            [
             0.1,
             "#c51b7d"
            ],
            [
             0.2,
             "#de77ae"
            ],
            [
             0.3,
             "#f1b6da"
            ],
            [
             0.4,
             "#fde0ef"
            ],
            [
             0.5,
             "#f7f7f7"
            ],
            [
             0.6,
             "#e6f5d0"
            ],
            [
             0.7,
             "#b8e186"
            ],
            [
             0.8,
             "#7fbc41"
            ],
            [
             0.9,
             "#4d9221"
            ],
            [
             1,
             "#276419"
            ]
           ],
           "sequential": [
            [
             0,
             "#0d0887"
            ],
            [
             0.1111111111111111,
             "#46039f"
            ],
            [
             0.2222222222222222,
             "#7201a8"
            ],
            [
             0.3333333333333333,
             "#9c179e"
            ],
            [
             0.4444444444444444,
             "#bd3786"
            ],
            [
             0.5555555555555556,
             "#d8576b"
            ],
            [
             0.6666666666666666,
             "#ed7953"
            ],
            [
             0.7777777777777778,
             "#fb9f3a"
            ],
            [
             0.8888888888888888,
             "#fdca26"
            ],
            [
             1,
             "#f0f921"
            ]
           ],
           "sequentialminus": [
            [
             0,
             "#0d0887"
            ],
            [
             0.1111111111111111,
             "#46039f"
            ],
            [
             0.2222222222222222,
             "#7201a8"
            ],
            [
             0.3333333333333333,
             "#9c179e"
            ],
            [
             0.4444444444444444,
             "#bd3786"
            ],
            [
             0.5555555555555556,
             "#d8576b"
            ],
            [
             0.6666666666666666,
             "#ed7953"
            ],
            [
             0.7777777777777778,
             "#fb9f3a"
            ],
            [
             0.8888888888888888,
             "#fdca26"
            ],
            [
             1,
             "#f0f921"
            ]
           ]
          },
          "colorway": [
           "#636efa",
           "#EF553B",
           "#00cc96",
           "#ab63fa",
           "#FFA15A",
           "#19d3f3",
           "#FF6692",
           "#B6E880",
           "#FF97FF",
           "#FECB52"
          ],
          "font": {
           "color": "#2a3f5f"
          },
          "geo": {
           "bgcolor": "white",
           "lakecolor": "white",
           "landcolor": "#E5ECF6",
           "showlakes": true,
           "showland": true,
           "subunitcolor": "white"
          },
          "hoverlabel": {
           "align": "left"
          },
          "hovermode": "closest",
          "mapbox": {
           "style": "light"
          },
          "paper_bgcolor": "white",
          "plot_bgcolor": "#E5ECF6",
          "polar": {
           "angularaxis": {
            "gridcolor": "white",
            "linecolor": "white",
            "ticks": ""
           },
           "bgcolor": "#E5ECF6",
           "radialaxis": {
            "gridcolor": "white",
            "linecolor": "white",
            "ticks": ""
           }
          },
          "scene": {
           "xaxis": {
            "backgroundcolor": "#E5ECF6",
            "gridcolor": "white",
            "gridwidth": 2,
            "linecolor": "white",
            "showbackground": true,
            "ticks": "",
            "zerolinecolor": "white"
           },
           "yaxis": {
            "backgroundcolor": "#E5ECF6",
            "gridcolor": "white",
            "gridwidth": 2,
            "linecolor": "white",
            "showbackground": true,
            "ticks": "",
            "zerolinecolor": "white"
           },
           "zaxis": {
            "backgroundcolor": "#E5ECF6",
            "gridcolor": "white",
            "gridwidth": 2,
            "linecolor": "white",
            "showbackground": true,
            "ticks": "",
            "zerolinecolor": "white"
           }
          },
          "shapedefaults": {
           "line": {
            "color": "#2a3f5f"
           }
          },
          "ternary": {
           "aaxis": {
            "gridcolor": "white",
            "linecolor": "white",
            "ticks": ""
           },
           "baxis": {
            "gridcolor": "white",
            "linecolor": "white",
            "ticks": ""
           },
           "bgcolor": "#E5ECF6",
           "caxis": {
            "gridcolor": "white",
            "linecolor": "white",
            "ticks": ""
           }
          },
          "title": {
           "x": 0.05
          },
          "xaxis": {
           "automargin": true,
           "gridcolor": "white",
           "linecolor": "white",
           "ticks": "",
           "title": {
            "standoff": 15
           },
           "zerolinecolor": "white",
           "zerolinewidth": 2
          },
          "yaxis": {
           "automargin": true,
           "gridcolor": "white",
           "linecolor": "white",
           "ticks": "",
           "title": {
            "standoff": 15
           },
           "zerolinecolor": "white",
           "zerolinewidth": 2
          }
         }
        },
        "xaxis": {
         "anchor": "y",
         "domain": [
          0,
          1
         ],
         "title": {
          "text": "index"
         }
        },
        "yaxis": {
         "anchor": "x",
         "domain": [
          0,
          1
         ],
         "title": {
          "text": "value"
         }
        }
       }
      }
     },
     "metadata": {},
     "output_type": "display_data"
    }
   ],
   "source": [
    "# for CS2_35\n",
    "capacity_data = pd.read_csv(\"./datasets/CALCE/CS2_35.csv\")[\"capacity\"].to_list()\n",
    "capacity_data\n",
    "px.scatter(capacity_data)"
   ]
  }
 ],
 "metadata": {
  "kernelspec": {
   "display_name": "py310",
   "language": "python",
   "name": "python3"
  },
  "language_info": {
   "codemirror_mode": {
    "name": "ipython",
    "version": 3
   },
   "file_extension": ".py",
   "mimetype": "text/x-python",
   "name": "python",
   "nbconvert_exporter": "python",
   "pygments_lexer": "ipython3",
   "version": "3.10.12"
  }
 },
 "nbformat": 4,
 "nbformat_minor": 2
}
