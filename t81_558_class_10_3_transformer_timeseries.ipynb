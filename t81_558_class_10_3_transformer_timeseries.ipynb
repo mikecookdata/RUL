{
 "cells": [
  {
   "cell_type": "markdown",
   "metadata": {
    "id": "mDV6gkLfRQFE"
   },
   "source": [
    "<a href=\"https://colab.research.google.com/github/jeffheaton/app_deep_learning/blob/main/t81_558_class_10_3_transformer_timeseries.ipynb\" target=\"_parent\"><img src=\"https://colab.research.google.com/assets/colab-badge.svg\" alt=\"Open In Colab\"/></a>"
   ]
  },
  {
   "cell_type": "code",
   "execution_count": 1,
   "metadata": {
    "colab": {
     "base_uri": "https://localhost:8080/"
    },
    "id": "_YJNQP1WRQFH",
    "outputId": "817aa75f-41e8-41fe-ee05-2ca8c5ac07b5"
   },
   "outputs": [
    {
     "name": "stdout",
     "output_type": "stream",
     "text": [
      "Using device: mps\n"
     ]
    }
   ],
   "source": [
    "import numpy as np\n",
    "import pandas as pd\n",
    "import torch\n",
    "import torch.nn as nn\n",
    "from torch.utils.data import DataLoader, TensorDataset\n",
    "from sklearn.preprocessing import StandardScaler\n",
    "from torch.optim.lr_scheduler import ReduceLROnPlateau\n",
    "import plotly.express as px\n",
    "has_mps = torch.backends.mps.is_built()\n",
    "device = \"mps\" if has_mps else \"cuda\" if torch.cuda.is_available() else \"cpu\"\n",
    "print(f\"Using device: {device}\")"
   ]
  },
  {
   "cell_type": "code",
   "execution_count": 2,
   "metadata": {},
   "outputs": [
    {
     "name": "stdout",
     "output_type": "stream",
     "text": [
      "length after downsampling: 1232\n"
     ]
    }
   ],
   "source": [
    "# Get and process data\n",
    "df = pd.read_csv(\"SN_d_tot_V2.0.csv\")\n",
    "selected_columns = ['dec_year', 'sn_value', 'year']\n",
    "df = df[selected_columns]\n",
    "df['moving_average'] = df['sn_value'].rolling(window=500).mean()\n",
    "df_downsampled = df.iloc[::50].copy()  # Selects every 10th row, starting from index 0 \n",
    "print(f'length after downsampling: {len(df_downsampled)}')\n",
    "\n",
    "df_downsampled['sn_value'] = df_downsampled['moving_average'].astype(float)\n",
    "df = df_downsampled.dropna()"
   ]
  },
  {
   "cell_type": "code",
   "execution_count": 3,
   "metadata": {},
   "outputs": [
    {
     "name": "stderr",
     "output_type": "stream",
     "text": [
      "/var/folders/qh/l2s2lgj977q5__wgv0k4tl_00000gn/T/ipykernel_33026/1242508767.py:2: SettingWithCopyWarning: \n",
      "A value is trying to be set on a copy of a slice from a DataFrame.\n",
      "Try using .loc[row_indexer,col_indexer] = value instead\n",
      "\n",
      "See the caveats in the documentation: https://pandas.pydata.org/pandas-docs/stable/user_guide/indexing.html#returning-a-view-versus-a-copy\n",
      "  df['sn_value'] = df['sn_value'].astype(float)\n"
     ]
    }
   ],
   "source": [
    "# process for training\n",
    "df['sn_value'] = df['sn_value'].astype(float)\n",
    "df_train = df[df['year'] < 2000]\n",
    "df_test = df[df['year'] >= 2000]\n",
    "\n",
    "spots_train = df_train['sn_value'].to_numpy().reshape(-1, 1)\n",
    "spots_test = df_test['sn_value'].to_numpy().reshape(-1, 1)\n",
    "\n",
    "scaler = StandardScaler()\n",
    "spots_train = scaler.fit_transform(spots_train).flatten().tolist()\n",
    "spots_test = scaler.transform(spots_test).flatten().tolist()"
   ]
  },
  {
   "cell_type": "code",
   "execution_count": 19,
   "metadata": {},
   "outputs": [],
   "source": [
    "# Sequence Data Preparation\n",
    "SEQUENCE_SIZE = 10\n",
    "\n",
    "def to_sequences(seq_size, obs):\n",
    "    x = []\n",
    "    y = []\n",
    "    for i in range(len(obs) - seq_size):\n",
    "        window = obs[i:(i + seq_size)]\n",
    "        after_window = obs[i + seq_size]\n",
    "        x.append(window)\n",
    "        y.append(after_window)\n",
    "    return torch.tensor(x, dtype=torch.float32).view(-1, seq_size, 1), torch.tensor(y, dtype=torch.float32).view(-1, 1)\n",
    "\n",
    "x_train, y_train = to_sequences(SEQUENCE_SIZE, spots_train)\n",
    "x_test, y_test = to_sequences(SEQUENCE_SIZE, spots_test)\n",
    "\n",
    "# Setup data loaders for batch\n",
    "train_dataset = TensorDataset(x_train, y_train)\n",
    "train_loader = DataLoader(train_dataset, batch_size=32, shuffle=True)\n",
    "\n",
    "test_dataset = TensorDataset(x_test, y_test)\n",
    "test_loader = DataLoader(test_dataset, batch_size=32, shuffle=False)"
   ]
  },
  {
   "cell_type": "code",
   "execution_count": 20,
   "metadata": {},
   "outputs": [],
   "source": [
    "# Positional Encoding for Transformer\n",
    "class PositionalEncoding(nn.Module):\n",
    "    def __init__(self, d_model, dropout=0.1, max_len=5000):\n",
    "        super(PositionalEncoding, self).__init__()\n",
    "        self.dropout = nn.Dropout(p=dropout)\n",
    "\n",
    "        pe = torch.zeros(max_len, d_model)\n",
    "        position = torch.arange(0, max_len, dtype=torch.float).unsqueeze(1)\n",
    "        div_term = torch.exp(torch.arange(0, d_model, 2).float() * (-np.log(10000.0) / d_model))\n",
    "        pe[:, 0::2] = torch.sin(position * div_term)\n",
    "        pe[:, 1::2] = torch.cos(position * div_term)\n",
    "        pe = pe.unsqueeze(0).transpose(0, 1)\n",
    "        self.register_buffer('pe', pe)\n",
    "\n",
    "    def forward(self, x):\n",
    "        x = x + self.pe[:x.size(0), :]\n",
    "        return self.dropout(x)\n",
    "    \n",
    "# Model definition using Transformer\n",
    "class TransformerModel(nn.Module):\n",
    "    def __init__(self, input_dim=1, d_model=64, nhead=4, num_layers=2, dropout=0.2):\n",
    "        super(TransformerModel, self).__init__()\n",
    "\n",
    "        self.encoder = nn.Linear(input_dim, d_model)\n",
    "        self.pos_encoder = PositionalEncoding(d_model, dropout)\n",
    "        encoder_layers = nn.TransformerEncoderLayer(d_model, nhead)\n",
    "        self.transformer_encoder = nn.TransformerEncoder(encoder_layers, num_layers)\n",
    "        self.decoder = nn.Linear(d_model, 1)\n",
    "\n",
    "    def forward(self, x):\n",
    "        x = self.encoder(x)\n",
    "        x = self.pos_encoder(x)\n",
    "        x = self.transformer_encoder(x)\n",
    "        x = self.decoder(x[:, -1, :])\n",
    "        return x\n",
    "\n",
    "model = TransformerModel().to(device)"
   ]
  },
  {
   "cell_type": "code",
   "execution_count": 21,
   "metadata": {},
   "outputs": [
    {
     "name": "stdout",
     "output_type": "stream",
     "text": [
      "Epoch 1/1000, Validation Loss: 0.0249\n",
      "Epoch 2/1000, Validation Loss: 0.0177\n",
      "Epoch 3/1000, Validation Loss: 0.0144\n",
      "Epoch 4/1000, Validation Loss: 0.0057\n",
      "Epoch 5/1000, Validation Loss: 0.0161\n",
      "Epoch 6/1000, Validation Loss: 0.0103\n",
      "Epoch 7/1000, Validation Loss: 0.0145\n",
      "Epoch 00008: reducing learning rate of group 0 to 5.0000e-04.\n",
      "Epoch 8/1000, Validation Loss: 0.0067\n",
      "Early stopping!\n"
     ]
    }
   ],
   "source": [
    "# Train the model\n",
    "criterion = nn.MSELoss()\n",
    "optimizer = torch.optim.Adam(model.parameters(), lr=0.001)\n",
    "scheduler = ReduceLROnPlateau(optimizer, 'min', factor=0.5, patience=3, verbose=True)\n",
    "\n",
    "epochs = 1000\n",
    "early_stop_count = 0\n",
    "min_val_loss = float('inf')\n",
    "\n",
    "for epoch in range(epochs):\n",
    "    model.train()\n",
    "    for batch in train_loader:\n",
    "        x_batch, y_batch = batch\n",
    "        x_batch, y_batch = x_batch.to(device), y_batch.to(device)\n",
    "\n",
    "        optimizer.zero_grad()\n",
    "        outputs = model(x_batch)\n",
    "        loss = criterion(outputs, y_batch)\n",
    "        loss.backward()\n",
    "        optimizer.step()\n",
    "\n",
    "    # Validation\n",
    "    model.eval()\n",
    "    val_losses = []\n",
    "    with torch.no_grad():\n",
    "        for batch in test_loader:\n",
    "            x_batch, y_batch = batch\n",
    "            x_batch, y_batch = x_batch.to(device), y_batch.to(device)\n",
    "            outputs = model(x_batch)\n",
    "            loss = criterion(outputs, y_batch)\n",
    "            val_losses.append(loss.item())\n",
    "\n",
    "    val_loss = np.mean(val_losses)\n",
    "    scheduler.step(val_loss)\n",
    "\n",
    "    if val_loss < min_val_loss:\n",
    "        min_val_loss = val_loss\n",
    "        early_stop_count = 0\n",
    "    else:\n",
    "        early_stop_count += 1\n",
    "\n",
    "    if early_stop_count >= 5:\n",
    "        print(\"Early stopping!\")\n",
    "        break\n",
    "    print(f\"Epoch {epoch + 1}/{epochs}, Validation Loss: {val_loss:.4f}\")"
   ]
  },
  {
   "cell_type": "code",
   "execution_count": 22,
   "metadata": {},
   "outputs": [
    {
     "name": "stdout",
     "output_type": "stream",
     "text": [
      "x train shape : torch.Size([1084, 10, 1])\n",
      "y train shape : torch.Size([1084, 1])\n"
     ]
    }
   ],
   "source": [
    "print(f'x train shape : {x_train.shape}')\n",
    "print(f'y train shape : {y_train.shape}')"
   ]
  },
  {
   "cell_type": "code",
   "execution_count": 37,
   "metadata": {},
   "outputs": [
    {
     "data": {
      "text/plain": [
       "68"
      ]
     },
     "execution_count": 37,
     "metadata": {},
     "output_type": "execute_result"
    }
   ],
   "source": [
    "train_dataset =TensorDataset(x_train, y_train)\n",
    "train_loader = DataLoader(train_dataset, batch_size=16, shuffle=True)\n",
    "train_loader_data = [i for i in train_loader]\n",
    "len(train_loader_data)"
   ]
  },
  {
   "cell_type": "code",
   "execution_count": 39,
   "metadata": {},
   "outputs": [
    {
     "name": "stdout",
     "output_type": "stream",
     "text": [
      "x_batch shape : torch.Size([16, 10, 1])\n",
      "y_batch shape : torch.Size([16, 1])\n",
      "x_batch shape : torch.Size([16, 10, 1])\n",
      "y_batch shape : torch.Size([16, 1])\n",
      "x_batch shape : torch.Size([16, 10, 1])\n",
      "y_batch shape : torch.Size([16, 1])\n",
      "x_batch shape : torch.Size([16, 10, 1])\n",
      "y_batch shape : torch.Size([16, 1])\n",
      "x_batch shape : torch.Size([16, 10, 1])\n",
      "y_batch shape : torch.Size([16, 1])\n",
      "x_batch shape : torch.Size([16, 10, 1])\n",
      "y_batch shape : torch.Size([16, 1])\n",
      "x_batch shape : torch.Size([16, 10, 1])\n",
      "y_batch shape : torch.Size([16, 1])\n",
      "x_batch shape : torch.Size([16, 10, 1])\n",
      "y_batch shape : torch.Size([16, 1])\n",
      "x_batch shape : torch.Size([16, 10, 1])\n",
      "y_batch shape : torch.Size([16, 1])\n",
      "x_batch shape : torch.Size([16, 10, 1])\n",
      "y_batch shape : torch.Size([16, 1])\n",
      "x_batch shape : torch.Size([16, 10, 1])\n",
      "y_batch shape : torch.Size([16, 1])\n",
      "x_batch shape : torch.Size([16, 10, 1])\n",
      "y_batch shape : torch.Size([16, 1])\n",
      "x_batch shape : torch.Size([16, 10, 1])\n",
      "y_batch shape : torch.Size([16, 1])\n",
      "x_batch shape : torch.Size([16, 10, 1])\n",
      "y_batch shape : torch.Size([16, 1])\n",
      "x_batch shape : torch.Size([16, 10, 1])\n",
      "y_batch shape : torch.Size([16, 1])\n",
      "x_batch shape : torch.Size([16, 10, 1])\n",
      "y_batch shape : torch.Size([16, 1])\n",
      "x_batch shape : torch.Size([16, 10, 1])\n",
      "y_batch shape : torch.Size([16, 1])\n",
      "x_batch shape : torch.Size([16, 10, 1])\n",
      "y_batch shape : torch.Size([16, 1])\n",
      "x_batch shape : torch.Size([16, 10, 1])\n",
      "y_batch shape : torch.Size([16, 1])\n",
      "x_batch shape : torch.Size([16, 10, 1])\n",
      "y_batch shape : torch.Size([16, 1])\n",
      "x_batch shape : torch.Size([16, 10, 1])\n",
      "y_batch shape : torch.Size([16, 1])\n",
      "x_batch shape : torch.Size([16, 10, 1])\n",
      "y_batch shape : torch.Size([16, 1])\n",
      "x_batch shape : torch.Size([16, 10, 1])\n",
      "y_batch shape : torch.Size([16, 1])\n",
      "x_batch shape : torch.Size([16, 10, 1])\n",
      "y_batch shape : torch.Size([16, 1])\n",
      "x_batch shape : torch.Size([16, 10, 1])\n",
      "y_batch shape : torch.Size([16, 1])\n",
      "x_batch shape : torch.Size([16, 10, 1])\n",
      "y_batch shape : torch.Size([16, 1])\n",
      "x_batch shape : torch.Size([16, 10, 1])\n",
      "y_batch shape : torch.Size([16, 1])\n",
      "x_batch shape : torch.Size([16, 10, 1])\n",
      "y_batch shape : torch.Size([16, 1])\n",
      "x_batch shape : torch.Size([16, 10, 1])\n",
      "y_batch shape : torch.Size([16, 1])\n",
      "x_batch shape : torch.Size([16, 10, 1])\n",
      "y_batch shape : torch.Size([16, 1])\n",
      "x_batch shape : torch.Size([16, 10, 1])\n",
      "y_batch shape : torch.Size([16, 1])\n",
      "x_batch shape : torch.Size([16, 10, 1])\n",
      "y_batch shape : torch.Size([16, 1])\n",
      "x_batch shape : torch.Size([16, 10, 1])\n",
      "y_batch shape : torch.Size([16, 1])\n",
      "x_batch shape : torch.Size([16, 10, 1])\n",
      "y_batch shape : torch.Size([16, 1])\n",
      "x_batch shape : torch.Size([16, 10, 1])\n",
      "y_batch shape : torch.Size([16, 1])\n",
      "x_batch shape : torch.Size([16, 10, 1])\n",
      "y_batch shape : torch.Size([16, 1])\n",
      "x_batch shape : torch.Size([16, 10, 1])\n",
      "y_batch shape : torch.Size([16, 1])\n",
      "x_batch shape : torch.Size([16, 10, 1])\n",
      "y_batch shape : torch.Size([16, 1])\n",
      "x_batch shape : torch.Size([16, 10, 1])\n",
      "y_batch shape : torch.Size([16, 1])\n",
      "x_batch shape : torch.Size([16, 10, 1])\n",
      "y_batch shape : torch.Size([16, 1])\n",
      "x_batch shape : torch.Size([16, 10, 1])\n",
      "y_batch shape : torch.Size([16, 1])\n",
      "x_batch shape : torch.Size([16, 10, 1])\n",
      "y_batch shape : torch.Size([16, 1])\n",
      "x_batch shape : torch.Size([16, 10, 1])\n",
      "y_batch shape : torch.Size([16, 1])\n",
      "x_batch shape : torch.Size([16, 10, 1])\n",
      "y_batch shape : torch.Size([16, 1])\n",
      "x_batch shape : torch.Size([16, 10, 1])\n",
      "y_batch shape : torch.Size([16, 1])\n",
      "x_batch shape : torch.Size([16, 10, 1])\n",
      "y_batch shape : torch.Size([16, 1])\n",
      "x_batch shape : torch.Size([16, 10, 1])\n",
      "y_batch shape : torch.Size([16, 1])\n",
      "x_batch shape : torch.Size([16, 10, 1])\n",
      "y_batch shape : torch.Size([16, 1])\n",
      "x_batch shape : torch.Size([16, 10, 1])\n",
      "y_batch shape : torch.Size([16, 1])\n",
      "x_batch shape : torch.Size([16, 10, 1])\n",
      "y_batch shape : torch.Size([16, 1])\n",
      "x_batch shape : torch.Size([16, 10, 1])\n",
      "y_batch shape : torch.Size([16, 1])\n",
      "x_batch shape : torch.Size([16, 10, 1])\n",
      "y_batch shape : torch.Size([16, 1])\n",
      "x_batch shape : torch.Size([16, 10, 1])\n",
      "y_batch shape : torch.Size([16, 1])\n",
      "x_batch shape : torch.Size([16, 10, 1])\n",
      "y_batch shape : torch.Size([16, 1])\n",
      "x_batch shape : torch.Size([16, 10, 1])\n",
      "y_batch shape : torch.Size([16, 1])\n",
      "x_batch shape : torch.Size([16, 10, 1])\n",
      "y_batch shape : torch.Size([16, 1])\n",
      "x_batch shape : torch.Size([16, 10, 1])\n",
      "y_batch shape : torch.Size([16, 1])\n",
      "x_batch shape : torch.Size([16, 10, 1])\n",
      "y_batch shape : torch.Size([16, 1])\n",
      "x_batch shape : torch.Size([16, 10, 1])\n",
      "y_batch shape : torch.Size([16, 1])\n",
      "x_batch shape : torch.Size([16, 10, 1])\n",
      "y_batch shape : torch.Size([16, 1])\n",
      "x_batch shape : torch.Size([16, 10, 1])\n",
      "y_batch shape : torch.Size([16, 1])\n",
      "x_batch shape : torch.Size([16, 10, 1])\n",
      "y_batch shape : torch.Size([16, 1])\n",
      "x_batch shape : torch.Size([16, 10, 1])\n",
      "y_batch shape : torch.Size([16, 1])\n",
      "x_batch shape : torch.Size([16, 10, 1])\n",
      "y_batch shape : torch.Size([16, 1])\n",
      "x_batch shape : torch.Size([16, 10, 1])\n",
      "y_batch shape : torch.Size([16, 1])\n",
      "x_batch shape : torch.Size([16, 10, 1])\n",
      "y_batch shape : torch.Size([16, 1])\n",
      "x_batch shape : torch.Size([16, 10, 1])\n",
      "y_batch shape : torch.Size([16, 1])\n",
      "x_batch shape : torch.Size([12, 10, 1])\n",
      "y_batch shape : torch.Size([12, 1])\n"
     ]
    }
   ],
   "source": [
    "model.train()\n",
    "for batch in train_loader:\n",
    "    x_batch, y_batch = batch\n",
    "    print(f'x_batch shape : {x_batch.shape}')\n",
    "    print(f'y_batch shape : {y_batch.shape}')"
   ]
  },
  {
   "cell_type": "code",
   "execution_count": null,
   "metadata": {},
   "outputs": [],
   "source": []
  },
  {
   "cell_type": "code",
   "execution_count": 29,
   "metadata": {},
   "outputs": [
    {
     "data": {
      "text/plain": [
       "torch.Size([1084, 10, 1])"
      ]
     },
     "execution_count": 29,
     "metadata": {},
     "output_type": "execute_result"
    }
   ],
   "source": [
    "x_train.shape"
   ]
  },
  {
   "cell_type": "code",
   "execution_count": null,
   "metadata": {},
   "outputs": [],
   "source": [
    "model.train()\n",
    "for batch in train_loader:\n",
    "    x_batch, y_batch = batch\n",
    "    x_batch, y_batch = x_batch.to(device), y_batch.to(device)\n",
    "\n",
    "    optimizer.zero_grad()\n",
    "    outputs = model(x_batch)\n",
    "    loss = criterion(outputs, y_batch)\n",
    "    loss.backward()\n",
    "    optimizer.step()\n",
    "\n",
    "# Validation\n",
    "model.eval()\n",
    "val_losses = []\n",
    "with torch.no_grad():\n",
    "    for batch in test_loader:\n",
    "        x_batch, y_batch = batch\n",
    "        x_batch, y_batch = x_batch.to(device), y_batch.to(device)\n",
    "        outputs = model(x_batch)\n",
    "        loss = criterion(outputs, y_batch)\n",
    "        val_losses.append(loss.item())\n",
    "\n",
    "val_loss = np.mean(val_losses)\n",
    "scheduler.step(val_loss)\n",
    "\n",
    "if val_loss < min_val_loss:\n",
    "    min_val_loss = val_loss\n",
    "    early_stop_count = 0\n",
    "else:\n",
    "    early_stop_count += 1\n",
    "\n",
    "if early_stop_count >= 5:\n",
    "    print(\"Early stopping!\")\n",
    "    break"
   ]
  },
  {
   "cell_type": "code",
   "execution_count": null,
   "metadata": {},
   "outputs": [
    {
     "name": "stdout",
     "output_type": "stream",
     "text": [
      "Score (RMSE): 5.4468\n"
     ]
    }
   ],
   "source": [
    "# Evaluation\n",
    "model.eval()\n",
    "predictions = []\n",
    "with torch.no_grad():\n",
    "    for batch in test_loader:\n",
    "        x_batch, y_batch = batch\n",
    "        x_batch = x_batch.to(device)\n",
    "        outputs = model(x_batch)\n",
    "        predictions.extend(outputs.squeeze().tolist())\n",
    "\n",
    "rmse = np.sqrt(np.mean((scaler.inverse_transform(np.array(predictions).reshape(-1, 1)) - scaler.inverse_transform(y_test.numpy().reshape(-1, 1)))**2))\n",
    "print(f\"Score (RMSE): {rmse:.4f}\")"
   ]
  },
  {
   "cell_type": "code",
   "execution_count": null,
   "metadata": {},
   "outputs": [],
   "source": []
  },
  {
   "cell_type": "code",
   "execution_count": null,
   "metadata": {},
   "outputs": [],
   "source": []
  },
  {
   "cell_type": "code",
   "execution_count": null,
   "metadata": {},
   "outputs": [],
   "source": []
  },
  {
   "cell_type": "code",
   "execution_count": 8,
   "metadata": {},
   "outputs": [
    {
     "data": {
      "application/vnd.plotly.v1+json": {
       "config": {
        "plotlyServerURL": "https://plot.ly"
       },
       "data": [
        {
         "hovertemplate": "variable=sn_value<br>dec_year=%{x}<br>value=%{y}<extra></extra>",
         "legendgroup": "sn_value",
         "line": {
          "color": "#636efa",
          "dash": "solid"
         },
         "marker": {
          "symbol": "circle"
         },
         "mode": "lines",
         "name": "sn_value",
         "showlegend": true,
         "type": "scattergl",
         "x": {
          "bdata": "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",
          "dtype": "f8"
         },
         "xaxis": "x",
         "y": {
          "bdata": "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",
          "dtype": "f8"
         },
         "yaxis": "y"
        },
        {
         "hovertemplate": "variable=moving_average<br>dec_year=%{x}<br>value=%{y}<extra></extra>",
         "legendgroup": "moving_average",
         "line": {
          "color": "#EF553B",
          "dash": "solid"
         },
         "marker": {
          "symbol": "circle"
         },
         "mode": "lines",
         "name": "moving_average",
         "showlegend": true,
         "type": "scattergl",
         "x": {
          "bdata": "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",
          "dtype": "f8"
         },
         "xaxis": "x",
         "y": {
          "bdata": "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",
          "dtype": "f8"
         },
         "yaxis": "y"
        }
       ],
       "layout": {
        "legend": {
         "title": {
          "text": "variable"
         },
         "tracegroupgap": 0
        },
        "template": {
         "data": {
          "bar": [
           {
            "error_x": {
             "color": "#2a3f5f"
            },
            "error_y": {
             "color": "#2a3f5f"
            },
            "marker": {
             "line": {
              "color": "#E5ECF6",
              "width": 0.5
             },
             "pattern": {
              "fillmode": "overlay",
              "size": 10,
              "solidity": 0.2
             }
            },
            "type": "bar"
           }
          ],
          "barpolar": [
           {
            "marker": {
             "line": {
              "color": "#E5ECF6",
              "width": 0.5
             },
             "pattern": {
              "fillmode": "overlay",
              "size": 10,
              "solidity": 0.2
             }
            },
            "type": "barpolar"
           }
          ],
          "carpet": [
           {
            "aaxis": {
             "endlinecolor": "#2a3f5f",
             "gridcolor": "white",
             "linecolor": "white",
             "minorgridcolor": "white",
             "startlinecolor": "#2a3f5f"
            },
            "baxis": {
             "endlinecolor": "#2a3f5f",
             "gridcolor": "white",
             "linecolor": "white",
             "minorgridcolor": "white",
             "startlinecolor": "#2a3f5f"
            },
            "type": "carpet"
           }
          ],
          "choropleth": [
           {
            "colorbar": {
             "outlinewidth": 0,
             "ticks": ""
            },
            "type": "choropleth"
           }
          ],
          "contour": [
           {
            "colorbar": {
             "outlinewidth": 0,
             "ticks": ""
            },
            "colorscale": [
             [
              0,
              "#0d0887"
             ],
             [
              0.1111111111111111,
              "#46039f"
             ],
             [
              0.2222222222222222,
              "#7201a8"
             ],
             [
              0.3333333333333333,
              "#9c179e"
             ],
             [
              0.4444444444444444,
              "#bd3786"
             ],
             [
              0.5555555555555556,
              "#d8576b"
             ],
             [
              0.6666666666666666,
              "#ed7953"
             ],
             [
              0.7777777777777778,
              "#fb9f3a"
             ],
             [
              0.8888888888888888,
              "#fdca26"
             ],
             [
              1,
              "#f0f921"
             ]
            ],
            "type": "contour"
           }
          ],
          "contourcarpet": [
           {
            "colorbar": {
             "outlinewidth": 0,
             "ticks": ""
            },
            "type": "contourcarpet"
           }
          ],
          "heatmap": [
           {
            "colorbar": {
             "outlinewidth": 0,
             "ticks": ""
            },
            "colorscale": [
             [
              0,
              "#0d0887"
             ],
             [
              0.1111111111111111,
              "#46039f"
             ],
             [
              0.2222222222222222,
              "#7201a8"
             ],
             [
              0.3333333333333333,
              "#9c179e"
             ],
             [
              0.4444444444444444,
              "#bd3786"
             ],
             [
              0.5555555555555556,
              "#d8576b"
             ],
             [
              0.6666666666666666,
              "#ed7953"
             ],
             [
              0.7777777777777778,
              "#fb9f3a"
             ],
             [
              0.8888888888888888,
              "#fdca26"
             ],
             [
              1,
              "#f0f921"
             ]
            ],
            "type": "heatmap"
           }
          ],
          "histogram": [
           {
            "marker": {
             "pattern": {
              "fillmode": "overlay",
              "size": 10,
              "solidity": 0.2
             }
            },
            "type": "histogram"
           }
          ],
          "histogram2d": [
           {
            "colorbar": {
             "outlinewidth": 0,
             "ticks": ""
            },
            "colorscale": [
             [
              0,
              "#0d0887"
             ],
             [
              0.1111111111111111,
              "#46039f"
             ],
             [
              0.2222222222222222,
              "#7201a8"
             ],
             [
              0.3333333333333333,
              "#9c179e"
             ],
             [
              0.4444444444444444,
              "#bd3786"
             ],
             [
              0.5555555555555556,
              "#d8576b"
             ],
             [
              0.6666666666666666,
              "#ed7953"
             ],
             [
              0.7777777777777778,
              "#fb9f3a"
             ],
             [
              0.8888888888888888,
              "#fdca26"
             ],
             [
              1,
              "#f0f921"
             ]
            ],
            "type": "histogram2d"
           }
          ],
          "histogram2dcontour": [
           {
            "colorbar": {
             "outlinewidth": 0,
             "ticks": ""
            },
            "colorscale": [
             [
              0,
              "#0d0887"
             ],
             [
              0.1111111111111111,
              "#46039f"
             ],
             [
              0.2222222222222222,
              "#7201a8"
             ],
             [
              0.3333333333333333,
              "#9c179e"
             ],
             [
              0.4444444444444444,
              "#bd3786"
             ],
             [
              0.5555555555555556,
              "#d8576b"
             ],
             [
              0.6666666666666666,
              "#ed7953"
             ],
             [
              0.7777777777777778,
              "#fb9f3a"
             ],
             [
              0.8888888888888888,
              "#fdca26"
             ],
             [
              1,
              "#f0f921"
             ]
            ],
            "type": "histogram2dcontour"
           }
          ],
          "mesh3d": [
           {
            "colorbar": {
             "outlinewidth": 0,
             "ticks": ""
            },
            "type": "mesh3d"
           }
          ],
          "parcoords": [
           {
            "line": {
             "colorbar": {
              "outlinewidth": 0,
              "ticks": ""
             }
            },
            "type": "parcoords"
           }
          ],
          "pie": [
           {
            "automargin": true,
            "type": "pie"
           }
          ],
          "scatter": [
           {
            "fillpattern": {
             "fillmode": "overlay",
             "size": 10,
             "solidity": 0.2
            },
            "type": "scatter"
           }
          ],
          "scatter3d": [
           {
            "line": {
             "colorbar": {
              "outlinewidth": 0,
              "ticks": ""
             }
            },
            "marker": {
             "colorbar": {
              "outlinewidth": 0,
              "ticks": ""
             }
            },
            "type": "scatter3d"
           }
          ],
          "scattercarpet": [
           {
            "marker": {
             "colorbar": {
              "outlinewidth": 0,
              "ticks": ""
             }
            },
            "type": "scattercarpet"
           }
          ],
          "scattergeo": [
           {
            "marker": {
             "colorbar": {
              "outlinewidth": 0,
              "ticks": ""
             }
            },
            "type": "scattergeo"
           }
          ],
          "scattergl": [
           {
            "marker": {
             "colorbar": {
              "outlinewidth": 0,
              "ticks": ""
             }
            },
            "type": "scattergl"
           }
          ],
          "scattermap": [
           {
            "marker": {
             "colorbar": {
              "outlinewidth": 0,
              "ticks": ""
             }
            },
            "type": "scattermap"
           }
          ],
          "scattermapbox": [
           {
            "marker": {
             "colorbar": {
              "outlinewidth": 0,
              "ticks": ""
             }
            },
            "type": "scattermapbox"
           }
          ],
          "scatterpolar": [
           {
            "marker": {
             "colorbar": {
              "outlinewidth": 0,
              "ticks": ""
             }
            },
            "type": "scatterpolar"
           }
          ],
          "scatterpolargl": [
           {
            "marker": {
             "colorbar": {
              "outlinewidth": 0,
              "ticks": ""
             }
            },
            "type": "scatterpolargl"
           }
          ],
          "scatterternary": [
           {
            "marker": {
             "colorbar": {
              "outlinewidth": 0,
              "ticks": ""
             }
            },
            "type": "scatterternary"
           }
          ],
          "surface": [
           {
            "colorbar": {
             "outlinewidth": 0,
             "ticks": ""
            },
            "colorscale": [
             [
              0,
              "#0d0887"
             ],
             [
              0.1111111111111111,
              "#46039f"
             ],
             [
              0.2222222222222222,
              "#7201a8"
             ],
             [
              0.3333333333333333,
              "#9c179e"
             ],
             [
              0.4444444444444444,
              "#bd3786"
             ],
             [
              0.5555555555555556,
              "#d8576b"
             ],
             [
              0.6666666666666666,
              "#ed7953"
             ],
             [
              0.7777777777777778,
              "#fb9f3a"
             ],
             [
              0.8888888888888888,
              "#fdca26"
             ],
             [
              1,
              "#f0f921"
             ]
            ],
            "type": "surface"
           }
          ],
          "table": [
           {
            "cells": {
             "fill": {
              "color": "#EBF0F8"
             },
             "line": {
              "color": "white"
             }
            },
            "header": {
             "fill": {
              "color": "#C8D4E3"
             },
             "line": {
              "color": "white"
             }
            },
            "type": "table"
           }
          ]
         },
         "layout": {
          "annotationdefaults": {
           "arrowcolor": "#2a3f5f",
           "arrowhead": 0,
           "arrowwidth": 1
          },
          "autotypenumbers": "strict",
          "coloraxis": {
           "colorbar": {
            "outlinewidth": 0,
            "ticks": ""
           }
          },
          "colorscale": {
           "diverging": [
            [
             0,
             "#8e0152"
            ],
            [
             0.1,
             "#c51b7d"
            ],
            [
             0.2,
             "#de77ae"
            ],
            [
             0.3,
             "#f1b6da"
            ],
            [
             0.4,
             "#fde0ef"
            ],
            [
             0.5,
             "#f7f7f7"
            ],
            [
             0.6,
             "#e6f5d0"
            ],
            [
             0.7,
             "#b8e186"
            ],
            [
             0.8,
             "#7fbc41"
            ],
            [
             0.9,
             "#4d9221"
            ],
            [
             1,
             "#276419"
            ]
           ],
           "sequential": [
            [
             0,
             "#0d0887"
            ],
            [
             0.1111111111111111,
             "#46039f"
            ],
            [
             0.2222222222222222,
             "#7201a8"
            ],
            [
             0.3333333333333333,
             "#9c179e"
            ],
            [
             0.4444444444444444,
             "#bd3786"
            ],
            [
             0.5555555555555556,
             "#d8576b"
            ],
            [
             0.6666666666666666,
             "#ed7953"
            ],
            [
             0.7777777777777778,
             "#fb9f3a"
            ],
            [
             0.8888888888888888,
             "#fdca26"
            ],
            [
             1,
             "#f0f921"
            ]
           ],
           "sequentialminus": [
            [
             0,
             "#0d0887"
            ],
            [
             0.1111111111111111,
             "#46039f"
            ],
            [
             0.2222222222222222,
             "#7201a8"
            ],
            [
             0.3333333333333333,
             "#9c179e"
            ],
            [
             0.4444444444444444,
             "#bd3786"
            ],
            [
             0.5555555555555556,
             "#d8576b"
            ],
            [
             0.6666666666666666,
             "#ed7953"
            ],
            [
             0.7777777777777778,
             "#fb9f3a"
            ],
            [
             0.8888888888888888,
             "#fdca26"
            ],
            [
             1,
             "#f0f921"
            ]
           ]
          },
          "colorway": [
           "#636efa",
           "#EF553B",
           "#00cc96",
           "#ab63fa",
           "#FFA15A",
           "#19d3f3",
           "#FF6692",
           "#B6E880",
           "#FF97FF",
           "#FECB52"
          ],
          "font": {
           "color": "#2a3f5f"
          },
          "geo": {
           "bgcolor": "white",
           "lakecolor": "white",
           "landcolor": "#E5ECF6",
           "showlakes": true,
           "showland": true,
           "subunitcolor": "white"
          },
          "hoverlabel": {
           "align": "left"
          },
          "hovermode": "closest",
          "mapbox": {
           "style": "light"
          },
          "paper_bgcolor": "white",
          "plot_bgcolor": "#E5ECF6",
          "polar": {
           "angularaxis": {
            "gridcolor": "white",
            "linecolor": "white",
            "ticks": ""
           },
           "bgcolor": "#E5ECF6",
           "radialaxis": {
            "gridcolor": "white",
            "linecolor": "white",
            "ticks": ""
           }
          },
          "scene": {
           "xaxis": {
            "backgroundcolor": "#E5ECF6",
            "gridcolor": "white",
            "gridwidth": 2,
            "linecolor": "white",
            "showbackground": true,
            "ticks": "",
            "zerolinecolor": "white"
           },
           "yaxis": {
            "backgroundcolor": "#E5ECF6",
            "gridcolor": "white",
            "gridwidth": 2,
            "linecolor": "white",
            "showbackground": true,
            "ticks": "",
            "zerolinecolor": "white"
           },
           "zaxis": {
            "backgroundcolor": "#E5ECF6",
            "gridcolor": "white",
            "gridwidth": 2,
            "linecolor": "white",
            "showbackground": true,
            "ticks": "",
            "zerolinecolor": "white"
           }
          },
          "shapedefaults": {
           "line": {
            "color": "#2a3f5f"
           }
          },
          "ternary": {
           "aaxis": {
            "gridcolor": "white",
            "linecolor": "white",
            "ticks": ""
           },
           "baxis": {
            "gridcolor": "white",
            "linecolor": "white",
            "ticks": ""
           },
           "bgcolor": "#E5ECF6",
           "caxis": {
            "gridcolor": "white",
            "linecolor": "white",
            "ticks": ""
           }
          },
          "title": {
           "x": 0.05
          },
          "xaxis": {
           "automargin": true,
           "gridcolor": "white",
           "linecolor": "white",
           "ticks": "",
           "title": {
            "standoff": 15
           },
           "zerolinecolor": "white",
           "zerolinewidth": 2
          },
          "yaxis": {
           "automargin": true,
           "gridcolor": "white",
           "linecolor": "white",
           "ticks": "",
           "title": {
            "standoff": 15
           },
           "zerolinecolor": "white",
           "zerolinewidth": 2
          }
         }
        },
        "title": {
         "text": "Sunspot Value Over Time"
        },
        "xaxis": {
         "anchor": "y",
         "domain": [
          0,
          1
         ],
         "title": {
          "text": "dec_year"
         }
        },
        "yaxis": {
         "anchor": "x",
         "domain": [
          0,
          1
         ],
         "title": {
          "text": "value"
         }
        }
       }
      }
     },
     "metadata": {},
     "output_type": "display_data"
    }
   ],
   "source": [
    "px.line(df, x='dec_year', y=['sn_value', 'moving_average'], title='Sunspot Value Over Time')"
   ]
  },
  {
   "cell_type": "markdown",
   "metadata": {
    "id": "bE0PP-lpNUB-"
   },
   "source": [
    "The data preprocessing is the same as was introduced in the previous section. We will use data before the year 2000 as training, the rest is used for validation."
   ]
  },
  {
   "cell_type": "code",
   "execution_count": 9,
   "metadata": {},
   "outputs": [
    {
     "data": {
      "application/vnd.plotly.v1+json": {
       "config": {
        "plotlyServerURL": "https://plot.ly"
       },
       "data": [
        {
         "hovertemplate": "variable=0<br>index=%{x}<br>value=%{y}<extra></extra>",
         "legendgroup": "0",
         "line": {
          "color": "#636efa",
          "dash": "solid"
         },
         "marker": {
          "symbol": "circle"
         },
         "mode": "lines",
         "name": "0",
         "showlegend": true,
         "type": "scattergl",
         "x": {
          "bdata": "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",
          "dtype": "i2"
         },
         "xaxis": "x",
         "y": {
          "bdata": "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",
          "dtype": "f8"
         },
         "yaxis": "y"
        }
       ],
       "layout": {
        "legend": {
         "title": {
          "text": "variable"
         },
         "tracegroupgap": 0
        },
        "margin": {
         "t": 60
        },
        "template": {
         "data": {
          "bar": [
           {
            "error_x": {
             "color": "#2a3f5f"
            },
            "error_y": {
             "color": "#2a3f5f"
            },
            "marker": {
             "line": {
              "color": "#E5ECF6",
              "width": 0.5
             },
             "pattern": {
              "fillmode": "overlay",
              "size": 10,
              "solidity": 0.2
             }
            },
            "type": "bar"
           }
          ],
          "barpolar": [
           {
            "marker": {
             "line": {
              "color": "#E5ECF6",
              "width": 0.5
             },
             "pattern": {
              "fillmode": "overlay",
              "size": 10,
              "solidity": 0.2
             }
            },
            "type": "barpolar"
           }
          ],
          "carpet": [
           {
            "aaxis": {
             "endlinecolor": "#2a3f5f",
             "gridcolor": "white",
             "linecolor": "white",
             "minorgridcolor": "white",
             "startlinecolor": "#2a3f5f"
            },
            "baxis": {
             "endlinecolor": "#2a3f5f",
             "gridcolor": "white",
             "linecolor": "white",
             "minorgridcolor": "white",
             "startlinecolor": "#2a3f5f"
            },
            "type": "carpet"
           }
          ],
          "choropleth": [
           {
            "colorbar": {
             "outlinewidth": 0,
             "ticks": ""
            },
            "type": "choropleth"
           }
          ],
          "contour": [
           {
            "colorbar": {
             "outlinewidth": 0,
             "ticks": ""
            },
            "colorscale": [
             [
              0,
              "#0d0887"
             ],
             [
              0.1111111111111111,
              "#46039f"
             ],
             [
              0.2222222222222222,
              "#7201a8"
             ],
             [
              0.3333333333333333,
              "#9c179e"
             ],
             [
              0.4444444444444444,
              "#bd3786"
             ],
             [
              0.5555555555555556,
              "#d8576b"
             ],
             [
              0.6666666666666666,
              "#ed7953"
             ],
             [
              0.7777777777777778,
              "#fb9f3a"
             ],
             [
              0.8888888888888888,
              "#fdca26"
             ],
             [
              1,
              "#f0f921"
             ]
            ],
            "type": "contour"
           }
          ],
          "contourcarpet": [
           {
            "colorbar": {
             "outlinewidth": 0,
             "ticks": ""
            },
            "type": "contourcarpet"
           }
          ],
          "heatmap": [
           {
            "colorbar": {
             "outlinewidth": 0,
             "ticks": ""
            },
            "colorscale": [
             [
              0,
              "#0d0887"
             ],
             [
              0.1111111111111111,
              "#46039f"
             ],
             [
              0.2222222222222222,
              "#7201a8"
             ],
             [
              0.3333333333333333,
              "#9c179e"
             ],
             [
              0.4444444444444444,
              "#bd3786"
             ],
             [
              0.5555555555555556,
              "#d8576b"
             ],
             [
              0.6666666666666666,
              "#ed7953"
             ],
             [
              0.7777777777777778,
              "#fb9f3a"
             ],
             [
              0.8888888888888888,
              "#fdca26"
             ],
             [
              1,
              "#f0f921"
             ]
            ],
            "type": "heatmap"
           }
          ],
          "histogram": [
           {
            "marker": {
             "pattern": {
              "fillmode": "overlay",
              "size": 10,
              "solidity": 0.2
             }
            },
            "type": "histogram"
           }
          ],
          "histogram2d": [
           {
            "colorbar": {
             "outlinewidth": 0,
             "ticks": ""
            },
            "colorscale": [
             [
              0,
              "#0d0887"
             ],
             [
              0.1111111111111111,
              "#46039f"
             ],
             [
              0.2222222222222222,
              "#7201a8"
             ],
             [
              0.3333333333333333,
              "#9c179e"
             ],
             [
              0.4444444444444444,
              "#bd3786"
             ],
             [
              0.5555555555555556,
              "#d8576b"
             ],
             [
              0.6666666666666666,
              "#ed7953"
             ],
             [
              0.7777777777777778,
              "#fb9f3a"
             ],
             [
              0.8888888888888888,
              "#fdca26"
             ],
             [
              1,
              "#f0f921"
             ]
            ],
            "type": "histogram2d"
           }
          ],
          "histogram2dcontour": [
           {
            "colorbar": {
             "outlinewidth": 0,
             "ticks": ""
            },
            "colorscale": [
             [
              0,
              "#0d0887"
             ],
             [
              0.1111111111111111,
              "#46039f"
             ],
             [
              0.2222222222222222,
              "#7201a8"
             ],
             [
              0.3333333333333333,
              "#9c179e"
             ],
             [
              0.4444444444444444,
              "#bd3786"
             ],
             [
              0.5555555555555556,
              "#d8576b"
             ],
             [
              0.6666666666666666,
              "#ed7953"
             ],
             [
              0.7777777777777778,
              "#fb9f3a"
             ],
             [
              0.8888888888888888,
              "#fdca26"
             ],
             [
              1,
              "#f0f921"
             ]
            ],
            "type": "histogram2dcontour"
           }
          ],
          "mesh3d": [
           {
            "colorbar": {
             "outlinewidth": 0,
             "ticks": ""
            },
            "type": "mesh3d"
           }
          ],
          "parcoords": [
           {
            "line": {
             "colorbar": {
              "outlinewidth": 0,
              "ticks": ""
             }
            },
            "type": "parcoords"
           }
          ],
          "pie": [
           {
            "automargin": true,
            "type": "pie"
           }
          ],
          "scatter": [
           {
            "fillpattern": {
             "fillmode": "overlay",
             "size": 10,
             "solidity": 0.2
            },
            "type": "scatter"
           }
          ],
          "scatter3d": [
           {
            "line": {
             "colorbar": {
              "outlinewidth": 0,
              "ticks": ""
             }
            },
            "marker": {
             "colorbar": {
              "outlinewidth": 0,
              "ticks": ""
             }
            },
            "type": "scatter3d"
           }
          ],
          "scattercarpet": [
           {
            "marker": {
             "colorbar": {
              "outlinewidth": 0,
              "ticks": ""
             }
            },
            "type": "scattercarpet"
           }
          ],
          "scattergeo": [
           {
            "marker": {
             "colorbar": {
              "outlinewidth": 0,
              "ticks": ""
             }
            },
            "type": "scattergeo"
           }
          ],
          "scattergl": [
           {
            "marker": {
             "colorbar": {
              "outlinewidth": 0,
              "ticks": ""
             }
            },
            "type": "scattergl"
           }
          ],
          "scattermap": [
           {
            "marker": {
             "colorbar": {
              "outlinewidth": 0,
              "ticks": ""
             }
            },
            "type": "scattermap"
           }
          ],
          "scattermapbox": [
           {
            "marker": {
             "colorbar": {
              "outlinewidth": 0,
              "ticks": ""
             }
            },
            "type": "scattermapbox"
           }
          ],
          "scatterpolar": [
           {
            "marker": {
             "colorbar": {
              "outlinewidth": 0,
              "ticks": ""
             }
            },
            "type": "scatterpolar"
           }
          ],
          "scatterpolargl": [
           {
            "marker": {
             "colorbar": {
              "outlinewidth": 0,
              "ticks": ""
             }
            },
            "type": "scatterpolargl"
           }
          ],
          "scatterternary": [
           {
            "marker": {
             "colorbar": {
              "outlinewidth": 0,
              "ticks": ""
             }
            },
            "type": "scatterternary"
           }
          ],
          "surface": [
           {
            "colorbar": {
             "outlinewidth": 0,
             "ticks": ""
            },
            "colorscale": [
             [
              0,
              "#0d0887"
             ],
             [
              0.1111111111111111,
              "#46039f"
             ],
             [
              0.2222222222222222,
              "#7201a8"
             ],
             [
              0.3333333333333333,
              "#9c179e"
             ],
             [
              0.4444444444444444,
              "#bd3786"
             ],
             [
              0.5555555555555556,
              "#d8576b"
             ],
             [
              0.6666666666666666,
              "#ed7953"
             ],
             [
              0.7777777777777778,
              "#fb9f3a"
             ],
             [
              0.8888888888888888,
              "#fdca26"
             ],
             [
              1,
              "#f0f921"
             ]
            ],
            "type": "surface"
           }
          ],
          "table": [
           {
            "cells": {
             "fill": {
              "color": "#EBF0F8"
             },
             "line": {
              "color": "white"
             }
            },
            "header": {
             "fill": {
              "color": "#C8D4E3"
             },
             "line": {
              "color": "white"
             }
            },
            "type": "table"
           }
          ]
         },
         "layout": {
          "annotationdefaults": {
           "arrowcolor": "#2a3f5f",
           "arrowhead": 0,
           "arrowwidth": 1
          },
          "autotypenumbers": "strict",
          "coloraxis": {
           "colorbar": {
            "outlinewidth": 0,
            "ticks": ""
           }
          },
          "colorscale": {
           "diverging": [
            [
             0,
             "#8e0152"
            ],
            [
             0.1,
             "#c51b7d"
            ],
            [
             0.2,
             "#de77ae"
            ],
            [
             0.3,
             "#f1b6da"
            ],
            [
             0.4,
             "#fde0ef"
            ],
            [
             0.5,
             "#f7f7f7"
            ],
            [
             0.6,
             "#e6f5d0"
            ],
            [
             0.7,
             "#b8e186"
            ],
            [
             0.8,
             "#7fbc41"
            ],
            [
             0.9,
             "#4d9221"
            ],
            [
             1,
             "#276419"
            ]
           ],
           "sequential": [
            [
             0,
             "#0d0887"
            ],
            [
             0.1111111111111111,
             "#46039f"
            ],
            [
             0.2222222222222222,
             "#7201a8"
            ],
            [
             0.3333333333333333,
             "#9c179e"
            ],
            [
             0.4444444444444444,
             "#bd3786"
            ],
            [
             0.5555555555555556,
             "#d8576b"
            ],
            [
             0.6666666666666666,
             "#ed7953"
            ],
            [
             0.7777777777777778,
             "#fb9f3a"
            ],
            [
             0.8888888888888888,
             "#fdca26"
            ],
            [
             1,
             "#f0f921"
            ]
           ],
           "sequentialminus": [
            [
             0,
             "#0d0887"
            ],
            [
             0.1111111111111111,
             "#46039f"
            ],
            [
             0.2222222222222222,
             "#7201a8"
            ],
            [
             0.3333333333333333,
             "#9c179e"
            ],
            [
             0.4444444444444444,
             "#bd3786"
            ],
            [
             0.5555555555555556,
             "#d8576b"
            ],
            [
             0.6666666666666666,
             "#ed7953"
            ],
            [
             0.7777777777777778,
             "#fb9f3a"
            ],
            [
             0.8888888888888888,
             "#fdca26"
            ],
            [
             1,
             "#f0f921"
            ]
           ]
          },
          "colorway": [
           "#636efa",
           "#EF553B",
           "#00cc96",
           "#ab63fa",
           "#FFA15A",
           "#19d3f3",
           "#FF6692",
           "#B6E880",
           "#FF97FF",
           "#FECB52"
          ],
          "font": {
           "color": "#2a3f5f"
          },
          "geo": {
           "bgcolor": "white",
           "lakecolor": "white",
           "landcolor": "#E5ECF6",
           "showlakes": true,
           "showland": true,
           "subunitcolor": "white"
          },
          "hoverlabel": {
           "align": "left"
          },
          "hovermode": "closest",
          "mapbox": {
           "style": "light"
          },
          "paper_bgcolor": "white",
          "plot_bgcolor": "#E5ECF6",
          "polar": {
           "angularaxis": {
            "gridcolor": "white",
            "linecolor": "white",
            "ticks": ""
           },
           "bgcolor": "#E5ECF6",
           "radialaxis": {
            "gridcolor": "white",
            "linecolor": "white",
            "ticks": ""
           }
          },
          "scene": {
           "xaxis": {
            "backgroundcolor": "#E5ECF6",
            "gridcolor": "white",
            "gridwidth": 2,
            "linecolor": "white",
            "showbackground": true,
            "ticks": "",
            "zerolinecolor": "white"
           },
           "yaxis": {
            "backgroundcolor": "#E5ECF6",
            "gridcolor": "white",
            "gridwidth": 2,
            "linecolor": "white",
            "showbackground": true,
            "ticks": "",
            "zerolinecolor": "white"
           },
           "zaxis": {
            "backgroundcolor": "#E5ECF6",
            "gridcolor": "white",
            "gridwidth": 2,
            "linecolor": "white",
            "showbackground": true,
            "ticks": "",
            "zerolinecolor": "white"
           }
          },
          "shapedefaults": {
           "line": {
            "color": "#2a3f5f"
           }
          },
          "ternary": {
           "aaxis": {
            "gridcolor": "white",
            "linecolor": "white",
            "ticks": ""
           },
           "baxis": {
            "gridcolor": "white",
            "linecolor": "white",
            "ticks": ""
           },
           "bgcolor": "#E5ECF6",
           "caxis": {
            "gridcolor": "white",
            "linecolor": "white",
            "ticks": ""
           }
          },
          "title": {
           "x": 0.05
          },
          "xaxis": {
           "automargin": true,
           "gridcolor": "white",
           "linecolor": "white",
           "ticks": "",
           "title": {
            "standoff": 15
           },
           "zerolinecolor": "white",
           "zerolinewidth": 2
          },
          "yaxis": {
           "automargin": true,
           "gridcolor": "white",
           "linecolor": "white",
           "ticks": "",
           "title": {
            "standoff": 15
           },
           "zerolinecolor": "white",
           "zerolinewidth": 2
          }
         }
        },
        "xaxis": {
         "anchor": "y",
         "domain": [
          0,
          1
         ],
         "title": {
          "text": "index"
         }
        },
        "yaxis": {
         "anchor": "x",
         "domain": [
          0,
          1
         ],
         "title": {
          "text": "value"
         }
        }
       }
      }
     },
     "metadata": {},
     "output_type": "display_data"
    }
   ],
   "source": [
    "px.line(spots_train)"
   ]
  },
  {
   "cell_type": "code",
   "execution_count": 10,
   "metadata": {},
   "outputs": [
    {
     "data": {
      "application/vnd.plotly.v1+json": {
       "config": {
        "plotlyServerURL": "https://plot.ly"
       },
       "data": [
        {
         "hovertemplate": "variable=0<br>index=%{x}<br>value=%{y}<extra></extra>",
         "legendgroup": "0",
         "line": {
          "color": "#636efa",
          "dash": "solid"
         },
         "marker": {
          "symbol": "circle"
         },
         "mode": "lines",
         "name": "0",
         "orientation": "v",
         "showlegend": true,
         "type": "scatter",
         "x": {
          "bdata": "AAECAwQFBgcICQoLDA0ODxAREhMUFRYXGBkaGxwdHh8gISIjJCUmJygpKissLS4vMDEyMzQ1Njc4OTo7PD0+P0BBQkNERUZHSElKS0xNTk9QUVJTVFVWV1hZWltcXV5fYGFiY2RlZmdoaWprbG1ub3BxcnN0dXZ3eHl6e3x9fn8=",
          "dtype": "i1"
         },
         "xaxis": "x",
         "y": {
          "bdata": "TeYC7mWs5T/k1hlKLnrrPxv1wfB2Me8/hiEoc/D78T95bs8/9Ln0PyTPdSvxQvU/Xo1rXHlH9D8Lox2N6Vv0P+ZPkoEtxPM/XyFrB1xA9D8N8hmXo1f1P3dH0ov/r/M/Y4qA73Fv9D8VFUW1KoH0P/iWz+ahH/Q/ADjpIN2V9D/mpYFHHB/1P+mwfFJ+BfY/g3rnLHxP9j8sy4gcGYP2PwrYALlHJPY/MJCZXexj9j8f3HR69PjzPxJZYS3tdfE/Lmwpw3Vs7T8lniG74XTqP//RsYRv/+c/Dr0pg/tn4j/i9Y2Ex7rgP4qBznAoANU/iSlx1Jt5xz8yFNhMvnuuP465CfgkR3S/jdDuBavylL/M4E1Thjq1vyixa8RqDsK/Lv0tSIu10b8RE52rem3UvwiwJ6ueL9q/c6/VYKFN2r/ljpReOYjbv5xsXX3ZHN2/JmHptU+A4b/r4eqSISLjv7ZD/1lZyOS/D2tA86GK57/6XvJMWk7nvzTazafwRei/98LHirJn6b9s8YKSBJ7rvzO7j18sxOy/ZjRMNswk7r+3JY3BkG/uvzYZJHmVKvC/B5NoU/IT8L8OGIDkmmbwvzTLDphBN/G/a8rkoVrS8b8G5E0o4//xvzMF/LSdbvK/MgDyw5//8r/5HgcuUHjzvyRMsmc9tfO/YiWon4f187+LjUKYoVH0vzS25DF5k/S/kepa04Sy9L8ZPHeyHbn0vy1IxVhl9fS/gDITKPXg9L/o2LDxQSX1v0WtI+tiC/W/GVh5W7Dc9L9q7sAviF30v7oYCK9C1/O/LIbVPVmT878TEXKv+yfzv33dJQTXbfK/mTSeHmvF8b+YAaS9Q+3wvwjza/vcTPC/ahVfIDIp7r9+XtaCB/vqv7yu4pM7COm/5wKm+ocu578nj9kleeniv6AZj92xQNq/YiD7WDy70b+LIIC5Y67LvyBCFJDG4cS/fatucVhznL+cMJn8Ur2VP8fOHQn0hrA/TZjLPkj9tz/i6efky+u8P5Bo5e8m7rY/ElLEbI3/Z78XaPWM67x4P3uK0gaVPaE/sZ8ye90/qz92gUkZKYh/v1V62uXghaQ/qmJ7iJeLtD/P8pfJRQvGP2xnjlsmnc4/M1OaG6ve0T9gyTXMg8DUPyVERo/x6tQ/hdi/2OdC1T+3/lzdNUHYP6YzJck+Qtg/NCqZIxUF0z9kQJGnMZPNP3zDV7spi70/XfTcyhfRmj+BpjyebreSv8puQWua3La/vhBu4le7x78gVARw9TDQv4G3NjEm4ta/hQEO0XeP27/1TrbuY8Hdvx7Az3sUCuG/0Jt5Fr4H479kubQytBXlv0b+FaidHui/HPNdMad86b/Npgh2i4jrvw==",
          "dtype": "f8"
         },
         "yaxis": "y"
        }
       ],
       "layout": {
        "legend": {
         "title": {
          "text": "variable"
         },
         "tracegroupgap": 0
        },
        "margin": {
         "t": 60
        },
        "template": {
         "data": {
          "bar": [
           {
            "error_x": {
             "color": "#2a3f5f"
            },
            "error_y": {
             "color": "#2a3f5f"
            },
            "marker": {
             "line": {
              "color": "#E5ECF6",
              "width": 0.5
             },
             "pattern": {
              "fillmode": "overlay",
              "size": 10,
              "solidity": 0.2
             }
            },
            "type": "bar"
           }
          ],
          "barpolar": [
           {
            "marker": {
             "line": {
              "color": "#E5ECF6",
              "width": 0.5
             },
             "pattern": {
              "fillmode": "overlay",
              "size": 10,
              "solidity": 0.2
             }
            },
            "type": "barpolar"
           }
          ],
          "carpet": [
           {
            "aaxis": {
             "endlinecolor": "#2a3f5f",
             "gridcolor": "white",
             "linecolor": "white",
             "minorgridcolor": "white",
             "startlinecolor": "#2a3f5f"
            },
            "baxis": {
             "endlinecolor": "#2a3f5f",
             "gridcolor": "white",
             "linecolor": "white",
             "minorgridcolor": "white",
             "startlinecolor": "#2a3f5f"
            },
            "type": "carpet"
           }
          ],
          "choropleth": [
           {
            "colorbar": {
             "outlinewidth": 0,
             "ticks": ""
            },
            "type": "choropleth"
           }
          ],
          "contour": [
           {
            "colorbar": {
             "outlinewidth": 0,
             "ticks": ""
            },
            "colorscale": [
             [
              0,
              "#0d0887"
             ],
             [
              0.1111111111111111,
              "#46039f"
             ],
             [
              0.2222222222222222,
              "#7201a8"
             ],
             [
              0.3333333333333333,
              "#9c179e"
             ],
             [
              0.4444444444444444,
              "#bd3786"
             ],
             [
              0.5555555555555556,
              "#d8576b"
             ],
             [
              0.6666666666666666,
              "#ed7953"
             ],
             [
              0.7777777777777778,
              "#fb9f3a"
             ],
             [
              0.8888888888888888,
              "#fdca26"
             ],
             [
              1,
              "#f0f921"
             ]
            ],
            "type": "contour"
           }
          ],
          "contourcarpet": [
           {
            "colorbar": {
             "outlinewidth": 0,
             "ticks": ""
            },
            "type": "contourcarpet"
           }
          ],
          "heatmap": [
           {
            "colorbar": {
             "outlinewidth": 0,
             "ticks": ""
            },
            "colorscale": [
             [
              0,
              "#0d0887"
             ],
             [
              0.1111111111111111,
              "#46039f"
             ],
             [
              0.2222222222222222,
              "#7201a8"
             ],
             [
              0.3333333333333333,
              "#9c179e"
             ],
             [
              0.4444444444444444,
              "#bd3786"
             ],
             [
              0.5555555555555556,
              "#d8576b"
             ],
             [
              0.6666666666666666,
              "#ed7953"
             ],
             [
              0.7777777777777778,
              "#fb9f3a"
             ],
             [
              0.8888888888888888,
              "#fdca26"
             ],
             [
              1,
              "#f0f921"
             ]
            ],
            "type": "heatmap"
           }
          ],
          "histogram": [
           {
            "marker": {
             "pattern": {
              "fillmode": "overlay",
              "size": 10,
              "solidity": 0.2
             }
            },
            "type": "histogram"
           }
          ],
          "histogram2d": [
           {
            "colorbar": {
             "outlinewidth": 0,
             "ticks": ""
            },
            "colorscale": [
             [
              0,
              "#0d0887"
             ],
             [
              0.1111111111111111,
              "#46039f"
             ],
             [
              0.2222222222222222,
              "#7201a8"
             ],
             [
              0.3333333333333333,
              "#9c179e"
             ],
             [
              0.4444444444444444,
              "#bd3786"
             ],
             [
              0.5555555555555556,
              "#d8576b"
             ],
             [
              0.6666666666666666,
              "#ed7953"
             ],
             [
              0.7777777777777778,
              "#fb9f3a"
             ],
             [
              0.8888888888888888,
              "#fdca26"
             ],
             [
              1,
              "#f0f921"
             ]
            ],
            "type": "histogram2d"
           }
          ],
          "histogram2dcontour": [
           {
            "colorbar": {
             "outlinewidth": 0,
             "ticks": ""
            },
            "colorscale": [
             [
              0,
              "#0d0887"
             ],
             [
              0.1111111111111111,
              "#46039f"
             ],
             [
              0.2222222222222222,
              "#7201a8"
             ],
             [
              0.3333333333333333,
              "#9c179e"
             ],
             [
              0.4444444444444444,
              "#bd3786"
             ],
             [
              0.5555555555555556,
              "#d8576b"
             ],
             [
              0.6666666666666666,
              "#ed7953"
             ],
             [
              0.7777777777777778,
              "#fb9f3a"
             ],
             [
              0.8888888888888888,
              "#fdca26"
             ],
             [
              1,
              "#f0f921"
             ]
            ],
            "type": "histogram2dcontour"
           }
          ],
          "mesh3d": [
           {
            "colorbar": {
             "outlinewidth": 0,
             "ticks": ""
            },
            "type": "mesh3d"
           }
          ],
          "parcoords": [
           {
            "line": {
             "colorbar": {
              "outlinewidth": 0,
              "ticks": ""
             }
            },
            "type": "parcoords"
           }
          ],
          "pie": [
           {
            "automargin": true,
            "type": "pie"
           }
          ],
          "scatter": [
           {
            "fillpattern": {
             "fillmode": "overlay",
             "size": 10,
             "solidity": 0.2
            },
            "type": "scatter"
           }
          ],
          "scatter3d": [
           {
            "line": {
             "colorbar": {
              "outlinewidth": 0,
              "ticks": ""
             }
            },
            "marker": {
             "colorbar": {
              "outlinewidth": 0,
              "ticks": ""
             }
            },
            "type": "scatter3d"
           }
          ],
          "scattercarpet": [
           {
            "marker": {
             "colorbar": {
              "outlinewidth": 0,
              "ticks": ""
             }
            },
            "type": "scattercarpet"
           }
          ],
          "scattergeo": [
           {
            "marker": {
             "colorbar": {
              "outlinewidth": 0,
              "ticks": ""
             }
            },
            "type": "scattergeo"
           }
          ],
          "scattergl": [
           {
            "marker": {
             "colorbar": {
              "outlinewidth": 0,
              "ticks": ""
             }
            },
            "type": "scattergl"
           }
          ],
          "scattermap": [
           {
            "marker": {
             "colorbar": {
              "outlinewidth": 0,
              "ticks": ""
             }
            },
            "type": "scattermap"
           }
          ],
          "scattermapbox": [
           {
            "marker": {
             "colorbar": {
              "outlinewidth": 0,
              "ticks": ""
             }
            },
            "type": "scattermapbox"
           }
          ],
          "scatterpolar": [
           {
            "marker": {
             "colorbar": {
              "outlinewidth": 0,
              "ticks": ""
             }
            },
            "type": "scatterpolar"
           }
          ],
          "scatterpolargl": [
           {
            "marker": {
             "colorbar": {
              "outlinewidth": 0,
              "ticks": ""
             }
            },
            "type": "scatterpolargl"
           }
          ],
          "scatterternary": [
           {
            "marker": {
             "colorbar": {
              "outlinewidth": 0,
              "ticks": ""
             }
            },
            "type": "scatterternary"
           }
          ],
          "surface": [
           {
            "colorbar": {
             "outlinewidth": 0,
             "ticks": ""
            },
            "colorscale": [
             [
              0,
              "#0d0887"
             ],
             [
              0.1111111111111111,
              "#46039f"
             ],
             [
              0.2222222222222222,
              "#7201a8"
             ],
             [
              0.3333333333333333,
              "#9c179e"
             ],
             [
              0.4444444444444444,
              "#bd3786"
             ],
             [
              0.5555555555555556,
              "#d8576b"
             ],
             [
              0.6666666666666666,
              "#ed7953"
             ],
             [
              0.7777777777777778,
              "#fb9f3a"
             ],
             [
              0.8888888888888888,
              "#fdca26"
             ],
             [
              1,
              "#f0f921"
             ]
            ],
            "type": "surface"
           }
          ],
          "table": [
           {
            "cells": {
             "fill": {
              "color": "#EBF0F8"
             },
             "line": {
              "color": "white"
             }
            },
            "header": {
             "fill": {
              "color": "#C8D4E3"
             },
             "line": {
              "color": "white"
             }
            },
            "type": "table"
           }
          ]
         },
         "layout": {
          "annotationdefaults": {
           "arrowcolor": "#2a3f5f",
           "arrowhead": 0,
           "arrowwidth": 1
          },
          "autotypenumbers": "strict",
          "coloraxis": {
           "colorbar": {
            "outlinewidth": 0,
            "ticks": ""
           }
          },
          "colorscale": {
           "diverging": [
            [
             0,
             "#8e0152"
            ],
            [
             0.1,
             "#c51b7d"
            ],
            [
             0.2,
             "#de77ae"
            ],
            [
             0.3,
             "#f1b6da"
            ],
            [
             0.4,
             "#fde0ef"
            ],
            [
             0.5,
             "#f7f7f7"
            ],
            [
             0.6,
             "#e6f5d0"
            ],
            [
             0.7,
             "#b8e186"
            ],
            [
             0.8,
             "#7fbc41"
            ],
            [
             0.9,
             "#4d9221"
            ],
            [
             1,
             "#276419"
            ]
           ],
           "sequential": [
            [
             0,
             "#0d0887"
            ],
            [
             0.1111111111111111,
             "#46039f"
            ],
            [
             0.2222222222222222,
             "#7201a8"
            ],
            [
             0.3333333333333333,
             "#9c179e"
            ],
            [
             0.4444444444444444,
             "#bd3786"
            ],
            [
             0.5555555555555556,
             "#d8576b"
            ],
            [
             0.6666666666666666,
             "#ed7953"
            ],
            [
             0.7777777777777778,
             "#fb9f3a"
            ],
            [
             0.8888888888888888,
             "#fdca26"
            ],
            [
             1,
             "#f0f921"
            ]
           ],
           "sequentialminus": [
            [
             0,
             "#0d0887"
            ],
            [
             0.1111111111111111,
             "#46039f"
            ],
            [
             0.2222222222222222,
             "#7201a8"
            ],
            [
             0.3333333333333333,
             "#9c179e"
            ],
            [
             0.4444444444444444,
             "#bd3786"
            ],
            [
             0.5555555555555556,
             "#d8576b"
            ],
            [
             0.6666666666666666,
             "#ed7953"
            ],
            [
             0.7777777777777778,
             "#fb9f3a"
            ],
            [
             0.8888888888888888,
             "#fdca26"
            ],
            [
             1,
             "#f0f921"
            ]
           ]
          },
          "colorway": [
           "#636efa",
           "#EF553B",
           "#00cc96",
           "#ab63fa",
           "#FFA15A",
           "#19d3f3",
           "#FF6692",
           "#B6E880",
           "#FF97FF",
           "#FECB52"
          ],
          "font": {
           "color": "#2a3f5f"
          },
          "geo": {
           "bgcolor": "white",
           "lakecolor": "white",
           "landcolor": "#E5ECF6",
           "showlakes": true,
           "showland": true,
           "subunitcolor": "white"
          },
          "hoverlabel": {
           "align": "left"
          },
          "hovermode": "closest",
          "mapbox": {
           "style": "light"
          },
          "paper_bgcolor": "white",
          "plot_bgcolor": "#E5ECF6",
          "polar": {
           "angularaxis": {
            "gridcolor": "white",
            "linecolor": "white",
            "ticks": ""
           },
           "bgcolor": "#E5ECF6",
           "radialaxis": {
            "gridcolor": "white",
            "linecolor": "white",
            "ticks": ""
           }
          },
          "scene": {
           "xaxis": {
            "backgroundcolor": "#E5ECF6",
            "gridcolor": "white",
            "gridwidth": 2,
            "linecolor": "white",
            "showbackground": true,
            "ticks": "",
            "zerolinecolor": "white"
           },
           "yaxis": {
            "backgroundcolor": "#E5ECF6",
            "gridcolor": "white",
            "gridwidth": 2,
            "linecolor": "white",
            "showbackground": true,
            "ticks": "",
            "zerolinecolor": "white"
           },
           "zaxis": {
            "backgroundcolor": "#E5ECF6",
            "gridcolor": "white",
            "gridwidth": 2,
            "linecolor": "white",
            "showbackground": true,
            "ticks": "",
            "zerolinecolor": "white"
           }
          },
          "shapedefaults": {
           "line": {
            "color": "#2a3f5f"
           }
          },
          "ternary": {
           "aaxis": {
            "gridcolor": "white",
            "linecolor": "white",
            "ticks": ""
           },
           "baxis": {
            "gridcolor": "white",
            "linecolor": "white",
            "ticks": ""
           },
           "bgcolor": "#E5ECF6",
           "caxis": {
            "gridcolor": "white",
            "linecolor": "white",
            "ticks": ""
           }
          },
          "title": {
           "x": 0.05
          },
          "xaxis": {
           "automargin": true,
           "gridcolor": "white",
           "linecolor": "white",
           "ticks": "",
           "title": {
            "standoff": 15
           },
           "zerolinecolor": "white",
           "zerolinewidth": 2
          },
          "yaxis": {
           "automargin": true,
           "gridcolor": "white",
           "linecolor": "white",
           "ticks": "",
           "title": {
            "standoff": 15
           },
           "zerolinecolor": "white",
           "zerolinewidth": 2
          }
         }
        },
        "xaxis": {
         "anchor": "y",
         "domain": [
          0,
          1
         ],
         "title": {
          "text": "index"
         }
        },
        "yaxis": {
         "anchor": "x",
         "domain": [
          0,
          1
         ],
         "title": {
          "text": "value"
         }
        }
       }
      }
     },
     "metadata": {},
     "output_type": "display_data"
    }
   ],
   "source": [
    "px.line(spots_test)"
   ]
  },
  {
   "cell_type": "markdown",
   "metadata": {
    "id": "GvZXHfkGTPX6"
   },
   "source": [
    "Just like we did for LSTM in the previous section, we again break the data into sequences."
   ]
  }
 ],
 "metadata": {
  "accelerator": "GPU",
  "anaconda-cloud": {},
  "colab": {
   "gpuType": "T4",
   "provenance": []
  },
  "kernelspec": {
   "display_name": "py310",
   "language": "python",
   "name": "python3"
  },
  "language_info": {
   "codemirror_mode": {
    "name": "ipython",
    "version": 3
   },
   "file_extension": ".py",
   "mimetype": "text/x-python",
   "name": "python",
   "nbconvert_exporter": "python",
   "pygments_lexer": "ipython3",
   "version": "3.10.12"
  }
 },
 "nbformat": 4,
 "nbformat_minor": 1
}
